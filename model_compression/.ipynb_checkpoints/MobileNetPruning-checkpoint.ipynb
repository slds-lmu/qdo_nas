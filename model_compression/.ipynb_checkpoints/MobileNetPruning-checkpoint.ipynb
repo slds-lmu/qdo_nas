{
 "cells": [
  {
   "cell_type": "code",
   "execution_count": 3,
   "metadata": {},
   "outputs": [],
   "source": [
    "%load_ext autoreload\n",
    "%autoreload 2\n",
    "import os\n",
    "import sys\n",
    "import xml\n",
    "from pathlib import Path\n",
    "from dataclasses import dataclass\n",
    "from PIL import Image\n",
    "import matplotlib.pyplot as plt\n",
    "from ConfigSpace.read_and_write import json\n",
    "\n",
    "import torch\n",
    "import torch.nn as nn\n",
    "import torch.nn.functional as F\n",
    "import numpy as np\n",
    "\n",
    "sys.path.insert(1, os.path.join(os.getcwd()  , ''))\n",
    "\n",
    "from nni.compression.pytorch import ModelSpeedup\n",
    "from nni.compression.pytorch.utils.counter import count_flops_params\n",
    "\n",
    "from utils import create_model, get_dataloader, parse_bool, Args\n",
    "from  pruning_experiments import run_pruning\n",
    "\n",
    "device = torch.device(\"cuda\" if torch.cuda.is_available() else \"cpu\")\n",
    "\n",
    "num_workers = 16\n",
    "torch.set_num_threads(num_workers)\n"
   ]
  },
  {
   "cell_type": "markdown",
   "metadata": {},
   "source": [
    "# Preparation Steps:\n",
    "- Make sure **pytorch, nni and tensorboard and ConfigSpace** are installed\n",
    "- Run \"Compressing MobileNetPruning.ipynb\" to download data and obtain the pretrained model(s)"
   ]
  },
  {
   "cell_type": "code",
   "execution_count": 10,
   "metadata": {},
   "outputs": [
    {
     "data": {
      "text/plain": [
       "Args(checkpoint_name='checkpoint_best.pt', model_type='resnet18', pruning_mode='conv0', sparsity=0.8940086412808064, pruner_name='apoz', agp_pruning_alg='l1', agp_n_iters=1, agp_n_epochs_per_iter=1, speed_up=True, n_workers=16, finetune_epochs=1, learning_rate=0.0004588689990607736, weight_decay=0.07490407353809612, batch_size=32, kd=False, alpha=0.99, temp=8.0, experiment_dir='experiments/')"
      ]
     },
     "execution_count": 10,
     "metadata": {},
     "output_type": "execute_result"
    }
   ],
   "source": [
    "\n",
    "with open('config_space.json', 'r') as f:\n",
    "        json_string = f.read()\n",
    "        config = json.read(json_string)\n",
    "cfg = parse_bool(config.sample_configuration().get_dictionary())\n",
    "args = Args(**cfg)\n",
    "\n",
    "# Speed Up Experiments\n",
    "args.agp_n_iters = 1\n",
    "args.agp_n_epochs_per_iter = 1\n",
    "args.finetune_epochs = 1\n",
    "args.speed_up = True\n",
    "args"
   ]
  },
  {
   "cell_type": "code",
   "execution_count": 5,
   "metadata": {},
   "outputs": [
    {
     "name": "stdout",
     "output_type": "stream",
     "text": [
      "Args(checkpoint_name='checkpoint_best.pt', model_type='efficientnet_se_b0', pruning_mode='all', sparsity=0.29824040318987544, pruner_name='slim', agp_pruning_alg='l1', agp_n_iters=1, agp_n_epochs_per_iter=1, speed_up=False, n_workers=16, finetune_epochs=1, learning_rate=0.005328706798031043, weight_decay=0.01917611365586727, batch_size=32, kd=False, alpha=0.99, temp=8.0, experiment_dir='experiments/')\n",
      "pretrained_efficientnet_se_b0/\n"
     ]
    },
    {
     "name": "stderr",
     "output_type": "stream",
     "text": [
      "Using cache found in /home/flo/.cache/torch/hub/NVIDIA_DeepLearningExamples_torchhub\n",
      "/home/flo/.cache/torch/hub/NVIDIA_DeepLearningExamples_torchhub/PyTorch/Classification/ConvNets/image_classification/models/common.py:13: UserWarning: pytorch_quantization module not found, quantization will not be available\n",
      "  warnings.warn(\n",
      "/home/flo/.cache/torch/hub/NVIDIA_DeepLearningExamples_torchhub/PyTorch/Classification/ConvNets/image_classification/models/efficientnet.py:17: UserWarning: pytorch_quantization module not found, quantization will not be available\n",
      "  warnings.warn(\n"
     ]
    },
    {
     "name": "stdout",
     "output_type": "stream",
     "text": [
      "+-------+-----------------------------+--------+-------------------+----------+---------+\n",
      "| Index |             Name            |  Type  |    Weight Shape   |  FLOPs   | #Params |\n",
      "+-------+-----------------------------+--------+-------------------+----------+---------+\n",
      "|   0   |          stem.conv          | Conv2d |   (32, 3, 3, 3)   | 14155776 |   864   |\n",
      "|   1   | layers.0.block0.depsep.conv | Conv2d |   (32, 1, 3, 3)   | 4718592  |   288   |\n",
      "|   2   |  layers.0.block0.se.squeeze | Linear |      (8, 32)      |   256    |   264   |\n",
      "|   3   |  layers.0.block0.se.expand  | Linear |      (32, 8)      |   256    |   288   |\n",
      "|   4   |  layers.0.block0.proj.conv  | Conv2d |   (16, 32, 1, 1)  | 8388608  |   512   |\n",
      "|   5   | layers.1.block0.expand.conv | Conv2d |   (96, 16, 1, 1)  | 25165824 |   1536  |\n",
      "|   6   | layers.1.block0.depsep.conv | Conv2d |   (96, 1, 3, 3)   | 3538944  |   864   |\n",
      "|   7   |  layers.1.block0.se.squeeze | Linear |      (24, 96)     |   2304   |   2328  |\n",
      "|   8   |  layers.1.block0.se.expand  | Linear |      (96, 24)     |   2304   |   2400  |\n",
      "|   9   |  layers.1.block0.proj.conv  | Conv2d |   (24, 96, 1, 1)  | 9437184  |   2304  |\n",
      "|   10  | layers.1.block1.expand.conv | Conv2d |  (144, 24, 1, 1)  | 14155776 |   3456  |\n",
      "|   11  | layers.1.block1.depsep.conv | Conv2d |   (144, 1, 3, 3)  | 5308416  |   1296  |\n",
      "|   12  |  layers.1.block1.se.squeeze | Linear |     (36, 144)     |   5184   |   5220  |\n",
      "|   13  |  layers.1.block1.se.expand  | Linear |     (144, 36)     |   5184   |   5328  |\n",
      "|   14  |  layers.1.block1.proj.conv  | Conv2d |  (24, 144, 1, 1)  | 14155776 |   3456  |\n",
      "|   15  | layers.2.block0.expand.conv | Conv2d |  (144, 24, 1, 1)  | 14155776 |   3456  |\n",
      "|   16  | layers.2.block0.depsep.conv | Conv2d |   (144, 1, 5, 5)  | 3686400  |   3600  |\n",
      "|   17  |  layers.2.block0.se.squeeze | Linear |     (36, 144)     |   5184   |   5220  |\n",
      "|   18  |  layers.2.block0.se.expand  | Linear |     (144, 36)     |   5184   |   5328  |\n",
      "|   19  |  layers.2.block0.proj.conv  | Conv2d |  (40, 144, 1, 1)  | 5898240  |   5760  |\n",
      "|   20  | layers.2.block1.expand.conv | Conv2d |  (240, 40, 1, 1)  | 9830400  |   9600  |\n",
      "|   21  | layers.2.block1.depsep.conv | Conv2d |   (240, 1, 5, 5)  | 6144000  |   6000  |\n",
      "|   22  |  layers.2.block1.se.squeeze | Linear |     (60, 240)     |  14400   |  14460  |\n",
      "|   23  |  layers.2.block1.se.expand  | Linear |     (240, 60)     |  14400   |  14640  |\n",
      "|   24  |  layers.2.block1.proj.conv  | Conv2d |  (40, 240, 1, 1)  | 9830400  |   9600  |\n",
      "|   25  | layers.3.block0.expand.conv | Conv2d |  (240, 40, 1, 1)  | 9830400  |   9600  |\n",
      "|   26  | layers.3.block0.depsep.conv | Conv2d |   (240, 1, 3, 3)  |  552960  |   2160  |\n",
      "|   27  |  layers.3.block0.se.squeeze | Linear |     (60, 240)     |  14400   |  14460  |\n",
      "|   28  |  layers.3.block0.se.expand  | Linear |     (240, 60)     |  14400   |  14640  |\n",
      "|   29  |  layers.3.block0.proj.conv  | Conv2d |  (80, 240, 1, 1)  | 4915200  |  19200  |\n",
      "|   30  | layers.3.block1.expand.conv | Conv2d |  (480, 80, 1, 1)  | 9830400  |  38400  |\n",
      "|   31  | layers.3.block1.depsep.conv | Conv2d |   (480, 1, 3, 3)  | 1105920  |   4320  |\n",
      "|   32  |  layers.3.block1.se.squeeze | Linear |     (120, 480)    |  57600   |  57720  |\n",
      "|   33  |  layers.3.block1.se.expand  | Linear |     (480, 120)    |  57600   |  58080  |\n",
      "|   34  |  layers.3.block1.proj.conv  | Conv2d |  (80, 480, 1, 1)  | 9830400  |  38400  |\n",
      "|   35  | layers.3.block2.expand.conv | Conv2d |  (480, 80, 1, 1)  | 9830400  |  38400  |\n",
      "|   36  | layers.3.block2.depsep.conv | Conv2d |   (480, 1, 3, 3)  | 1105920  |   4320  |\n",
      "|   37  |  layers.3.block2.se.squeeze | Linear |     (120, 480)    |  57600   |  57720  |\n",
      "|   38  |  layers.3.block2.se.expand  | Linear |     (480, 120)    |  57600   |  58080  |\n",
      "|   39  |  layers.3.block2.proj.conv  | Conv2d |  (80, 480, 1, 1)  | 9830400  |  38400  |\n",
      "|   40  | layers.4.block0.expand.conv | Conv2d |  (480, 80, 1, 1)  | 9830400  |  38400  |\n",
      "|   41  | layers.4.block0.depsep.conv | Conv2d |   (480, 1, 5, 5)  | 3072000  |  12000  |\n",
      "|   42  |  layers.4.block0.se.squeeze | Linear |     (120, 480)    |  57600   |  57720  |\n",
      "|   43  |  layers.4.block0.se.expand  | Linear |     (480, 120)    |  57600   |  58080  |\n",
      "|   44  |  layers.4.block0.proj.conv  | Conv2d |  (112, 480, 1, 1) | 13762560 |  53760  |\n",
      "|   45  | layers.4.block1.expand.conv | Conv2d |  (672, 112, 1, 1) | 19267584 |  75264  |\n",
      "|   46  | layers.4.block1.depsep.conv | Conv2d |   (672, 1, 5, 5)  | 4300800  |  16800  |\n",
      "|   47  |  layers.4.block1.se.squeeze | Linear |     (168, 672)    |  112896  |  113064 |\n",
      "|   48  |  layers.4.block1.se.expand  | Linear |     (672, 168)    |  112896  |  113568 |\n",
      "|   49  |  layers.4.block1.proj.conv  | Conv2d |  (112, 672, 1, 1) | 19267584 |  75264  |\n",
      "|   50  | layers.4.block2.expand.conv | Conv2d |  (672, 112, 1, 1) | 19267584 |  75264  |\n",
      "|   51  | layers.4.block2.depsep.conv | Conv2d |   (672, 1, 5, 5)  | 4300800  |  16800  |\n",
      "|   52  |  layers.4.block2.se.squeeze | Linear |     (168, 672)    |  112896  |  113064 |\n",
      "|   53  |  layers.4.block2.se.expand  | Linear |     (672, 168)    |  112896  |  113568 |\n",
      "|   54  |  layers.4.block2.proj.conv  | Conv2d |  (112, 672, 1, 1) | 19267584 |  75264  |\n",
      "|   55  | layers.5.block0.expand.conv | Conv2d |  (672, 112, 1, 1) | 19267584 |  75264  |\n",
      "|   56  | layers.5.block0.depsep.conv | Conv2d |   (672, 1, 5, 5)  | 1075200  |  16800  |\n",
      "|   57  |  layers.5.block0.se.squeeze | Linear |     (168, 672)    |  112896  |  113064 |\n",
      "|   58  |  layers.5.block0.se.expand  | Linear |     (672, 168)    |  112896  |  113568 |\n",
      "|   59  |  layers.5.block0.proj.conv  | Conv2d |  (192, 672, 1, 1) | 8257536  |  129024 |\n",
      "|   60  | layers.5.block1.expand.conv | Conv2d | (1152, 192, 1, 1) | 14155776 |  221184 |\n",
      "|   61  | layers.5.block1.depsep.conv | Conv2d |  (1152, 1, 5, 5)  | 1843200  |  28800  |\n",
      "|   62  |  layers.5.block1.se.squeeze | Linear |    (288, 1152)    |  331776  |  332064 |\n",
      "|   63  |  layers.5.block1.se.expand  | Linear |    (1152, 288)    |  331776  |  332928 |\n",
      "|   64  |  layers.5.block1.proj.conv  | Conv2d | (192, 1152, 1, 1) | 14155776 |  221184 |\n",
      "|   65  | layers.5.block2.expand.conv | Conv2d | (1152, 192, 1, 1) | 14155776 |  221184 |\n",
      "|   66  | layers.5.block2.depsep.conv | Conv2d |  (1152, 1, 5, 5)  | 1843200  |  28800  |\n",
      "|   67  |  layers.5.block2.se.squeeze | Linear |    (288, 1152)    |  331776  |  332064 |\n",
      "|   68  |  layers.5.block2.se.expand  | Linear |    (1152, 288)    |  331776  |  332928 |\n",
      "|   69  |  layers.5.block2.proj.conv  | Conv2d | (192, 1152, 1, 1) | 14155776 |  221184 |\n",
      "|   70  | layers.5.block3.expand.conv | Conv2d | (1152, 192, 1, 1) | 14155776 |  221184 |\n",
      "|   71  | layers.5.block3.depsep.conv | Conv2d |  (1152, 1, 5, 5)  | 1843200  |  28800  |\n",
      "|   72  |  layers.5.block3.se.squeeze | Linear |    (288, 1152)    |  331776  |  332064 |\n",
      "|   73  |  layers.5.block3.se.expand  | Linear |    (1152, 288)    |  331776  |  332928 |\n",
      "|   74  |  layers.5.block3.proj.conv  | Conv2d | (192, 1152, 1, 1) | 14155776 |  221184 |\n",
      "|   75  | layers.6.block0.expand.conv | Conv2d | (1152, 192, 1, 1) | 14155776 |  221184 |\n",
      "|   76  | layers.6.block0.depsep.conv | Conv2d |  (1152, 1, 3, 3)  |  663552  |  10368  |\n",
      "|   77  |  layers.6.block0.se.squeeze | Linear |    (288, 1152)    |  331776  |  332064 |\n",
      "|   78  |  layers.6.block0.se.expand  | Linear |    (1152, 288)    |  331776  |  332928 |\n",
      "|   79  |  layers.6.block0.proj.conv  | Conv2d | (320, 1152, 1, 1) | 23592960 |  368640 |\n",
      "|   80  |        features.conv        | Conv2d | (1280, 320, 1, 1) | 26214400 |  409600 |\n",
      "|   81  |        classifier.fc        | Linear |    (120, 1280)    |  153600  |  153720 |\n",
      "+-------+-----------------------------+--------+-------------------+----------+---------+\n",
      "FLOPs total: 505344512\n",
      "#Params total: 7254552\n",
      "FLOPs: 505344512, params: 7254552\n"
     ]
    },
    {
     "name": "stderr",
     "output_type": "stream",
     "text": [
      "100%|██████████| 269/269 [00:28<00:00,  9.38it/s]\n"
     ]
    },
    {
     "name": "stdout",
     "output_type": "stream",
     "text": [
      "Before Pruning:\n",
      "Loss: 0.4889014130631344\n",
      "Accuracy: 0.8526951672862454\n",
      "Running trainer in tuner\n"
     ]
    },
    {
     "name": "stderr",
     "output_type": "stream",
     "text": [
      "100%|██████████| 338/338 [01:16<00:00,  4.44it/s]\n"
     ]
    },
    {
     "name": "stdout",
     "output_type": "stream",
     "text": [
      "Running trainer in tuner\n"
     ]
    },
    {
     "name": "stderr",
     "output_type": "stream",
     "text": [
      "100%|██████████| 338/338 [01:01<00:00,  5.46it/s]\n"
     ]
    },
    {
     "name": "stdout",
     "output_type": "stream",
     "text": [
      "Running trainer in tuner\n"
     ]
    },
    {
     "name": "stderr",
     "output_type": "stream",
     "text": [
      "100%|██████████| 338/338 [01:00<00:00,  5.59it/s]\n"
     ]
    },
    {
     "name": "stdout",
     "output_type": "stream",
     "text": [
      "Running trainer in tuner\n"
     ]
    },
    {
     "name": "stderr",
     "output_type": "stream",
     "text": [
      "100%|██████████| 338/338 [00:59<00:00,  5.71it/s]\n"
     ]
    },
    {
     "name": "stdout",
     "output_type": "stream",
     "text": [
      "Running trainer in tuner\n"
     ]
    },
    {
     "name": "stderr",
     "output_type": "stream",
     "text": [
      "100%|██████████| 338/338 [00:58<00:00,  5.75it/s]\n"
     ]
    },
    {
     "name": "stdout",
     "output_type": "stream",
     "text": [
      "Running trainer in tuner\n"
     ]
    },
    {
     "name": "stderr",
     "output_type": "stream",
     "text": [
      "100%|██████████| 338/338 [01:04<00:00,  5.24it/s]\n"
     ]
    },
    {
     "name": "stdout",
     "output_type": "stream",
     "text": [
      "Running trainer in tuner\n"
     ]
    },
    {
     "name": "stderr",
     "output_type": "stream",
     "text": [
      "100%|██████████| 338/338 [01:01<00:00,  5.48it/s]\n"
     ]
    },
    {
     "name": "stdout",
     "output_type": "stream",
     "text": [
      "Running trainer in tuner\n"
     ]
    },
    {
     "name": "stderr",
     "output_type": "stream",
     "text": [
      "100%|██████████| 338/338 [01:00<00:00,  5.57it/s]\n"
     ]
    },
    {
     "name": "stdout",
     "output_type": "stream",
     "text": [
      "Running trainer in tuner\n"
     ]
    },
    {
     "name": "stderr",
     "output_type": "stream",
     "text": [
      "100%|██████████| 338/338 [01:00<00:00,  5.56it/s]\n"
     ]
    },
    {
     "name": "stdout",
     "output_type": "stream",
     "text": [
      "Running trainer in tuner\n"
     ]
    },
    {
     "name": "stderr",
     "output_type": "stream",
     "text": [
      "100%|██████████| 338/338 [00:58<00:00,  5.76it/s]\n"
     ]
    },
    {
     "name": "stdout",
     "output_type": "stream",
     "text": [
      "set global threshold to 0.7496832609176636\n",
      "[2022-01-04 16:55:22] INFO (nni.compression.pytorch.compressor/MainThread) Model state_dict saved to pretrained_efficientnet_se_b0//model_temp.pth\n",
      "[2022-01-04 16:55:22] INFO (nni.compression.pytorch.compressor/MainThread) Mask dict saved to pretrained_efficientnet_se_b0/./mask_temp.pth\n"
     ]
    },
    {
     "name": "stderr",
     "output_type": "stream",
     "text": [
      "100%|██████████| 269/269 [00:14<00:00, 18.19it/s]\n"
     ]
    },
    {
     "name": "stdout",
     "output_type": "stream",
     "text": [
      "Before Finetuning:\n",
      "Loss: 18.21446791723315\n",
      "Accuracy: 0.01370817843866171\n",
      "Start finetuning epoch 0\n"
     ]
    },
    {
     "name": "stderr",
     "output_type": "stream",
     "text": [
      "100%|██████████| 338/338 [01:00<00:00,  5.54it/s]\n",
      "100%|██████████| 38/38 [00:03<00:00, 10.24it/s]\n"
     ]
    },
    {
     "name": "stdout",
     "output_type": "stream",
     "text": [
      "Epoch 0: train loss 4.4715, valid loss 5.1041, valid acc 0.0082\n",
      "Best validation accuracy: 0.008223684210526315\n"
     ]
    },
    {
     "name": "stderr",
     "output_type": "stream",
     "text": [
      "100%|██████████| 269/269 [00:14<00:00, 18.09it/s]\n"
     ]
    },
    {
     "name": "stdout",
     "output_type": "stream",
     "text": [
      "After Pruning:\n",
      "Loss: 5.127127229059496\n",
      "Accuracy: 0.007783457249070632\n"
     ]
    },
    {
     "name": "stderr",
     "output_type": "stream",
     "text": [
      "100%|██████████| 135/135 [00:13<00:00, 10.19it/s]\n"
     ]
    },
    {
     "name": "stdout",
     "output_type": "stream",
     "text": [
      "Test loss: 5.127698802947998\n",
      "Test accuracy: 0.0077546296296296295\n",
      "+-------+-----------------------------+--------+-------------------+----------+---------+\n",
      "| Index |             Name            |  Type  |    Weight Shape   |  FLOPs   | #Params |\n",
      "+-------+-----------------------------+--------+-------------------+----------+---------+\n",
      "|   0   |          stem.conv          | Conv2d |   (32, 3, 3, 3)   | 10838016 |   864   |\n",
      "|   1   | layers.0.block0.depsep.conv | Conv2d |   (32, 1, 3, 3)   | 3612672  |   288   |\n",
      "|   2   |  layers.0.block0.se.squeeze | Linear |      (8, 32)      |   256    |   264   |\n",
      "|   3   |  layers.0.block0.se.expand  | Linear |      (32, 8)      |   256    |   288   |\n",
      "|   4   |  layers.0.block0.proj.conv  | Conv2d |   (16, 32, 1, 1)  | 6422528  |   512   |\n",
      "|   5   | layers.1.block0.expand.conv | Conv2d |   (96, 16, 1, 1)  | 19267584 |   1536  |\n",
      "|   6   | layers.1.block0.depsep.conv | Conv2d |   (96, 1, 3, 3)   | 2709504  |   864   |\n",
      "|   7   |  layers.1.block0.se.squeeze | Linear |      (24, 96)     |   2304   |   2328  |\n",
      "|   8   |  layers.1.block0.se.expand  | Linear |      (96, 24)     |   2304   |   2400  |\n",
      "|   9   |  layers.1.block0.proj.conv  | Conv2d |   (24, 96, 1, 1)  | 7225344  |   2304  |\n",
      "|   10  | layers.1.block1.expand.conv | Conv2d |  (144, 24, 1, 1)  | 10838016 |   3456  |\n",
      "|   11  | layers.1.block1.depsep.conv | Conv2d |   (144, 1, 3, 3)  | 4064256  |   1296  |\n",
      "|   12  |  layers.1.block1.se.squeeze | Linear |     (36, 144)     |   5184   |   5220  |\n",
      "|   13  |  layers.1.block1.se.expand  | Linear |     (144, 36)     |   5184   |   5328  |\n",
      "|   14  |  layers.1.block1.proj.conv  | Conv2d |  (24, 144, 1, 1)  | 10838016 |   3456  |\n",
      "|   15  | layers.2.block0.expand.conv | Conv2d |  (144, 24, 1, 1)  | 10838016 |   3456  |\n",
      "|   16  | layers.2.block0.depsep.conv | Conv2d |   (144, 1, 5, 5)  | 2822400  |   3600  |\n",
      "|   17  |  layers.2.block0.se.squeeze | Linear |     (36, 144)     |   5184   |   5220  |\n",
      "|   18  |  layers.2.block0.se.expand  | Linear |     (144, 36)     |   5184   |   5328  |\n",
      "|   19  |  layers.2.block0.proj.conv  | Conv2d |  (40, 144, 1, 1)  | 4515840  |   5760  |\n",
      "|   20  | layers.2.block1.expand.conv | Conv2d |  (240, 40, 1, 1)  | 7526400  |   9600  |\n",
      "|   21  | layers.2.block1.depsep.conv | Conv2d |   (240, 1, 5, 5)  | 4704000  |   6000  |\n",
      "|   22  |  layers.2.block1.se.squeeze | Linear |     (60, 240)     |  14400   |  14460  |\n",
      "|   23  |  layers.2.block1.se.expand  | Linear |     (240, 60)     |  14400   |  14640  |\n",
      "|   24  |  layers.2.block1.proj.conv  | Conv2d |  (40, 240, 1, 1)  | 7526400  |   9600  |\n",
      "|   25  | layers.3.block0.expand.conv | Conv2d |  (240, 40, 1, 1)  | 7526400  |   9600  |\n",
      "|   26  | layers.3.block0.depsep.conv | Conv2d |   (240, 1, 3, 3)  |  423360  |   2160  |\n",
      "|   27  |  layers.3.block0.se.squeeze | Linear |     (60, 240)     |  14400   |  14460  |\n",
      "|   28  |  layers.3.block0.se.expand  | Linear |     (240, 60)     |  14400   |  14640  |\n",
      "|   29  |  layers.3.block0.proj.conv  | Conv2d |  (80, 240, 1, 1)  | 3763200  |  19200  |\n",
      "|   30  | layers.3.block1.expand.conv | Conv2d |  (480, 80, 1, 1)  | 7526400  |  38400  |\n",
      "|   31  | layers.3.block1.depsep.conv | Conv2d |   (480, 1, 3, 3)  |  846720  |   4320  |\n",
      "|   32  |  layers.3.block1.se.squeeze | Linear |     (120, 480)    |  57600   |  57720  |\n",
      "|   33  |  layers.3.block1.se.expand  | Linear |     (480, 120)    |  57600   |  58080  |\n",
      "|   34  |  layers.3.block1.proj.conv  | Conv2d |  (80, 480, 1, 1)  | 7526400  |  38400  |\n",
      "|   35  | layers.3.block2.expand.conv | Conv2d |  (480, 80, 1, 1)  | 7526400  |  38400  |\n",
      "|   36  | layers.3.block2.depsep.conv | Conv2d |   (480, 1, 3, 3)  |  846720  |   4320  |\n",
      "|   37  |  layers.3.block2.se.squeeze | Linear |     (120, 480)    |  57600   |  57720  |\n",
      "|   38  |  layers.3.block2.se.expand  | Linear |     (480, 120)    |  57600   |  58080  |\n",
      "|   39  |  layers.3.block2.proj.conv  | Conv2d |  (80, 480, 1, 1)  | 7526400  |  38400  |\n",
      "|   40  | layers.4.block0.expand.conv | Conv2d |  (480, 80, 1, 1)  | 7526400  |  38400  |\n",
      "|   41  | layers.4.block0.depsep.conv | Conv2d |   (480, 1, 5, 5)  | 2352000  |  12000  |\n",
      "|   42  |  layers.4.block0.se.squeeze | Linear |     (120, 480)    |  57600   |  57720  |\n",
      "|   43  |  layers.4.block0.se.expand  | Linear |     (480, 120)    |  57600   |  58080  |\n",
      "|   44  |  layers.4.block0.proj.conv  | Conv2d |  (112, 480, 1, 1) | 10536960 |  53760  |\n",
      "|   45  | layers.4.block1.expand.conv | Conv2d |  (672, 112, 1, 1) | 14751744 |  75264  |\n",
      "|   46  | layers.4.block1.depsep.conv | Conv2d |   (672, 1, 5, 5)  | 3292800  |  16800  |\n",
      "|   47  |  layers.4.block1.se.squeeze | Linear |     (168, 672)    |  112896  |  113064 |\n",
      "|   48  |  layers.4.block1.se.expand  | Linear |     (672, 168)    |  112896  |  113568 |\n",
      "|   49  |  layers.4.block1.proj.conv  | Conv2d |  (112, 672, 1, 1) | 14751744 |  75264  |\n",
      "|   50  | layers.4.block2.expand.conv | Conv2d |  (672, 112, 1, 1) | 14751744 |  75264  |\n",
      "|   51  | layers.4.block2.depsep.conv | Conv2d |   (672, 1, 5, 5)  | 3292800  |  16800  |\n",
      "|   52  |  layers.4.block2.se.squeeze | Linear |     (168, 672)    |  112896  |  113064 |\n",
      "|   53  |  layers.4.block2.se.expand  | Linear |     (672, 168)    |  112896  |  113568 |\n",
      "|   54  |  layers.4.block2.proj.conv  | Conv2d |  (112, 672, 1, 1) | 14751744 |  75264  |\n",
      "|   55  | layers.5.block0.expand.conv | Conv2d |  (672, 112, 1, 1) | 14751744 |  75264  |\n",
      "|   56  | layers.5.block0.depsep.conv | Conv2d |   (672, 1, 5, 5)  |  823200  |  16800  |\n",
      "|   57  |  layers.5.block0.se.squeeze | Linear |     (168, 672)    |  112896  |  113064 |\n",
      "|   58  |  layers.5.block0.se.expand  | Linear |     (672, 168)    |  112896  |  113568 |\n",
      "|   59  |  layers.5.block0.proj.conv  | Conv2d |  (192, 672, 1, 1) | 6322176  |  129024 |\n",
      "|   60  | layers.5.block1.expand.conv | Conv2d | (1152, 192, 1, 1) | 10838016 |  221184 |\n",
      "|   61  | layers.5.block1.depsep.conv | Conv2d |  (1152, 1, 5, 5)  | 1411200  |  28800  |\n",
      "|   62  |  layers.5.block1.se.squeeze | Linear |    (288, 1152)    |  331776  |  332064 |\n",
      "|   63  |  layers.5.block1.se.expand  | Linear |    (1152, 288)    |  331776  |  332928 |\n",
      "|   64  |  layers.5.block1.proj.conv  | Conv2d | (192, 1152, 1, 1) | 10838016 |  221184 |\n",
      "|   65  | layers.5.block2.expand.conv | Conv2d | (1152, 192, 1, 1) | 10838016 |  221184 |\n",
      "|   66  | layers.5.block2.depsep.conv | Conv2d |  (1152, 1, 5, 5)  | 1411200  |  28800  |\n",
      "|   67  |  layers.5.block2.se.squeeze | Linear |    (288, 1152)    |  331776  |  332064 |\n",
      "|   68  |  layers.5.block2.se.expand  | Linear |    (1152, 288)    |  331776  |  332928 |\n",
      "|   69  |  layers.5.block2.proj.conv  | Conv2d | (192, 1152, 1, 1) | 10838016 |  221184 |\n",
      "|   70  | layers.5.block3.expand.conv | Conv2d | (1152, 192, 1, 1) | 10838016 |  221184 |\n",
      "|   71  | layers.5.block3.depsep.conv | Conv2d |  (1152, 1, 5, 5)  | 1411200  |  28800  |\n",
      "|   72  |  layers.5.block3.se.squeeze | Linear |    (288, 1152)    |  331776  |  332064 |\n",
      "|   73  |  layers.5.block3.se.expand  | Linear |    (1152, 288)    |  331776  |  332928 |\n",
      "|   74  |  layers.5.block3.proj.conv  | Conv2d | (192, 1152, 1, 1) | 10838016 |  221184 |\n",
      "|   75  | layers.6.block0.expand.conv | Conv2d | (1152, 192, 1, 1) | 10838016 |  221184 |\n",
      "|   76  | layers.6.block0.depsep.conv | Conv2d |  (1152, 1, 3, 3)  |  508032  |  10368  |\n",
      "|   77  |  layers.6.block0.se.squeeze | Linear |    (288, 1152)    |  331776  |  332064 |\n",
      "|   78  |  layers.6.block0.se.expand  | Linear |    (1152, 288)    |  331776  |  332928 |\n",
      "|   79  |  layers.6.block0.proj.conv  | Conv2d | (320, 1152, 1, 1) | 18063360 |  368640 |\n",
      "|   80  |        features.conv        | Conv2d | (1280, 320, 1, 1) | 20070400 |  409600 |\n",
      "|   81  |        classifier.fc        | Linear |    (120, 1280)    |  153600  |  153720 |\n",
      "+-------+-----------------------------+--------+-------------------+----------+---------+\n",
      "FLOPs total: 387821792\n",
      "#Params total: 7254552\n",
      "FLOPs: 387821792, params: 7254552\n"
     ]
    }
   ],
   "source": [
    "test_loss, test_acc, val_loss, val_acc, flops, params, init_dict = run_pruning(args)"
   ]
  },
  {
   "cell_type": "code",
   "execution_count": 7,
   "metadata": {},
   "outputs": [
    {
     "data": {
      "text/plain": [
       "(5.127698802947998,\n",
       " 0.0077546296296296295,\n",
       " 5.127127229059496,\n",
       " 0.007783457249070632,\n",
       " 387821792,\n",
       " 7254552,\n",
       " {'flops0': 505344512,\n",
       "  'params0': 7254552,\n",
       "  'init_loss': 0.4889014130631344,\n",
       "  'init_acc': 0.8526951672862454})"
      ]
     },
     "execution_count": 7,
     "metadata": {},
     "output_type": "execute_result"
    }
   ],
   "source": [
    "test_loss, test_acc, val_loss, val_acc, flops, params, init_dict"
   ]
  },
  {
   "cell_type": "code",
   "execution_count": null,
   "metadata": {},
   "outputs": [],
   "source": [
    "\n",
    "print(f\"Accuracy  {val_acc / init_dict['init_acc']}\")\n",
    "print(f\"FLOPS:    {flops / init_dict['flops0']}\")\n",
    "print(f\"Sparsity: {params / init_dict['params0']}\")"
   ]
  }
 ],
 "metadata": {
  "interpreter": {
   "hash": "fa1d2dbcebe987bff96301192323ddc65add43aaebe4ff9c478db95e00f0a1e9"
  },
  "kernelspec": {
   "display_name": "Python 3 (ipykernel)",
   "language": "python",
   "name": "python3"
  },
  "language_info": {
   "codemirror_mode": {
    "name": "ipython",
    "version": 3
   },
   "file_extension": ".py",
   "mimetype": "text/x-python",
   "name": "python",
   "nbconvert_exporter": "python",
   "pygments_lexer": "ipython3",
   "version": "3.10.1"
  }
 },
 "nbformat": 4,
 "nbformat_minor": 2
}
