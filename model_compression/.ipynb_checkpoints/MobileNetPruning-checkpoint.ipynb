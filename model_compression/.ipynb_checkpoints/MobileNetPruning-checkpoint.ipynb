{
 "cells": [
  {
   "cell_type": "code",
   "execution_count": null,
   "metadata": {},
   "outputs": [],
   "source": [
    "%load_ext autoreload\n",
    "%autoreload 2\n",
    "import os\n",
    "import sys\n",
    "import xml\n",
    "from pathlib import Path\n",
    "from dataclasses import dataclass\n",
    "from PIL import Image\n",
    "import matplotlib.pyplot as plt\n",
    "from ConfigSpace.read_and_write import json\n",
    "\n",
    "import torch\n",
    "import torch.nn as nn\n",
    "import torch.nn.functional as F\n",
    "import numpy as np\n",
    "\n",
    "sys.path.insert(1, os.path.join(os.getcwd()  , ''))\n",
    "\n",
    "from nni.compression.pytorch import ModelSpeedup\n",
    "from nni.compression.pytorch.utils.counter import count_flops_params\n",
    "\n",
    "from utils import create_model, get_dataloader, parse_bool, Args\n",
    "from  pruning_experiments import run_pruning\n",
    "\n",
    "device = torch.device(\"cuda\" if torch.cuda.is_available() else \"cpu\")\n",
    "\n",
    "num_workers = 16\n",
    "torch.set_num_threads(num_workers)\n"
   ]
  },
  {
   "cell_type": "markdown",
   "metadata": {},
   "source": [
    "# Preparation Steps:\n",
    "- Make sure **pytorch, nni and tensorboard and ConfigSpace** are installed\n",
    "- Run \"Compressing MobileNetPruning.ipynb\" to download data and obtain the pretrained model(s)"
   ]
  },
  {
   "cell_type": "code",
   "execution_count": null,
   "metadata": {},
   "outputs": [],
   "source": [
    "\n",
    "with open('config_space.json', 'r') as f:\n",
    "        json_string = f.read()\n",
    "        config = json.read(json_string)\n",
    "cfg = parse_bool(config.sample_configuration().get_dictionary())\n",
    "args = Args(**cfg)\n",
    "\n",
    "# Speed Up Experiments\n",
    "args.agp_n_iters = 1\n",
    "args.agp_n_epochs_per_iter = 1\n",
    "args.finetune_epochs = 1\n",
    "args.speed_up = True\n",
    "args"
   ]
  },
  {
   "cell_type": "code",
   "execution_count": null,
   "metadata": {},
   "outputs": [],
   "source": [
    "test_loss, test_acc, val_loss, val_acc, flops, params, init_dict = run_pruning(args)"
   ]
  },
  {
   "cell_type": "code",
   "execution_count": null,
   "metadata": {},
   "outputs": [],
   "source": [
    "test_loss, test_acc, val_loss, val_acc, flops, params, init_dict"
   ]
  },
  {
   "cell_type": "code",
   "execution_count": null,
   "metadata": {},
   "outputs": [],
   "source": [
    "\n",
    "print(f\"Accuracy  {val_acc / init_dict['init_acc']}\")\n",
    "print(f\"FLOPS:    {flops / init_dict['flops0']}\")\n",
    "print(f\"Sparsity: {params / init_dict['params0']}\")"
   ]
  }
 ],
 "metadata": {
  "interpreter": {
   "hash": "fa1d2dbcebe987bff96301192323ddc65add43aaebe4ff9c478db95e00f0a1e9"
  },
  "kernelspec": {
   "display_name": "Python 3 (ipykernel)",
   "language": "python",
   "name": "python3"
  },
  "language_info": {
   "codemirror_mode": {
    "name": "ipython",
    "version": 3
   },
   "file_extension": ".py",
   "mimetype": "text/x-python",
   "name": "python",
   "nbconvert_exporter": "python",
   "pygments_lexer": "ipython3",
   "version": "3.10.2"
  }
 },
 "nbformat": 4,
 "nbformat_minor": 2
}
