{
 "cells": [
  {
   "cell_type": "code",
   "execution_count": 1,
   "metadata": {},
   "outputs": [],
   "source": [
    "import os\n",
    "import xml\n",
    "from PIL import Image\n",
    "import matplotlib.pyplot as plt\n",
    "\n",
    "import torch\n",
    "import torch.nn as nn\n",
    "import torch.nn.functional as F\n",
    "import numpy as np\n",
    "\n",
    "from nni.compression.pytorch import ModelSpeedup\n",
    "from nni.compression.pytorch.utils.counter import count_flops_params\n",
    "\n",
    "from utils import create_model, get_dataloader\n",
    "\n",
    "device = torch.device(\"cuda\" if torch.cuda.is_available() else \"cpu\")\n",
    "\n",
    "num_workers = 16\n",
    "torch.set_num_threads(num_workers)"
   ]
  },
  {
   "cell_type": "markdown",
   "metadata": {},
   "source": [
    "### Stanford Dogs (Data Download)\n",
    "\n",
    "The [Stanford Dogs](http://vision.stanford.edu/aditya86/ImageNetDogs/) dataset contains images of 120 breeds of dogs from around the world. It is built using images and annotation from ImageNet for the task of fine-grained image classification. We choose this task to simulate a transfer learning scenario, where a model pre-trained on the ImageNet is further transferred to an often simpler downstream task.\n",
    "\n",
    "To download and prepare the data, please run `prepare_data.sh`, which downloads the images and annotations, and preprocesses the images for training."
   ]
  },
  {
   "cell_type": "code",
   "execution_count": null,
   "metadata": {},
   "outputs": [],
   "source": [
    "# Run prepare_data.sh\n",
    "!chmod u+x prepare_data.sh\n",
    "!./prepare_data.sh"
   ]
  },
  {
   "cell_type": "markdown",
   "metadata": {},
   "source": [
    " Then, you may run following code block, which shows several instances:"
   ]
  },
  {
   "cell_type": "markdown",
   "metadata": {},
   "source": [
    "# Model Pre-training\n",
    "First, we obtain a MobileNetV2 model on this task, which will serve as the base model for compression. Unfortunately, although this step is often called model \"pre-training\" in the model compression teminologies, we are actually finetuning a model pre-trained on ImageNet. "
   ]
  },
  {
   "cell_type": "code",
   "execution_count": null,
   "metadata": {},
   "outputs": [],
   "source": [
    "%run pretrain.py --model_type mobilenet_v2_torchhub "
   ]
  },
  {
   "cell_type": "code",
   "execution_count": 5,
   "metadata": {},
   "outputs": [
    {
     "name": "stdout",
     "output_type": "stream",
     "text": [
      "Namespace(model_type='resnet18', experiment_dir=None, checkpoint_name='checkpoint_best.pt', n_workers=16, n_epochs=180, learning_rate=0.0001, weight_decay=0.0, batch_size=64)\n"
     ]
    },
    {
     "name": "stderr",
     "output_type": "stream",
     "text": [
      "Using cache found in /home/flo/.cache/torch/hub/pytorch_vision_v0.8.1\n"
     ]
    },
    {
     "name": "stdout",
     "output_type": "stream",
     "text": [
      "Loading checkpoint from pretrained_resnet18/checkpoint_best.pt\n",
      "Start training epoch 0\n"
     ]
    },
    {
     "name": "stderr",
     "output_type": "stream",
     "text": [
      "100%|██████████| 169/169 [00:25<00:00,  6.75it/s]\n",
      "100%|██████████| 19/19 [00:01<00:00, 12.03it/s]\n"
     ]
    },
    {
     "name": "stdout",
     "output_type": "stream",
     "text": [
      "Epoch 0: train loss 0.1743, valid loss 0.5889, valid acc 0.8265\n",
      "Start training epoch 1\n"
     ]
    },
    {
     "name": "stderr",
     "output_type": "stream",
     "text": [
      "100%|██████████| 169/169 [00:24<00:00,  6.98it/s]\n",
      "100%|██████████| 19/19 [00:01<00:00, 11.96it/s]\n"
     ]
    },
    {
     "name": "stdout",
     "output_type": "stream",
     "text": [
      "Epoch 1: train loss 0.1749, valid loss 0.5883, valid acc 0.8257\n",
      "Start training epoch 2\n"
     ]
    },
    {
     "name": "stderr",
     "output_type": "stream",
     "text": [
      "100%|██████████| 169/169 [00:24<00:00,  7.04it/s]\n",
      "100%|██████████| 19/19 [00:01<00:00, 11.89it/s]\n"
     ]
    },
    {
     "name": "stdout",
     "output_type": "stream",
     "text": [
      "Epoch 2: train loss 0.1720, valid loss 0.5878, valid acc 0.8243\n",
      "Start training epoch 3\n"
     ]
    },
    {
     "name": "stderr",
     "output_type": "stream",
     "text": [
      "100%|██████████| 169/169 [00:23<00:00,  7.12it/s]\n",
      "100%|██████████| 19/19 [00:01<00:00, 11.50it/s]\n"
     ]
    },
    {
     "name": "stdout",
     "output_type": "stream",
     "text": [
      "Epoch 3: train loss 0.1697, valid loss 0.5843, valid acc 0.8240\n",
      "Start training epoch 4\n"
     ]
    },
    {
     "name": "stderr",
     "output_type": "stream",
     "text": [
      "100%|██████████| 169/169 [00:23<00:00,  7.08it/s]\n",
      "100%|██████████| 19/19 [00:01<00:00, 12.47it/s]\n"
     ]
    },
    {
     "name": "stdout",
     "output_type": "stream",
     "text": [
      "Epoch 4: train loss 0.1713, valid loss 0.5889, valid acc 0.8273\n",
      "Start training epoch 5\n"
     ]
    },
    {
     "name": "stderr",
     "output_type": "stream",
     "text": [
      "100%|██████████| 169/169 [00:24<00:00,  6.99it/s]\n",
      "100%|██████████| 19/19 [00:01<00:00, 12.86it/s]\n"
     ]
    },
    {
     "name": "stdout",
     "output_type": "stream",
     "text": [
      "Epoch 5: train loss 0.1682, valid loss 0.5901, valid acc 0.8303\n",
      "Start training epoch 6\n"
     ]
    },
    {
     "name": "stderr",
     "output_type": "stream",
     "text": [
      "100%|██████████| 169/169 [00:24<00:00,  6.98it/s]\n",
      "100%|██████████| 19/19 [00:01<00:00, 12.57it/s]\n"
     ]
    },
    {
     "name": "stdout",
     "output_type": "stream",
     "text": [
      "Epoch 6: train loss 0.1716, valid loss 0.5876, valid acc 0.8248\n",
      "Start training epoch 7\n"
     ]
    },
    {
     "name": "stderr",
     "output_type": "stream",
     "text": [
      "100%|██████████| 169/169 [00:24<00:00,  6.91it/s]\n",
      "100%|██████████| 19/19 [00:01<00:00, 11.03it/s]\n"
     ]
    },
    {
     "name": "stdout",
     "output_type": "stream",
     "text": [
      "Epoch 7: train loss 0.1682, valid loss 0.5911, valid acc 0.8243\n",
      "Start training epoch 8\n"
     ]
    },
    {
     "name": "stderr",
     "output_type": "stream",
     "text": [
      "100%|██████████| 169/169 [00:23<00:00,  7.08it/s]\n",
      "100%|██████████| 19/19 [00:01<00:00, 11.95it/s]\n"
     ]
    },
    {
     "name": "stdout",
     "output_type": "stream",
     "text": [
      "Epoch 8: train loss 0.1676, valid loss 0.5892, valid acc 0.8268\n",
      "Start training epoch 9\n"
     ]
    },
    {
     "name": "stderr",
     "output_type": "stream",
     "text": [
      "100%|██████████| 169/169 [00:24<00:00,  7.02it/s]\n",
      "100%|██████████| 19/19 [00:01<00:00, 11.37it/s]\n"
     ]
    },
    {
     "name": "stdout",
     "output_type": "stream",
     "text": [
      "Epoch 9: train loss 0.1628, valid loss 0.5901, valid acc 0.8210\n",
      "Start training epoch 10\n"
     ]
    },
    {
     "name": "stderr",
     "output_type": "stream",
     "text": [
      "100%|██████████| 169/169 [00:23<00:00,  7.04it/s]\n",
      "100%|██████████| 19/19 [00:01<00:00, 11.89it/s]\n"
     ]
    },
    {
     "name": "stdout",
     "output_type": "stream",
     "text": [
      "Epoch 10: train loss 0.1663, valid loss 0.5921, valid acc 0.8210\n",
      "Start training epoch 11\n"
     ]
    },
    {
     "name": "stderr",
     "output_type": "stream",
     "text": [
      "100%|██████████| 169/169 [00:23<00:00,  7.09it/s]\n",
      "100%|██████████| 19/19 [00:01<00:00, 12.72it/s]\n"
     ]
    },
    {
     "name": "stdout",
     "output_type": "stream",
     "text": [
      "Epoch 11: train loss 0.1597, valid loss 0.5896, valid acc 0.8259\n",
      "Start training epoch 12\n"
     ]
    },
    {
     "name": "stderr",
     "output_type": "stream",
     "text": [
      "100%|██████████| 169/169 [00:24<00:00,  6.83it/s]\n",
      "100%|██████████| 19/19 [00:01<00:00, 12.39it/s]\n"
     ]
    },
    {
     "name": "stdout",
     "output_type": "stream",
     "text": [
      "Epoch 12: train loss 0.1607, valid loss 0.5917, valid acc 0.8202\n",
      "Start training epoch 13\n"
     ]
    },
    {
     "name": "stderr",
     "output_type": "stream",
     "text": [
      "100%|██████████| 169/169 [00:23<00:00,  7.20it/s]\n",
      "100%|██████████| 19/19 [00:01<00:00, 12.72it/s]\n"
     ]
    },
    {
     "name": "stdout",
     "output_type": "stream",
     "text": [
      "Epoch 13: train loss 0.1643, valid loss 0.5917, valid acc 0.8199\n",
      "Start training epoch 14\n"
     ]
    },
    {
     "name": "stderr",
     "output_type": "stream",
     "text": [
      "100%|██████████| 169/169 [00:23<00:00,  7.22it/s]\n",
      "100%|██████████| 19/19 [00:01<00:00, 11.62it/s]\n"
     ]
    },
    {
     "name": "stdout",
     "output_type": "stream",
     "text": [
      "Epoch 14: train loss 0.1633, valid loss 0.5901, valid acc 0.8243\n",
      "Start training epoch 15\n"
     ]
    },
    {
     "name": "stderr",
     "output_type": "stream",
     "text": [
      "100%|██████████| 169/169 [00:23<00:00,  7.07it/s]\n",
      "100%|██████████| 19/19 [00:01<00:00, 12.86it/s]\n"
     ]
    },
    {
     "name": "stdout",
     "output_type": "stream",
     "text": [
      "Epoch 15: train loss 0.1596, valid loss 0.5910, valid acc 0.8232\n",
      "Start training epoch 16\n"
     ]
    },
    {
     "name": "stderr",
     "output_type": "stream",
     "text": [
      "100%|██████████| 169/169 [00:23<00:00,  7.17it/s]\n",
      "100%|██████████| 19/19 [00:01<00:00, 12.78it/s]\n"
     ]
    },
    {
     "name": "stdout",
     "output_type": "stream",
     "text": [
      "Epoch 16: train loss 0.1588, valid loss 0.5929, valid acc 0.8194\n",
      "Start training epoch 17\n"
     ]
    },
    {
     "name": "stderr",
     "output_type": "stream",
     "text": [
      "100%|██████████| 169/169 [00:23<00:00,  7.16it/s]\n",
      "100%|██████████| 19/19 [00:01<00:00, 12.44it/s]\n"
     ]
    },
    {
     "name": "stdout",
     "output_type": "stream",
     "text": [
      "Epoch 17: train loss 0.1574, valid loss 0.5893, valid acc 0.8218\n",
      "Start training epoch 18\n"
     ]
    },
    {
     "name": "stderr",
     "output_type": "stream",
     "text": [
      "100%|██████████| 169/169 [00:24<00:00,  6.98it/s]\n",
      "100%|██████████| 19/19 [00:01<00:00, 12.10it/s]\n"
     ]
    },
    {
     "name": "stdout",
     "output_type": "stream",
     "text": [
      "Epoch 18: train loss 0.1601, valid loss 0.5923, valid acc 0.8251\n",
      "Start training epoch 19\n"
     ]
    },
    {
     "name": "stderr",
     "output_type": "stream",
     "text": [
      "100%|██████████| 169/169 [00:23<00:00,  7.21it/s]\n",
      "100%|██████████| 19/19 [00:01<00:00, 13.03it/s]\n"
     ]
    },
    {
     "name": "stdout",
     "output_type": "stream",
     "text": [
      "Epoch 19: train loss 0.1562, valid loss 0.5917, valid acc 0.8224\n",
      "Start training epoch 20\n"
     ]
    },
    {
     "name": "stderr",
     "output_type": "stream",
     "text": [
      "100%|██████████| 169/169 [00:23<00:00,  7.14it/s]\n",
      "100%|██████████| 19/19 [00:01<00:00, 13.11it/s]\n"
     ]
    },
    {
     "name": "stdout",
     "output_type": "stream",
     "text": [
      "Epoch 20: train loss 0.1535, valid loss 0.5930, valid acc 0.8243\n",
      "Start training epoch 21\n"
     ]
    },
    {
     "name": "stderr",
     "output_type": "stream",
     "text": [
      "100%|██████████| 169/169 [00:24<00:00,  7.01it/s]\n",
      "100%|██████████| 19/19 [00:01<00:00, 12.10it/s]\n"
     ]
    },
    {
     "name": "stdout",
     "output_type": "stream",
     "text": [
      "Epoch 21: train loss 0.1575, valid loss 0.5906, valid acc 0.8235\n",
      "Start training epoch 22\n"
     ]
    },
    {
     "name": "stderr",
     "output_type": "stream",
     "text": [
      "100%|██████████| 169/169 [00:24<00:00,  7.03it/s]\n",
      "100%|██████████| 19/19 [00:01<00:00, 12.23it/s]\n"
     ]
    },
    {
     "name": "stdout",
     "output_type": "stream",
     "text": [
      "Epoch 22: train loss 0.1605, valid loss 0.5927, valid acc 0.8268\n",
      "Start training epoch 23\n"
     ]
    },
    {
     "name": "stderr",
     "output_type": "stream",
     "text": [
      "100%|██████████| 169/169 [00:24<00:00,  7.01it/s]\n",
      "100%|██████████| 19/19 [00:01<00:00, 11.79it/s]\n"
     ]
    },
    {
     "name": "stdout",
     "output_type": "stream",
     "text": [
      "Epoch 23: train loss 0.1543, valid loss 0.5923, valid acc 0.8210\n",
      "Start training epoch 24\n"
     ]
    },
    {
     "name": "stderr",
     "output_type": "stream",
     "text": [
      "100%|██████████| 169/169 [00:23<00:00,  7.19it/s]\n",
      "100%|██████████| 19/19 [00:01<00:00, 12.98it/s]\n"
     ]
    },
    {
     "name": "stdout",
     "output_type": "stream",
     "text": [
      "Epoch 24: train loss 0.1514, valid loss 0.5914, valid acc 0.8226\n",
      "Start training epoch 25\n"
     ]
    },
    {
     "name": "stderr",
     "output_type": "stream",
     "text": [
      "100%|██████████| 169/169 [00:24<00:00,  6.96it/s]\n",
      "100%|██████████| 19/19 [00:01<00:00, 11.67it/s]\n"
     ]
    },
    {
     "name": "stdout",
     "output_type": "stream",
     "text": [
      "Epoch 25: train loss 0.1503, valid loss 0.5921, valid acc 0.8226\n",
      "Start training epoch 26\n"
     ]
    },
    {
     "name": "stderr",
     "output_type": "stream",
     "text": [
      "100%|██████████| 169/169 [00:23<00:00,  7.12it/s]\n",
      "100%|██████████| 19/19 [00:01<00:00, 11.67it/s]\n"
     ]
    },
    {
     "name": "stdout",
     "output_type": "stream",
     "text": [
      "Epoch 26: train loss 0.1500, valid loss 0.5919, valid acc 0.8199\n",
      "Start training epoch 27\n"
     ]
    },
    {
     "name": "stderr",
     "output_type": "stream",
     "text": [
      "100%|██████████| 169/169 [00:23<00:00,  7.05it/s]\n",
      "100%|██████████| 19/19 [00:01<00:00, 12.11it/s]\n"
     ]
    },
    {
     "name": "stdout",
     "output_type": "stream",
     "text": [
      "Epoch 27: train loss 0.1456, valid loss 0.5900, valid acc 0.8210\n",
      "Start training epoch 28\n"
     ]
    },
    {
     "name": "stderr",
     "output_type": "stream",
     "text": [
      "100%|██████████| 169/169 [00:23<00:00,  7.09it/s]\n",
      "100%|██████████| 19/19 [00:01<00:00, 13.21it/s]\n"
     ]
    },
    {
     "name": "stdout",
     "output_type": "stream",
     "text": [
      "Epoch 28: train loss 0.1528, valid loss 0.5926, valid acc 0.8235\n",
      "Start training epoch 29\n"
     ]
    },
    {
     "name": "stderr",
     "output_type": "stream",
     "text": [
      "100%|██████████| 169/169 [00:23<00:00,  7.08it/s]\n",
      "100%|██████████| 19/19 [00:01<00:00, 12.06it/s]\n"
     ]
    },
    {
     "name": "stdout",
     "output_type": "stream",
     "text": [
      "Epoch 29: train loss 0.1445, valid loss 0.5949, valid acc 0.8226\n",
      "Start training epoch 30\n"
     ]
    },
    {
     "name": "stderr",
     "output_type": "stream",
     "text": [
      "100%|██████████| 169/169 [00:23<00:00,  7.09it/s]\n",
      "100%|██████████| 19/19 [00:01<00:00, 12.82it/s]\n"
     ]
    },
    {
     "name": "stdout",
     "output_type": "stream",
     "text": [
      "Epoch 30: train loss 0.1463, valid loss 0.5909, valid acc 0.8268\n",
      "Start training epoch 31\n"
     ]
    },
    {
     "name": "stderr",
     "output_type": "stream",
     "text": [
      "100%|██████████| 169/169 [00:23<00:00,  7.14it/s]\n",
      "100%|██████████| 19/19 [00:01<00:00, 11.87it/s]\n"
     ]
    },
    {
     "name": "stdout",
     "output_type": "stream",
     "text": [
      "Epoch 31: train loss 0.1443, valid loss 0.5938, valid acc 0.8226\n",
      "Start training epoch 32\n"
     ]
    },
    {
     "name": "stderr",
     "output_type": "stream",
     "text": [
      "100%|██████████| 169/169 [00:24<00:00,  6.95it/s]\n",
      "100%|██████████| 19/19 [00:01<00:00, 12.77it/s]\n"
     ]
    },
    {
     "name": "stdout",
     "output_type": "stream",
     "text": [
      "Epoch 32: train loss 0.1461, valid loss 0.5974, valid acc 0.8243\n",
      "Start training epoch 33\n"
     ]
    },
    {
     "name": "stderr",
     "output_type": "stream",
     "text": [
      "100%|██████████| 169/169 [00:23<00:00,  7.09it/s]\n",
      "100%|██████████| 19/19 [00:01<00:00, 12.59it/s]\n"
     ]
    },
    {
     "name": "stdout",
     "output_type": "stream",
     "text": [
      "Epoch 33: train loss 0.1412, valid loss 0.5982, valid acc 0.8152\n",
      "Start training epoch 34\n"
     ]
    },
    {
     "name": "stderr",
     "output_type": "stream",
     "text": [
      "100%|██████████| 169/169 [00:23<00:00,  7.11it/s]\n",
      "100%|██████████| 19/19 [00:01<00:00, 12.47it/s]\n"
     ]
    },
    {
     "name": "stdout",
     "output_type": "stream",
     "text": [
      "Epoch 34: train loss 0.1453, valid loss 0.5951, valid acc 0.8235\n",
      "Start training epoch 35\n"
     ]
    },
    {
     "name": "stderr",
     "output_type": "stream",
     "text": [
      "100%|██████████| 169/169 [00:23<00:00,  7.16it/s]\n",
      "100%|██████████| 19/19 [00:01<00:00, 13.10it/s]\n"
     ]
    },
    {
     "name": "stdout",
     "output_type": "stream",
     "text": [
      "Epoch 35: train loss 0.1461, valid loss 0.5960, valid acc 0.8185\n",
      "Start training epoch 36\n"
     ]
    },
    {
     "name": "stderr",
     "output_type": "stream",
     "text": [
      "100%|██████████| 169/169 [00:23<00:00,  7.11it/s]\n",
      "100%|██████████| 19/19 [00:01<00:00, 11.55it/s]\n"
     ]
    },
    {
     "name": "stdout",
     "output_type": "stream",
     "text": [
      "Epoch 36: train loss 0.1437, valid loss 0.5935, valid acc 0.8248\n",
      "Start training epoch 37\n"
     ]
    },
    {
     "name": "stderr",
     "output_type": "stream",
     "text": [
      "100%|██████████| 169/169 [00:23<00:00,  7.14it/s]\n",
      "100%|██████████| 19/19 [00:01<00:00, 11.62it/s]\n"
     ]
    },
    {
     "name": "stdout",
     "output_type": "stream",
     "text": [
      "Epoch 37: train loss 0.1417, valid loss 0.5930, valid acc 0.8158\n",
      "Start training epoch 38\n"
     ]
    },
    {
     "name": "stderr",
     "output_type": "stream",
     "text": [
      "100%|██████████| 169/169 [00:23<00:00,  7.14it/s]\n",
      "100%|██████████| 19/19 [00:01<00:00, 13.35it/s]\n"
     ]
    },
    {
     "name": "stdout",
     "output_type": "stream",
     "text": [
      "Epoch 38: train loss 0.1383, valid loss 0.5942, valid acc 0.8243\n",
      "Start training epoch 39\n"
     ]
    },
    {
     "name": "stderr",
     "output_type": "stream",
     "text": [
      "100%|██████████| 169/169 [00:24<00:00,  7.02it/s]\n",
      "100%|██████████| 19/19 [00:01<00:00, 12.49it/s]\n"
     ]
    },
    {
     "name": "stdout",
     "output_type": "stream",
     "text": [
      "Epoch 39: train loss 0.1394, valid loss 0.5913, valid acc 0.8207\n",
      "Start training epoch 40\n"
     ]
    },
    {
     "name": "stderr",
     "output_type": "stream",
     "text": [
      "100%|██████████| 169/169 [00:23<00:00,  7.10it/s]\n",
      "100%|██████████| 19/19 [00:01<00:00, 12.61it/s]\n"
     ]
    },
    {
     "name": "stdout",
     "output_type": "stream",
     "text": [
      "Epoch 40: train loss 0.1374, valid loss 0.5926, valid acc 0.8199\n",
      "Start training epoch 41\n"
     ]
    },
    {
     "name": "stderr",
     "output_type": "stream",
     "text": [
      "100%|██████████| 169/169 [00:23<00:00,  7.14it/s]\n",
      "100%|██████████| 19/19 [00:01<00:00, 12.37it/s]\n"
     ]
    },
    {
     "name": "stdout",
     "output_type": "stream",
     "text": [
      "Epoch 41: train loss 0.1383, valid loss 0.5955, valid acc 0.8232\n",
      "Start training epoch 42\n"
     ]
    },
    {
     "name": "stderr",
     "output_type": "stream",
     "text": [
      "100%|██████████| 169/169 [00:23<00:00,  7.05it/s]\n",
      "100%|██████████| 19/19 [00:01<00:00, 11.98it/s]\n"
     ]
    },
    {
     "name": "stdout",
     "output_type": "stream",
     "text": [
      "Epoch 42: train loss 0.1376, valid loss 0.5938, valid acc 0.8218\n",
      "Start training epoch 43\n"
     ]
    },
    {
     "name": "stderr",
     "output_type": "stream",
     "text": [
      "100%|██████████| 169/169 [00:23<00:00,  7.20it/s]\n",
      "100%|██████████| 19/19 [00:01<00:00, 12.61it/s]\n"
     ]
    },
    {
     "name": "stdout",
     "output_type": "stream",
     "text": [
      "Epoch 43: train loss 0.1334, valid loss 0.5935, valid acc 0.8251\n",
      "Start training epoch 44\n"
     ]
    },
    {
     "name": "stderr",
     "output_type": "stream",
     "text": [
      "100%|██████████| 169/169 [00:23<00:00,  7.12it/s]\n",
      "100%|██████████| 19/19 [00:01<00:00, 12.46it/s]\n"
     ]
    },
    {
     "name": "stdout",
     "output_type": "stream",
     "text": [
      "Epoch 44: train loss 0.1349, valid loss 0.5939, valid acc 0.8163\n",
      "Start training epoch 45\n"
     ]
    },
    {
     "name": "stderr",
     "output_type": "stream",
     "text": [
      "100%|██████████| 169/169 [00:23<00:00,  7.13it/s]\n",
      "100%|██████████| 19/19 [00:01<00:00, 12.73it/s]\n"
     ]
    },
    {
     "name": "stdout",
     "output_type": "stream",
     "text": [
      "Epoch 45: train loss 0.1354, valid loss 0.5971, valid acc 0.8166\n",
      "Start training epoch 46\n"
     ]
    },
    {
     "name": "stderr",
     "output_type": "stream",
     "text": [
      "100%|██████████| 169/169 [00:23<00:00,  7.10it/s]\n",
      "100%|██████████| 19/19 [00:01<00:00, 12.31it/s]\n"
     ]
    },
    {
     "name": "stdout",
     "output_type": "stream",
     "text": [
      "Epoch 46: train loss 0.1323, valid loss 0.5932, valid acc 0.8199\n",
      "Start training epoch 47\n"
     ]
    },
    {
     "name": "stderr",
     "output_type": "stream",
     "text": [
      "100%|██████████| 169/169 [00:23<00:00,  7.25it/s]\n",
      "100%|██████████| 19/19 [00:01<00:00, 13.03it/s]\n"
     ]
    },
    {
     "name": "stdout",
     "output_type": "stream",
     "text": [
      "Epoch 47: train loss 0.1315, valid loss 0.5952, valid acc 0.8204\n",
      "Start training epoch 48\n"
     ]
    },
    {
     "name": "stderr",
     "output_type": "stream",
     "text": [
      "100%|██████████| 169/169 [00:23<00:00,  7.16it/s]\n",
      "100%|██████████| 19/19 [00:01<00:00, 12.18it/s]\n"
     ]
    },
    {
     "name": "stdout",
     "output_type": "stream",
     "text": [
      "Epoch 48: train loss 0.1320, valid loss 0.5962, valid acc 0.8166\n",
      "Start training epoch 49\n"
     ]
    },
    {
     "name": "stderr",
     "output_type": "stream",
     "text": [
      "100%|██████████| 169/169 [00:23<00:00,  7.18it/s]\n",
      "100%|██████████| 19/19 [00:01<00:00, 12.55it/s]\n"
     ]
    },
    {
     "name": "stdout",
     "output_type": "stream",
     "text": [
      "Epoch 49: train loss 0.1295, valid loss 0.5959, valid acc 0.8196\n",
      "Start training epoch 50\n"
     ]
    },
    {
     "name": "stderr",
     "output_type": "stream",
     "text": [
      "100%|██████████| 169/169 [00:23<00:00,  7.21it/s]\n",
      "100%|██████████| 19/19 [00:01<00:00, 12.06it/s]\n"
     ]
    },
    {
     "name": "stdout",
     "output_type": "stream",
     "text": [
      "Epoch 50: train loss 0.1315, valid loss 0.5966, valid acc 0.8207\n",
      "Start training epoch 51\n"
     ]
    },
    {
     "name": "stderr",
     "output_type": "stream",
     "text": [
      "100%|██████████| 169/169 [00:23<00:00,  7.12it/s]\n",
      "100%|██████████| 19/19 [00:01<00:00, 12.26it/s]\n"
     ]
    },
    {
     "name": "stdout",
     "output_type": "stream",
     "text": [
      "Epoch 51: train loss 0.1316, valid loss 0.5965, valid acc 0.8202\n",
      "Start training epoch 52\n"
     ]
    },
    {
     "name": "stderr",
     "output_type": "stream",
     "text": [
      "100%|██████████| 169/169 [00:23<00:00,  7.17it/s]\n",
      "100%|██████████| 19/19 [00:01<00:00, 13.12it/s]\n"
     ]
    },
    {
     "name": "stdout",
     "output_type": "stream",
     "text": [
      "Epoch 52: train loss 0.1238, valid loss 0.5949, valid acc 0.8163\n",
      "Start training epoch 53\n"
     ]
    },
    {
     "name": "stderr",
     "output_type": "stream",
     "text": [
      "100%|██████████| 169/169 [00:23<00:00,  7.32it/s]\n",
      "100%|██████████| 19/19 [00:01<00:00, 13.21it/s]\n"
     ]
    },
    {
     "name": "stdout",
     "output_type": "stream",
     "text": [
      "Epoch 53: train loss 0.1261, valid loss 0.5952, valid acc 0.8199\n",
      "Start training epoch 54\n"
     ]
    },
    {
     "name": "stderr",
     "output_type": "stream",
     "text": [
      "100%|██████████| 169/169 [00:23<00:00,  7.29it/s]\n",
      "100%|██████████| 19/19 [00:01<00:00, 14.19it/s]\n"
     ]
    },
    {
     "name": "stdout",
     "output_type": "stream",
     "text": [
      "Epoch 54: train loss 0.1295, valid loss 0.5938, valid acc 0.8191\n",
      "Start training epoch 55\n"
     ]
    },
    {
     "name": "stderr",
     "output_type": "stream",
     "text": [
      "100%|██████████| 169/169 [00:22<00:00,  7.39it/s]\n",
      "100%|██████████| 19/19 [00:01<00:00, 14.12it/s]\n"
     ]
    },
    {
     "name": "stdout",
     "output_type": "stream",
     "text": [
      "Epoch 55: train loss 0.1286, valid loss 0.5953, valid acc 0.8218\n",
      "Start training epoch 56\n"
     ]
    },
    {
     "name": "stderr",
     "output_type": "stream",
     "text": [
      "100%|██████████| 169/169 [00:22<00:00,  7.36it/s]\n",
      "100%|██████████| 19/19 [00:01<00:00, 14.03it/s]\n"
     ]
    },
    {
     "name": "stdout",
     "output_type": "stream",
     "text": [
      "Epoch 56: train loss 0.1289, valid loss 0.5977, valid acc 0.8183\n",
      "Start training epoch 57\n"
     ]
    },
    {
     "name": "stderr",
     "output_type": "stream",
     "text": [
      "100%|██████████| 169/169 [00:23<00:00,  7.32it/s]\n",
      "100%|██████████| 19/19 [00:01<00:00, 13.07it/s]\n"
     ]
    },
    {
     "name": "stdout",
     "output_type": "stream",
     "text": [
      "Epoch 57: train loss 0.1267, valid loss 0.5948, valid acc 0.8166\n",
      "Start training epoch 58\n"
     ]
    },
    {
     "name": "stderr",
     "output_type": "stream",
     "text": [
      "100%|██████████| 169/169 [00:23<00:00,  7.25it/s]\n",
      "100%|██████████| 19/19 [00:01<00:00, 13.25it/s]\n"
     ]
    },
    {
     "name": "stdout",
     "output_type": "stream",
     "text": [
      "Epoch 58: train loss 0.1254, valid loss 0.5976, valid acc 0.8232\n",
      "Start training epoch 59\n"
     ]
    },
    {
     "name": "stderr",
     "output_type": "stream",
     "text": [
      "100%|██████████| 169/169 [00:23<00:00,  7.29it/s]\n",
      "100%|██████████| 19/19 [00:01<00:00, 12.84it/s]\n"
     ]
    },
    {
     "name": "stdout",
     "output_type": "stream",
     "text": [
      "Epoch 59: train loss 0.1244, valid loss 0.5969, valid acc 0.8204\n",
      "Start training epoch 60\n"
     ]
    },
    {
     "name": "stderr",
     "output_type": "stream",
     "text": [
      "100%|██████████| 169/169 [00:23<00:00,  7.11it/s]\n",
      "100%|██████████| 19/19 [00:01<00:00, 12.55it/s]\n"
     ]
    },
    {
     "name": "stdout",
     "output_type": "stream",
     "text": [
      "Epoch 60: train loss 0.1232, valid loss 0.6014, valid acc 0.8215\n",
      "Start training epoch 61\n"
     ]
    },
    {
     "name": "stderr",
     "output_type": "stream",
     "text": [
      "100%|██████████| 169/169 [00:23<00:00,  7.23it/s]\n",
      "100%|██████████| 19/19 [00:01<00:00, 13.26it/s]\n"
     ]
    },
    {
     "name": "stdout",
     "output_type": "stream",
     "text": [
      "Epoch 61: train loss 0.1245, valid loss 0.5969, valid acc 0.8204\n",
      "Start training epoch 62\n"
     ]
    },
    {
     "name": "stderr",
     "output_type": "stream",
     "text": [
      "100%|██████████| 169/169 [00:23<00:00,  7.11it/s]\n",
      "100%|██████████| 19/19 [00:01<00:00, 12.87it/s]\n"
     ]
    },
    {
     "name": "stdout",
     "output_type": "stream",
     "text": [
      "Epoch 62: train loss 0.1225, valid loss 0.5989, valid acc 0.8191\n",
      "Start training epoch 63\n"
     ]
    },
    {
     "name": "stderr",
     "output_type": "stream",
     "text": [
      "100%|██████████| 169/169 [00:23<00:00,  7.22it/s]\n",
      "100%|██████████| 19/19 [00:01<00:00, 12.75it/s]\n"
     ]
    },
    {
     "name": "stdout",
     "output_type": "stream",
     "text": [
      "Epoch 63: train loss 0.1249, valid loss 0.5984, valid acc 0.8243\n",
      "Start training epoch 64\n"
     ]
    },
    {
     "name": "stderr",
     "output_type": "stream",
     "text": [
      "100%|██████████| 169/169 [00:23<00:00,  7.18it/s]\n",
      "100%|██████████| 19/19 [00:01<00:00, 12.60it/s]\n"
     ]
    },
    {
     "name": "stdout",
     "output_type": "stream",
     "text": [
      "Epoch 64: train loss 0.1193, valid loss 0.6003, valid acc 0.8174\n",
      "Start training epoch 65\n"
     ]
    },
    {
     "name": "stderr",
     "output_type": "stream",
     "text": [
      "100%|██████████| 169/169 [00:23<00:00,  7.17it/s]\n",
      "100%|██████████| 19/19 [00:01<00:00, 12.41it/s]\n"
     ]
    },
    {
     "name": "stdout",
     "output_type": "stream",
     "text": [
      "Epoch 65: train loss 0.1233, valid loss 0.6021, valid acc 0.8180\n",
      "Start training epoch 66\n"
     ]
    },
    {
     "name": "stderr",
     "output_type": "stream",
     "text": [
      "100%|██████████| 169/169 [00:23<00:00,  7.11it/s]\n",
      "100%|██████████| 19/19 [00:01<00:00, 12.46it/s]\n"
     ]
    },
    {
     "name": "stdout",
     "output_type": "stream",
     "text": [
      "Epoch 66: train loss 0.1219, valid loss 0.6002, valid acc 0.8172\n",
      "Start training epoch 67\n"
     ]
    },
    {
     "name": "stderr",
     "output_type": "stream",
     "text": [
      "100%|██████████| 169/169 [00:23<00:00,  7.14it/s]\n",
      "100%|██████████| 19/19 [00:01<00:00, 13.03it/s]\n"
     ]
    },
    {
     "name": "stdout",
     "output_type": "stream",
     "text": [
      "Epoch 67: train loss 0.1216, valid loss 0.5948, valid acc 0.8240\n",
      "Start training epoch 68\n"
     ]
    },
    {
     "name": "stderr",
     "output_type": "stream",
     "text": [
      "100%|██████████| 169/169 [00:23<00:00,  7.15it/s]\n",
      "100%|██████████| 19/19 [00:01<00:00, 11.84it/s]\n"
     ]
    },
    {
     "name": "stdout",
     "output_type": "stream",
     "text": [
      "Epoch 68: train loss 0.1179, valid loss 0.6010, valid acc 0.8207\n",
      "Start training epoch 69\n"
     ]
    },
    {
     "name": "stderr",
     "output_type": "stream",
     "text": [
      "100%|██████████| 169/169 [00:23<00:00,  7.15it/s]\n",
      "100%|██████████| 19/19 [00:01<00:00, 11.55it/s]\n"
     ]
    },
    {
     "name": "stdout",
     "output_type": "stream",
     "text": [
      "Epoch 69: train loss 0.1157, valid loss 0.5944, valid acc 0.8139\n",
      "Start training epoch 70\n"
     ]
    },
    {
     "name": "stderr",
     "output_type": "stream",
     "text": [
      "100%|██████████| 169/169 [00:23<00:00,  7.10it/s]\n",
      "100%|██████████| 19/19 [00:01<00:00, 12.69it/s]\n"
     ]
    },
    {
     "name": "stdout",
     "output_type": "stream",
     "text": [
      "Epoch 70: train loss 0.1202, valid loss 0.6001, valid acc 0.8166\n",
      "Start training epoch 71\n"
     ]
    },
    {
     "name": "stderr",
     "output_type": "stream",
     "text": [
      "100%|██████████| 169/169 [00:23<00:00,  7.19it/s]\n",
      "100%|██████████| 19/19 [00:01<00:00, 13.32it/s]\n"
     ]
    },
    {
     "name": "stdout",
     "output_type": "stream",
     "text": [
      "Epoch 71: train loss 0.1177, valid loss 0.5999, valid acc 0.8158\n",
      "Start training epoch 72\n"
     ]
    },
    {
     "name": "stderr",
     "output_type": "stream",
     "text": [
      "100%|██████████| 169/169 [00:23<00:00,  7.15it/s]\n",
      "100%|██████████| 19/19 [00:01<00:00, 12.42it/s]\n"
     ]
    },
    {
     "name": "stdout",
     "output_type": "stream",
     "text": [
      "Epoch 72: train loss 0.1216, valid loss 0.5955, valid acc 0.8215\n",
      "Start training epoch 73\n"
     ]
    },
    {
     "name": "stderr",
     "output_type": "stream",
     "text": [
      "100%|██████████| 169/169 [00:23<00:00,  7.12it/s]\n",
      "100%|██████████| 19/19 [00:01<00:00, 12.83it/s]\n"
     ]
    },
    {
     "name": "stdout",
     "output_type": "stream",
     "text": [
      "Epoch 73: train loss 0.1150, valid loss 0.6013, valid acc 0.8194\n",
      "Start training epoch 74\n"
     ]
    },
    {
     "name": "stderr",
     "output_type": "stream",
     "text": [
      "100%|██████████| 169/169 [00:23<00:00,  7.11it/s]\n",
      "100%|██████████| 19/19 [00:01<00:00, 12.00it/s]\n"
     ]
    },
    {
     "name": "stdout",
     "output_type": "stream",
     "text": [
      "Epoch 74: train loss 0.1195, valid loss 0.6003, valid acc 0.8207\n",
      "Start training epoch 75\n"
     ]
    },
    {
     "name": "stderr",
     "output_type": "stream",
     "text": [
      "100%|██████████| 169/169 [00:23<00:00,  7.05it/s]\n",
      "100%|██████████| 19/19 [00:01<00:00, 12.11it/s]\n"
     ]
    },
    {
     "name": "stdout",
     "output_type": "stream",
     "text": [
      "Epoch 75: train loss 0.1143, valid loss 0.5988, valid acc 0.8114\n",
      "Start training epoch 76\n"
     ]
    },
    {
     "name": "stderr",
     "output_type": "stream",
     "text": [
      "100%|██████████| 169/169 [00:23<00:00,  7.09it/s]\n",
      "100%|██████████| 19/19 [00:01<00:00, 12.34it/s]\n"
     ]
    },
    {
     "name": "stdout",
     "output_type": "stream",
     "text": [
      "Epoch 76: train loss 0.1156, valid loss 0.5962, valid acc 0.8232\n",
      "Start training epoch 77\n"
     ]
    },
    {
     "name": "stderr",
     "output_type": "stream",
     "text": [
      "100%|██████████| 169/169 [00:23<00:00,  7.12it/s]\n",
      "100%|██████████| 19/19 [00:01<00:00, 13.02it/s]\n"
     ]
    },
    {
     "name": "stdout",
     "output_type": "stream",
     "text": [
      "Epoch 77: train loss 0.1154, valid loss 0.5953, valid acc 0.8215\n",
      "Start training epoch 78\n"
     ]
    },
    {
     "name": "stderr",
     "output_type": "stream",
     "text": [
      "100%|██████████| 169/169 [00:23<00:00,  7.07it/s]\n",
      "100%|██████████| 19/19 [00:01<00:00, 11.75it/s]\n"
     ]
    },
    {
     "name": "stdout",
     "output_type": "stream",
     "text": [
      "Epoch 78: train loss 0.1152, valid loss 0.5985, valid acc 0.8224\n",
      "Start training epoch 79\n"
     ]
    },
    {
     "name": "stderr",
     "output_type": "stream",
     "text": [
      "100%|██████████| 169/169 [00:23<00:00,  7.17it/s]\n",
      "100%|██████████| 19/19 [00:01<00:00, 12.85it/s]\n"
     ]
    },
    {
     "name": "stdout",
     "output_type": "stream",
     "text": [
      "Epoch 79: train loss 0.1133, valid loss 0.6014, valid acc 0.8210\n",
      "Start training epoch 80\n"
     ]
    },
    {
     "name": "stderr",
     "output_type": "stream",
     "text": [
      "100%|██████████| 169/169 [00:24<00:00,  7.02it/s]\n",
      "100%|██████████| 19/19 [00:01<00:00, 13.80it/s]\n"
     ]
    },
    {
     "name": "stdout",
     "output_type": "stream",
     "text": [
      "Epoch 80: train loss 0.1103, valid loss 0.5983, valid acc 0.8207\n",
      "Start training epoch 81\n"
     ]
    },
    {
     "name": "stderr",
     "output_type": "stream",
     "text": [
      "100%|██████████| 169/169 [00:23<00:00,  7.08it/s]\n",
      "100%|██████████| 19/19 [00:01<00:00, 13.12it/s]\n"
     ]
    },
    {
     "name": "stdout",
     "output_type": "stream",
     "text": [
      "Epoch 81: train loss 0.1116, valid loss 0.5984, valid acc 0.8240\n",
      "Start training epoch 82\n"
     ]
    },
    {
     "name": "stderr",
     "output_type": "stream",
     "text": [
      "100%|██████████| 169/169 [00:24<00:00,  6.92it/s]\n",
      "100%|██████████| 19/19 [00:01<00:00, 12.38it/s]\n"
     ]
    },
    {
     "name": "stdout",
     "output_type": "stream",
     "text": [
      "Epoch 82: train loss 0.1146, valid loss 0.5982, valid acc 0.8215\n",
      "Start training epoch 83\n"
     ]
    },
    {
     "name": "stderr",
     "output_type": "stream",
     "text": [
      "100%|██████████| 169/169 [00:24<00:00,  6.95it/s]\n",
      "100%|██████████| 19/19 [00:01<00:00, 12.56it/s]\n"
     ]
    },
    {
     "name": "stdout",
     "output_type": "stream",
     "text": [
      "Epoch 83: train loss 0.1108, valid loss 0.6014, valid acc 0.8215\n",
      "Start training epoch 84\n"
     ]
    },
    {
     "name": "stderr",
     "output_type": "stream",
     "text": [
      "100%|██████████| 169/169 [00:24<00:00,  7.02it/s]\n",
      "100%|██████████| 19/19 [00:01<00:00, 12.38it/s]\n"
     ]
    },
    {
     "name": "stdout",
     "output_type": "stream",
     "text": [
      "Epoch 84: train loss 0.1088, valid loss 0.5990, valid acc 0.8172\n",
      "Start training epoch 85\n"
     ]
    },
    {
     "name": "stderr",
     "output_type": "stream",
     "text": [
      "100%|██████████| 169/169 [00:23<00:00,  7.08it/s]\n",
      "100%|██████████| 19/19 [00:01<00:00, 12.67it/s]\n"
     ]
    },
    {
     "name": "stdout",
     "output_type": "stream",
     "text": [
      "Epoch 85: train loss 0.1117, valid loss 0.5992, valid acc 0.8196\n",
      "Start training epoch 86\n"
     ]
    },
    {
     "name": "stderr",
     "output_type": "stream",
     "text": [
      "100%|██████████| 169/169 [00:23<00:00,  7.11it/s]\n",
      "100%|██████████| 19/19 [00:01<00:00, 13.30it/s]\n"
     ]
    },
    {
     "name": "stdout",
     "output_type": "stream",
     "text": [
      "Epoch 86: train loss 0.1076, valid loss 0.5994, valid acc 0.8191\n",
      "Start training epoch 87\n"
     ]
    },
    {
     "name": "stderr",
     "output_type": "stream",
     "text": [
      "100%|██████████| 169/169 [00:24<00:00,  6.93it/s]\n",
      "100%|██████████| 19/19 [00:01<00:00, 12.12it/s]\n"
     ]
    },
    {
     "name": "stdout",
     "output_type": "stream",
     "text": [
      "Epoch 87: train loss 0.1128, valid loss 0.5982, valid acc 0.8218\n",
      "Start training epoch 88\n"
     ]
    },
    {
     "name": "stderr",
     "output_type": "stream",
     "text": [
      "100%|██████████| 169/169 [00:23<00:00,  7.07it/s]\n",
      "100%|██████████| 19/19 [00:01<00:00, 12.12it/s]\n"
     ]
    },
    {
     "name": "stdout",
     "output_type": "stream",
     "text": [
      "Epoch 88: train loss 0.1083, valid loss 0.6018, valid acc 0.8147\n",
      "Start training epoch 89\n"
     ]
    },
    {
     "name": "stderr",
     "output_type": "stream",
     "text": [
      "100%|██████████| 169/169 [00:24<00:00,  6.90it/s]\n",
      "100%|██████████| 19/19 [00:01<00:00, 12.14it/s]\n"
     ]
    },
    {
     "name": "stdout",
     "output_type": "stream",
     "text": [
      "Epoch 89: train loss 0.1091, valid loss 0.6001, valid acc 0.8235\n",
      "Start training epoch 90\n"
     ]
    },
    {
     "name": "stderr",
     "output_type": "stream",
     "text": [
      "100%|██████████| 169/169 [00:23<00:00,  7.13it/s]\n",
      "100%|██████████| 19/19 [00:01<00:00, 12.04it/s]\n"
     ]
    },
    {
     "name": "stdout",
     "output_type": "stream",
     "text": [
      "Epoch 90: train loss 0.1083, valid loss 0.6015, valid acc 0.8207\n",
      "Start training epoch 91\n"
     ]
    },
    {
     "name": "stderr",
     "output_type": "stream",
     "text": [
      "100%|██████████| 169/169 [00:24<00:00,  7.02it/s]\n",
      "100%|██████████| 19/19 [00:01<00:00, 12.95it/s]\n"
     ]
    },
    {
     "name": "stdout",
     "output_type": "stream",
     "text": [
      "Epoch 91: train loss 0.1057, valid loss 0.5985, valid acc 0.8218\n",
      "Start training epoch 92\n"
     ]
    },
    {
     "name": "stderr",
     "output_type": "stream",
     "text": [
      "100%|██████████| 169/169 [00:23<00:00,  7.05it/s]\n",
      "100%|██████████| 19/19 [00:01<00:00, 12.58it/s]\n"
     ]
    },
    {
     "name": "stdout",
     "output_type": "stream",
     "text": [
      "Epoch 92: train loss 0.1058, valid loss 0.6031, valid acc 0.8215\n",
      "Start training epoch 93\n"
     ]
    },
    {
     "name": "stderr",
     "output_type": "stream",
     "text": [
      "100%|██████████| 169/169 [00:24<00:00,  6.92it/s]\n",
      "100%|██████████| 19/19 [00:01<00:00, 11.67it/s]\n"
     ]
    },
    {
     "name": "stdout",
     "output_type": "stream",
     "text": [
      "Epoch 93: train loss 0.1058, valid loss 0.6002, valid acc 0.8232\n",
      "Start training epoch 94\n"
     ]
    },
    {
     "name": "stderr",
     "output_type": "stream",
     "text": [
      "100%|██████████| 169/169 [00:23<00:00,  7.18it/s]\n",
      "100%|██████████| 19/19 [00:01<00:00, 11.22it/s]\n"
     ]
    },
    {
     "name": "stdout",
     "output_type": "stream",
     "text": [
      "Epoch 94: train loss 0.1067, valid loss 0.5996, valid acc 0.8191\n",
      "Start training epoch 95\n"
     ]
    },
    {
     "name": "stderr",
     "output_type": "stream",
     "text": [
      "100%|██████████| 169/169 [00:24<00:00,  6.99it/s]\n",
      "100%|██████████| 19/19 [00:01<00:00, 11.63it/s]\n"
     ]
    },
    {
     "name": "stdout",
     "output_type": "stream",
     "text": [
      "Epoch 95: train loss 0.1037, valid loss 0.6030, valid acc 0.8188\n",
      "Start training epoch 96\n"
     ]
    },
    {
     "name": "stderr",
     "output_type": "stream",
     "text": [
      "100%|██████████| 169/169 [00:24<00:00,  7.03it/s]\n",
      "100%|██████████| 19/19 [00:01<00:00, 12.32it/s]\n"
     ]
    },
    {
     "name": "stdout",
     "output_type": "stream",
     "text": [
      "Epoch 96: train loss 0.1022, valid loss 0.5978, valid acc 0.8174\n",
      "Start training epoch 97\n"
     ]
    },
    {
     "name": "stderr",
     "output_type": "stream",
     "text": [
      "100%|██████████| 169/169 [00:24<00:00,  7.02it/s]\n",
      "100%|██████████| 19/19 [00:01<00:00, 11.69it/s]\n"
     ]
    },
    {
     "name": "stdout",
     "output_type": "stream",
     "text": [
      "Epoch 97: train loss 0.1092, valid loss 0.6048, valid acc 0.8188\n",
      "Start training epoch 98\n"
     ]
    },
    {
     "name": "stderr",
     "output_type": "stream",
     "text": [
      "100%|██████████| 169/169 [00:24<00:00,  7.03it/s]\n",
      "100%|██████████| 19/19 [00:01<00:00, 12.99it/s]\n"
     ]
    },
    {
     "name": "stdout",
     "output_type": "stream",
     "text": [
      "Epoch 98: train loss 0.1008, valid loss 0.5984, valid acc 0.8210\n",
      "Start training epoch 99\n"
     ]
    },
    {
     "name": "stderr",
     "output_type": "stream",
     "text": [
      "100%|██████████| 169/169 [00:23<00:00,  7.12it/s]\n",
      "100%|██████████| 19/19 [00:01<00:00, 12.37it/s]\n"
     ]
    },
    {
     "name": "stdout",
     "output_type": "stream",
     "text": [
      "Epoch 99: train loss 0.1039, valid loss 0.6034, valid acc 0.8183\n",
      "Start training epoch 100\n"
     ]
    },
    {
     "name": "stderr",
     "output_type": "stream",
     "text": [
      "100%|██████████| 169/169 [00:24<00:00,  7.04it/s]\n",
      "100%|██████████| 19/19 [00:01<00:00, 12.46it/s]\n"
     ]
    },
    {
     "name": "stdout",
     "output_type": "stream",
     "text": [
      "Epoch 100: train loss 0.1033, valid loss 0.6008, valid acc 0.8174\n",
      "Start training epoch 101\n"
     ]
    },
    {
     "name": "stderr",
     "output_type": "stream",
     "text": [
      "100%|██████████| 169/169 [00:23<00:00,  7.22it/s]\n",
      "100%|██████████| 19/19 [00:01<00:00, 12.72it/s]\n"
     ]
    },
    {
     "name": "stdout",
     "output_type": "stream",
     "text": [
      "Epoch 101: train loss 0.0987, valid loss 0.6016, valid acc 0.8191\n",
      "Start training epoch 102\n"
     ]
    },
    {
     "name": "stderr",
     "output_type": "stream",
     "text": [
      "100%|██████████| 169/169 [00:23<00:00,  7.16it/s]\n",
      "100%|██████████| 19/19 [00:01<00:00, 12.80it/s]\n"
     ]
    },
    {
     "name": "stdout",
     "output_type": "stream",
     "text": [
      "Epoch 102: train loss 0.0982, valid loss 0.6015, valid acc 0.8207\n",
      "Start training epoch 103\n"
     ]
    },
    {
     "name": "stderr",
     "output_type": "stream",
     "text": [
      "100%|██████████| 169/169 [00:23<00:00,  7.14it/s]\n",
      "100%|██████████| 19/19 [00:01<00:00, 12.03it/s]\n"
     ]
    },
    {
     "name": "stdout",
     "output_type": "stream",
     "text": [
      "Epoch 103: train loss 0.0995, valid loss 0.6058, valid acc 0.8111\n",
      "Start training epoch 104\n"
     ]
    },
    {
     "name": "stderr",
     "output_type": "stream",
     "text": [
      "100%|██████████| 169/169 [00:23<00:00,  7.09it/s]\n",
      "100%|██████████| 19/19 [00:01<00:00, 12.20it/s]\n"
     ]
    },
    {
     "name": "stdout",
     "output_type": "stream",
     "text": [
      "Epoch 104: train loss 0.0992, valid loss 0.6045, valid acc 0.8166\n",
      "Start training epoch 105\n"
     ]
    },
    {
     "name": "stderr",
     "output_type": "stream",
     "text": [
      "100%|██████████| 169/169 [00:23<00:00,  7.09it/s]\n",
      "100%|██████████| 19/19 [00:01<00:00, 11.68it/s]\n"
     ]
    },
    {
     "name": "stdout",
     "output_type": "stream",
     "text": [
      "Epoch 105: train loss 0.0966, valid loss 0.6002, valid acc 0.8204\n",
      "Start training epoch 106\n"
     ]
    },
    {
     "name": "stderr",
     "output_type": "stream",
     "text": [
      "100%|██████████| 169/169 [00:23<00:00,  7.13it/s]\n",
      "100%|██████████| 19/19 [00:01<00:00, 13.61it/s]\n"
     ]
    },
    {
     "name": "stdout",
     "output_type": "stream",
     "text": [
      "Epoch 106: train loss 0.1032, valid loss 0.5977, valid acc 0.8188\n",
      "Start training epoch 107\n"
     ]
    },
    {
     "name": "stderr",
     "output_type": "stream",
     "text": [
      "100%|██████████| 169/169 [00:24<00:00,  7.02it/s]\n",
      "100%|██████████| 19/19 [00:01<00:00, 12.69it/s]\n"
     ]
    },
    {
     "name": "stdout",
     "output_type": "stream",
     "text": [
      "Epoch 107: train loss 0.1008, valid loss 0.6009, valid acc 0.8172\n",
      "Start training epoch 108\n"
     ]
    },
    {
     "name": "stderr",
     "output_type": "stream",
     "text": [
      "100%|██████████| 169/169 [00:23<00:00,  7.15it/s]\n",
      "100%|██████████| 19/19 [00:01<00:00, 13.40it/s]\n"
     ]
    },
    {
     "name": "stdout",
     "output_type": "stream",
     "text": [
      "Epoch 108: train loss 0.0997, valid loss 0.6035, valid acc 0.8155\n",
      "Start training epoch 109\n"
     ]
    },
    {
     "name": "stderr",
     "output_type": "stream",
     "text": [
      "100%|██████████| 169/169 [00:23<00:00,  7.14it/s]\n",
      "100%|██████████| 19/19 [00:01<00:00, 13.40it/s]\n"
     ]
    },
    {
     "name": "stdout",
     "output_type": "stream",
     "text": [
      "Epoch 109: train loss 0.0967, valid loss 0.6026, valid acc 0.8215\n",
      "Start training epoch 110\n"
     ]
    },
    {
     "name": "stderr",
     "output_type": "stream",
     "text": [
      "100%|██████████| 169/169 [00:23<00:00,  7.20it/s]\n",
      "100%|██████████| 19/19 [00:01<00:00, 11.53it/s]\n"
     ]
    },
    {
     "name": "stdout",
     "output_type": "stream",
     "text": [
      "Epoch 110: train loss 0.0953, valid loss 0.6062, valid acc 0.8087\n",
      "Start training epoch 111\n"
     ]
    },
    {
     "name": "stderr",
     "output_type": "stream",
     "text": [
      "100%|██████████| 169/169 [00:23<00:00,  7.11it/s]\n",
      "100%|██████████| 19/19 [00:01<00:00, 12.43it/s]\n"
     ]
    },
    {
     "name": "stdout",
     "output_type": "stream",
     "text": [
      "Epoch 111: train loss 0.0987, valid loss 0.6099, valid acc 0.8130\n",
      "Start training epoch 112\n"
     ]
    },
    {
     "name": "stderr",
     "output_type": "stream",
     "text": [
      "100%|██████████| 169/169 [00:23<00:00,  7.16it/s]\n",
      "100%|██████████| 19/19 [00:01<00:00, 13.00it/s]\n"
     ]
    },
    {
     "name": "stdout",
     "output_type": "stream",
     "text": [
      "Epoch 112: train loss 0.0982, valid loss 0.6035, valid acc 0.8215\n",
      "Start training epoch 113\n"
     ]
    },
    {
     "name": "stderr",
     "output_type": "stream",
     "text": [
      "100%|██████████| 169/169 [00:24<00:00,  7.04it/s]\n",
      "100%|██████████| 19/19 [00:01<00:00, 12.11it/s]\n"
     ]
    },
    {
     "name": "stdout",
     "output_type": "stream",
     "text": [
      "Epoch 113: train loss 0.0999, valid loss 0.6040, valid acc 0.8158\n",
      "Start training epoch 114\n"
     ]
    },
    {
     "name": "stderr",
     "output_type": "stream",
     "text": [
      "100%|██████████| 169/169 [00:23<00:00,  7.18it/s]\n",
      "100%|██████████| 19/19 [00:01<00:00, 11.73it/s]\n"
     ]
    },
    {
     "name": "stdout",
     "output_type": "stream",
     "text": [
      "Epoch 114: train loss 0.0963, valid loss 0.6015, valid acc 0.8180\n",
      "Start training epoch 115\n"
     ]
    },
    {
     "name": "stderr",
     "output_type": "stream",
     "text": [
      "100%|██████████| 169/169 [00:23<00:00,  7.07it/s]\n",
      "100%|██████████| 19/19 [00:01<00:00, 12.35it/s]\n"
     ]
    },
    {
     "name": "stdout",
     "output_type": "stream",
     "text": [
      "Epoch 115: train loss 0.0960, valid loss 0.6020, valid acc 0.8199\n",
      "Start training epoch 116\n"
     ]
    },
    {
     "name": "stderr",
     "output_type": "stream",
     "text": [
      "100%|██████████| 169/169 [00:24<00:00,  6.91it/s]\n",
      "100%|██████████| 19/19 [00:01<00:00, 12.42it/s]\n"
     ]
    },
    {
     "name": "stdout",
     "output_type": "stream",
     "text": [
      "Epoch 116: train loss 0.0943, valid loss 0.6056, valid acc 0.8147\n",
      "Start training epoch 117\n"
     ]
    },
    {
     "name": "stderr",
     "output_type": "stream",
     "text": [
      "100%|██████████| 169/169 [00:24<00:00,  6.87it/s]\n",
      "100%|██████████| 19/19 [00:01<00:00, 12.72it/s]\n"
     ]
    },
    {
     "name": "stdout",
     "output_type": "stream",
     "text": [
      "Epoch 117: train loss 0.0922, valid loss 0.6035, valid acc 0.8155\n",
      "Start training epoch 118\n"
     ]
    },
    {
     "name": "stderr",
     "output_type": "stream",
     "text": [
      "100%|██████████| 169/169 [00:24<00:00,  6.85it/s]\n",
      "100%|██████████| 19/19 [00:01<00:00, 10.96it/s]\n"
     ]
    },
    {
     "name": "stdout",
     "output_type": "stream",
     "text": [
      "Epoch 118: train loss 0.0951, valid loss 0.6026, valid acc 0.8199\n",
      "Start training epoch 119\n"
     ]
    },
    {
     "name": "stderr",
     "output_type": "stream",
     "text": [
      "100%|██████████| 169/169 [00:24<00:00,  6.80it/s]\n",
      "100%|██████████| 19/19 [00:01<00:00, 12.73it/s]\n"
     ]
    },
    {
     "name": "stdout",
     "output_type": "stream",
     "text": [
      "Epoch 119: train loss 0.0888, valid loss 0.6039, valid acc 0.8177\n",
      "Start training epoch 120\n"
     ]
    },
    {
     "name": "stderr",
     "output_type": "stream",
     "text": [
      "100%|██████████| 169/169 [00:23<00:00,  7.05it/s]\n",
      "100%|██████████| 19/19 [00:01<00:00, 11.85it/s]\n"
     ]
    },
    {
     "name": "stdout",
     "output_type": "stream",
     "text": [
      "Epoch 120: train loss 0.0903, valid loss 0.6019, valid acc 0.8163\n",
      "Start training epoch 121\n"
     ]
    },
    {
     "name": "stderr",
     "output_type": "stream",
     "text": [
      "100%|██████████| 169/169 [00:23<00:00,  7.06it/s]\n",
      "100%|██████████| 19/19 [00:01<00:00, 11.49it/s]\n"
     ]
    },
    {
     "name": "stdout",
     "output_type": "stream",
     "text": [
      "Epoch 121: train loss 0.0905, valid loss 0.6046, valid acc 0.8257\n",
      "Start training epoch 122\n"
     ]
    },
    {
     "name": "stderr",
     "output_type": "stream",
     "text": [
      "100%|██████████| 169/169 [00:24<00:00,  6.94it/s]\n",
      "100%|██████████| 19/19 [00:01<00:00, 11.72it/s]\n"
     ]
    },
    {
     "name": "stdout",
     "output_type": "stream",
     "text": [
      "Epoch 122: train loss 0.0950, valid loss 0.6048, valid acc 0.8152\n",
      "Start training epoch 123\n"
     ]
    },
    {
     "name": "stderr",
     "output_type": "stream",
     "text": [
      "100%|██████████| 169/169 [00:24<00:00,  6.80it/s]\n",
      "100%|██████████| 19/19 [00:01<00:00, 11.96it/s]\n"
     ]
    },
    {
     "name": "stdout",
     "output_type": "stream",
     "text": [
      "Epoch 123: train loss 0.0924, valid loss 0.6022, valid acc 0.8204\n",
      "Start training epoch 124\n"
     ]
    },
    {
     "name": "stderr",
     "output_type": "stream",
     "text": [
      "100%|██████████| 169/169 [00:24<00:00,  6.93it/s]\n",
      "100%|██████████| 19/19 [00:01<00:00, 11.51it/s]\n"
     ]
    },
    {
     "name": "stdout",
     "output_type": "stream",
     "text": [
      "Epoch 124: train loss 0.0886, valid loss 0.6040, valid acc 0.8199\n",
      "Start training epoch 125\n"
     ]
    },
    {
     "name": "stderr",
     "output_type": "stream",
     "text": [
      "100%|██████████| 169/169 [00:24<00:00,  7.01it/s]\n",
      "100%|██████████| 19/19 [00:01<00:00, 11.70it/s]\n"
     ]
    },
    {
     "name": "stdout",
     "output_type": "stream",
     "text": [
      "Epoch 125: train loss 0.0908, valid loss 0.6035, valid acc 0.8199\n",
      "Start training epoch 126\n"
     ]
    },
    {
     "name": "stderr",
     "output_type": "stream",
     "text": [
      "100%|██████████| 169/169 [00:24<00:00,  6.85it/s]\n",
      "100%|██████████| 19/19 [00:01<00:00, 11.23it/s]\n"
     ]
    },
    {
     "name": "stdout",
     "output_type": "stream",
     "text": [
      "Epoch 126: train loss 0.0900, valid loss 0.6036, valid acc 0.8174\n",
      "Start training epoch 127\n"
     ]
    },
    {
     "name": "stderr",
     "output_type": "stream",
     "text": [
      "100%|██████████| 169/169 [00:23<00:00,  7.13it/s]\n",
      "100%|██████████| 19/19 [00:01<00:00, 11.68it/s]\n"
     ]
    },
    {
     "name": "stdout",
     "output_type": "stream",
     "text": [
      "Epoch 127: train loss 0.0913, valid loss 0.6033, valid acc 0.8213\n",
      "Start training epoch 128\n"
     ]
    },
    {
     "name": "stderr",
     "output_type": "stream",
     "text": [
      "100%|██████████| 169/169 [00:24<00:00,  6.94it/s]\n",
      "100%|██████████| 19/19 [00:01<00:00, 12.24it/s]\n"
     ]
    },
    {
     "name": "stdout",
     "output_type": "stream",
     "text": [
      "Epoch 128: train loss 0.0905, valid loss 0.6029, valid acc 0.8180\n",
      "Start training epoch 129\n"
     ]
    },
    {
     "name": "stderr",
     "output_type": "stream",
     "text": [
      "100%|██████████| 169/169 [00:24<00:00,  6.97it/s]\n",
      "100%|██████████| 19/19 [00:01<00:00, 10.93it/s]\n"
     ]
    },
    {
     "name": "stdout",
     "output_type": "stream",
     "text": [
      "Epoch 129: train loss 0.0902, valid loss 0.6061, valid acc 0.8158\n",
      "Start training epoch 130\n"
     ]
    },
    {
     "name": "stderr",
     "output_type": "stream",
     "text": [
      "100%|██████████| 169/169 [00:24<00:00,  7.04it/s]\n",
      "100%|██████████| 19/19 [00:01<00:00, 11.94it/s]\n"
     ]
    },
    {
     "name": "stdout",
     "output_type": "stream",
     "text": [
      "Epoch 130: train loss 0.0903, valid loss 0.6062, valid acc 0.8188\n",
      "Start training epoch 131\n"
     ]
    },
    {
     "name": "stderr",
     "output_type": "stream",
     "text": [
      "100%|██████████| 169/169 [00:24<00:00,  6.92it/s]\n",
      "100%|██████████| 19/19 [00:01<00:00, 12.12it/s]\n"
     ]
    },
    {
     "name": "stdout",
     "output_type": "stream",
     "text": [
      "Epoch 131: train loss 0.0829, valid loss 0.6068, valid acc 0.8141\n",
      "Start training epoch 132\n"
     ]
    },
    {
     "name": "stderr",
     "output_type": "stream",
     "text": [
      "100%|██████████| 169/169 [00:23<00:00,  7.05it/s]\n",
      "100%|██████████| 19/19 [00:01<00:00, 11.66it/s]\n"
     ]
    },
    {
     "name": "stdout",
     "output_type": "stream",
     "text": [
      "Epoch 132: train loss 0.0895, valid loss 0.6044, valid acc 0.8158\n",
      "Start training epoch 133\n"
     ]
    },
    {
     "name": "stderr",
     "output_type": "stream",
     "text": [
      "100%|██████████| 169/169 [00:23<00:00,  7.05it/s]\n",
      "100%|██████████| 19/19 [00:01<00:00, 12.81it/s]\n"
     ]
    },
    {
     "name": "stdout",
     "output_type": "stream",
     "text": [
      "Epoch 133: train loss 0.0869, valid loss 0.6023, valid acc 0.8232\n",
      "Start training epoch 134\n"
     ]
    },
    {
     "name": "stderr",
     "output_type": "stream",
     "text": [
      "100%|██████████| 169/169 [00:24<00:00,  6.95it/s]\n",
      "100%|██████████| 19/19 [00:01<00:00, 11.86it/s]\n"
     ]
    },
    {
     "name": "stdout",
     "output_type": "stream",
     "text": [
      "Epoch 134: train loss 0.0871, valid loss 0.6078, valid acc 0.8155\n",
      "Start training epoch 135\n"
     ]
    },
    {
     "name": "stderr",
     "output_type": "stream",
     "text": [
      "100%|██████████| 169/169 [00:24<00:00,  6.92it/s]\n",
      "100%|██████████| 19/19 [00:01<00:00, 11.18it/s]\n"
     ]
    },
    {
     "name": "stdout",
     "output_type": "stream",
     "text": [
      "Epoch 135: train loss 0.0884, valid loss 0.6089, valid acc 0.8248\n",
      "Start training epoch 136\n"
     ]
    },
    {
     "name": "stderr",
     "output_type": "stream",
     "text": [
      "100%|██████████| 169/169 [00:24<00:00,  6.97it/s]\n",
      "100%|██████████| 19/19 [00:01<00:00, 12.01it/s]\n"
     ]
    },
    {
     "name": "stdout",
     "output_type": "stream",
     "text": [
      "Epoch 136: train loss 0.0867, valid loss 0.6089, valid acc 0.8221\n",
      "Start training epoch 137\n"
     ]
    },
    {
     "name": "stderr",
     "output_type": "stream",
     "text": [
      "100%|██████████| 169/169 [00:24<00:00,  6.92it/s]\n",
      "100%|██████████| 19/19 [00:01<00:00, 13.02it/s]\n"
     ]
    },
    {
     "name": "stdout",
     "output_type": "stream",
     "text": [
      "Epoch 137: train loss 0.0824, valid loss 0.6064, valid acc 0.8188\n",
      "Start training epoch 138\n"
     ]
    },
    {
     "name": "stderr",
     "output_type": "stream",
     "text": [
      "100%|██████████| 169/169 [00:24<00:00,  6.92it/s]\n",
      "100%|██████████| 19/19 [00:01<00:00, 12.36it/s]\n"
     ]
    },
    {
     "name": "stdout",
     "output_type": "stream",
     "text": [
      "Epoch 138: train loss 0.0869, valid loss 0.6069, valid acc 0.8174\n",
      "Start training epoch 139\n"
     ]
    },
    {
     "name": "stderr",
     "output_type": "stream",
     "text": [
      "100%|██████████| 169/169 [00:24<00:00,  6.91it/s]\n",
      "100%|██████████| 19/19 [00:01<00:00, 12.38it/s]\n"
     ]
    },
    {
     "name": "stdout",
     "output_type": "stream",
     "text": [
      "Epoch 139: train loss 0.0865, valid loss 0.6082, valid acc 0.8207\n",
      "Start training epoch 140\n"
     ]
    },
    {
     "name": "stderr",
     "output_type": "stream",
     "text": [
      "100%|██████████| 169/169 [00:23<00:00,  7.04it/s]\n",
      "100%|██████████| 19/19 [00:01<00:00, 11.79it/s]\n"
     ]
    },
    {
     "name": "stdout",
     "output_type": "stream",
     "text": [
      "Epoch 140: train loss 0.0808, valid loss 0.6016, valid acc 0.8191\n",
      "Start training epoch 141\n"
     ]
    },
    {
     "name": "stderr",
     "output_type": "stream",
     "text": [
      "100%|██████████| 169/169 [00:24<00:00,  6.90it/s]\n",
      "100%|██████████| 19/19 [00:01<00:00, 12.50it/s]\n"
     ]
    },
    {
     "name": "stdout",
     "output_type": "stream",
     "text": [
      "Epoch 141: train loss 0.0825, valid loss 0.6064, valid acc 0.8158\n",
      "Start training epoch 142\n"
     ]
    },
    {
     "name": "stderr",
     "output_type": "stream",
     "text": [
      "100%|██████████| 169/169 [00:24<00:00,  7.04it/s]\n",
      "100%|██████████| 19/19 [00:01<00:00, 11.63it/s]\n"
     ]
    },
    {
     "name": "stdout",
     "output_type": "stream",
     "text": [
      "Epoch 142: train loss 0.0834, valid loss 0.6057, valid acc 0.8215\n",
      "Start training epoch 143\n"
     ]
    },
    {
     "name": "stderr",
     "output_type": "stream",
     "text": [
      "100%|██████████| 169/169 [00:24<00:00,  6.93it/s]\n",
      "100%|██████████| 19/19 [00:01<00:00, 11.08it/s]\n"
     ]
    },
    {
     "name": "stdout",
     "output_type": "stream",
     "text": [
      "Epoch 143: train loss 0.0843, valid loss 0.6059, valid acc 0.8174\n",
      "Start training epoch 144\n"
     ]
    },
    {
     "name": "stderr",
     "output_type": "stream",
     "text": [
      "100%|██████████| 169/169 [00:24<00:00,  6.93it/s]\n",
      "100%|██████████| 19/19 [00:01<00:00, 12.79it/s]\n"
     ]
    },
    {
     "name": "stdout",
     "output_type": "stream",
     "text": [
      "Epoch 144: train loss 0.0827, valid loss 0.6080, valid acc 0.8207\n",
      "Start training epoch 145\n"
     ]
    },
    {
     "name": "stderr",
     "output_type": "stream",
     "text": [
      "100%|██████████| 169/169 [00:23<00:00,  7.09it/s]\n",
      "100%|██████████| 19/19 [00:01<00:00, 12.18it/s]\n"
     ]
    },
    {
     "name": "stdout",
     "output_type": "stream",
     "text": [
      "Epoch 145: train loss 0.0855, valid loss 0.6067, valid acc 0.8133\n",
      "Start training epoch 146\n"
     ]
    },
    {
     "name": "stderr",
     "output_type": "stream",
     "text": [
      "100%|██████████| 169/169 [00:24<00:00,  6.96it/s]\n",
      "100%|██████████| 19/19 [00:01<00:00, 12.49it/s]\n"
     ]
    },
    {
     "name": "stdout",
     "output_type": "stream",
     "text": [
      "Epoch 146: train loss 0.0862, valid loss 0.6068, valid acc 0.8191\n",
      "Start training epoch 147\n"
     ]
    },
    {
     "name": "stderr",
     "output_type": "stream",
     "text": [
      "100%|██████████| 169/169 [00:24<00:00,  6.99it/s]\n",
      "100%|██████████| 19/19 [00:01<00:00, 11.55it/s]\n"
     ]
    },
    {
     "name": "stdout",
     "output_type": "stream",
     "text": [
      "Epoch 147: train loss 0.0832, valid loss 0.6063, valid acc 0.8207\n",
      "Start training epoch 148\n"
     ]
    },
    {
     "name": "stderr",
     "output_type": "stream",
     "text": [
      "100%|██████████| 169/169 [00:24<00:00,  6.96it/s]\n",
      "100%|██████████| 19/19 [00:01<00:00, 12.15it/s]\n"
     ]
    },
    {
     "name": "stdout",
     "output_type": "stream",
     "text": [
      "Epoch 148: train loss 0.0794, valid loss 0.6099, valid acc 0.8163\n",
      "Start training epoch 149\n"
     ]
    },
    {
     "name": "stderr",
     "output_type": "stream",
     "text": [
      "100%|██████████| 169/169 [00:24<00:00,  6.99it/s]\n",
      "100%|██████████| 19/19 [00:01<00:00, 13.25it/s]\n"
     ]
    },
    {
     "name": "stdout",
     "output_type": "stream",
     "text": [
      "Epoch 149: train loss 0.0805, valid loss 0.6062, valid acc 0.8207\n",
      "Start training epoch 150\n"
     ]
    },
    {
     "name": "stderr",
     "output_type": "stream",
     "text": [
      "100%|██████████| 169/169 [00:24<00:00,  7.04it/s]\n",
      "100%|██████████| 19/19 [00:01<00:00, 11.21it/s]\n"
     ]
    },
    {
     "name": "stdout",
     "output_type": "stream",
     "text": [
      "Epoch 150: train loss 0.0825, valid loss 0.6090, valid acc 0.8158\n",
      "Start training epoch 151\n"
     ]
    },
    {
     "name": "stderr",
     "output_type": "stream",
     "text": [
      "100%|██████████| 169/169 [00:24<00:00,  6.81it/s]\n",
      "100%|██████████| 19/19 [00:01<00:00, 12.24it/s]\n"
     ]
    },
    {
     "name": "stdout",
     "output_type": "stream",
     "text": [
      "Epoch 151: train loss 0.0797, valid loss 0.6089, valid acc 0.8174\n",
      "Start training epoch 152\n"
     ]
    },
    {
     "name": "stderr",
     "output_type": "stream",
     "text": [
      "100%|██████████| 169/169 [00:23<00:00,  7.05it/s]\n",
      "100%|██████████| 19/19 [00:01<00:00, 11.44it/s]\n"
     ]
    },
    {
     "name": "stdout",
     "output_type": "stream",
     "text": [
      "Epoch 152: train loss 0.0821, valid loss 0.6103, valid acc 0.8199\n",
      "Start training epoch 153\n"
     ]
    },
    {
     "name": "stderr",
     "output_type": "stream",
     "text": [
      "100%|██████████| 169/169 [00:24<00:00,  6.98it/s]\n",
      "100%|██████████| 19/19 [00:01<00:00, 13.09it/s]\n"
     ]
    },
    {
     "name": "stdout",
     "output_type": "stream",
     "text": [
      "Epoch 153: train loss 0.0838, valid loss 0.6088, valid acc 0.8117\n",
      "Start training epoch 154\n"
     ]
    },
    {
     "name": "stderr",
     "output_type": "stream",
     "text": [
      "100%|██████████| 169/169 [00:23<00:00,  7.11it/s]\n",
      "100%|██████████| 19/19 [00:01<00:00, 11.59it/s]\n"
     ]
    },
    {
     "name": "stdout",
     "output_type": "stream",
     "text": [
      "Epoch 154: train loss 0.0822, valid loss 0.6088, valid acc 0.8141\n",
      "Start training epoch 155\n"
     ]
    },
    {
     "name": "stderr",
     "output_type": "stream",
     "text": [
      "100%|██████████| 169/169 [00:24<00:00,  6.94it/s]\n",
      "100%|██████████| 19/19 [00:01<00:00, 12.33it/s]\n"
     ]
    },
    {
     "name": "stdout",
     "output_type": "stream",
     "text": [
      "Epoch 155: train loss 0.0813, valid loss 0.6099, valid acc 0.8180\n",
      "Start training epoch 156\n"
     ]
    },
    {
     "name": "stderr",
     "output_type": "stream",
     "text": [
      "100%|██████████| 169/169 [00:23<00:00,  7.06it/s]\n",
      "100%|██████████| 19/19 [00:01<00:00, 11.50it/s]\n"
     ]
    },
    {
     "name": "stdout",
     "output_type": "stream",
     "text": [
      "Epoch 156: train loss 0.0811, valid loss 0.6117, valid acc 0.8191\n",
      "Start training epoch 157\n"
     ]
    },
    {
     "name": "stderr",
     "output_type": "stream",
     "text": [
      "100%|██████████| 169/169 [00:24<00:00,  7.03it/s]\n",
      "100%|██████████| 19/19 [00:01<00:00, 12.07it/s]\n"
     ]
    },
    {
     "name": "stdout",
     "output_type": "stream",
     "text": [
      "Epoch 157: train loss 0.0775, valid loss 0.6062, valid acc 0.8188\n",
      "Start training epoch 158\n"
     ]
    },
    {
     "name": "stderr",
     "output_type": "stream",
     "text": [
      "100%|██████████| 169/169 [00:23<00:00,  7.11it/s]\n",
      "100%|██████████| 19/19 [00:01<00:00, 11.47it/s]\n"
     ]
    },
    {
     "name": "stdout",
     "output_type": "stream",
     "text": [
      "Epoch 158: train loss 0.0768, valid loss 0.6119, valid acc 0.8158\n",
      "Start training epoch 159\n"
     ]
    },
    {
     "name": "stderr",
     "output_type": "stream",
     "text": [
      "100%|██████████| 169/169 [00:23<00:00,  7.06it/s]\n",
      "100%|██████████| 19/19 [00:01<00:00, 12.91it/s]\n"
     ]
    },
    {
     "name": "stdout",
     "output_type": "stream",
     "text": [
      "Epoch 159: train loss 0.0817, valid loss 0.6118, valid acc 0.8188\n",
      "Start training epoch 160\n"
     ]
    },
    {
     "name": "stderr",
     "output_type": "stream",
     "text": [
      "100%|██████████| 169/169 [00:23<00:00,  7.24it/s]\n",
      "100%|██████████| 19/19 [00:01<00:00, 11.99it/s]\n"
     ]
    },
    {
     "name": "stdout",
     "output_type": "stream",
     "text": [
      "Epoch 160: train loss 0.0765, valid loss 0.6133, valid acc 0.8133\n",
      "Start training epoch 161\n"
     ]
    },
    {
     "name": "stderr",
     "output_type": "stream",
     "text": [
      "100%|██████████| 169/169 [00:24<00:00,  6.91it/s]\n",
      "100%|██████████| 19/19 [00:01<00:00, 12.40it/s]\n"
     ]
    },
    {
     "name": "stdout",
     "output_type": "stream",
     "text": [
      "Epoch 161: train loss 0.0803, valid loss 0.6098, valid acc 0.8183\n",
      "Start training epoch 162\n"
     ]
    },
    {
     "name": "stderr",
     "output_type": "stream",
     "text": [
      "100%|██████████| 169/169 [00:24<00:00,  6.99it/s]\n",
      "100%|██████████| 19/19 [00:01<00:00, 13.22it/s]\n"
     ]
    },
    {
     "name": "stdout",
     "output_type": "stream",
     "text": [
      "Epoch 162: train loss 0.0778, valid loss 0.6089, valid acc 0.8183\n",
      "Start training epoch 163\n"
     ]
    },
    {
     "name": "stderr",
     "output_type": "stream",
     "text": [
      "100%|██████████| 169/169 [00:23<00:00,  7.07it/s]\n",
      "100%|██████████| 19/19 [00:01<00:00, 12.90it/s]\n"
     ]
    },
    {
     "name": "stdout",
     "output_type": "stream",
     "text": [
      "Epoch 163: train loss 0.0751, valid loss 0.6140, valid acc 0.8141\n",
      "Start training epoch 164\n"
     ]
    },
    {
     "name": "stderr",
     "output_type": "stream",
     "text": [
      "100%|██████████| 169/169 [00:24<00:00,  7.02it/s]\n",
      "100%|██████████| 19/19 [00:01<00:00, 11.27it/s]\n"
     ]
    },
    {
     "name": "stdout",
     "output_type": "stream",
     "text": [
      "Epoch 164: train loss 0.0776, valid loss 0.6112, valid acc 0.8174\n",
      "Start training epoch 165\n"
     ]
    },
    {
     "name": "stderr",
     "output_type": "stream",
     "text": [
      "100%|██████████| 169/169 [00:24<00:00,  6.99it/s]\n",
      "100%|██████████| 19/19 [00:01<00:00, 11.87it/s]\n"
     ]
    },
    {
     "name": "stdout",
     "output_type": "stream",
     "text": [
      "Epoch 165: train loss 0.0751, valid loss 0.6105, valid acc 0.8136\n",
      "Start training epoch 166\n"
     ]
    },
    {
     "name": "stderr",
     "output_type": "stream",
     "text": [
      "100%|██████████| 169/169 [00:24<00:00,  6.97it/s]\n",
      "100%|██████████| 19/19 [00:01<00:00, 12.50it/s]\n"
     ]
    },
    {
     "name": "stdout",
     "output_type": "stream",
     "text": [
      "Epoch 166: train loss 0.0765, valid loss 0.6120, valid acc 0.8183\n",
      "Start training epoch 167\n"
     ]
    },
    {
     "name": "stderr",
     "output_type": "stream",
     "text": [
      "100%|██████████| 169/169 [00:23<00:00,  7.10it/s]\n",
      "100%|██████████| 19/19 [00:01<00:00, 12.10it/s]\n"
     ]
    },
    {
     "name": "stdout",
     "output_type": "stream",
     "text": [
      "Epoch 167: train loss 0.0782, valid loss 0.6102, valid acc 0.8155\n",
      "Start training epoch 168\n"
     ]
    },
    {
     "name": "stderr",
     "output_type": "stream",
     "text": [
      "100%|██████████| 169/169 [00:23<00:00,  7.12it/s]\n",
      "100%|██████████| 19/19 [00:01<00:00, 13.18it/s]\n"
     ]
    },
    {
     "name": "stdout",
     "output_type": "stream",
     "text": [
      "Epoch 168: train loss 0.0752, valid loss 0.6079, valid acc 0.8166\n",
      "Start training epoch 169\n"
     ]
    },
    {
     "name": "stderr",
     "output_type": "stream",
     "text": [
      "100%|██████████| 169/169 [00:24<00:00,  6.95it/s]\n",
      "100%|██████████| 19/19 [00:01<00:00, 12.59it/s]\n"
     ]
    },
    {
     "name": "stdout",
     "output_type": "stream",
     "text": [
      "Epoch 169: train loss 0.0751, valid loss 0.6077, valid acc 0.8166\n",
      "Start training epoch 170\n"
     ]
    },
    {
     "name": "stderr",
     "output_type": "stream",
     "text": [
      "100%|██████████| 169/169 [00:24<00:00,  6.97it/s]\n",
      "100%|██████████| 19/19 [00:01<00:00, 11.50it/s]\n"
     ]
    },
    {
     "name": "stdout",
     "output_type": "stream",
     "text": [
      "Epoch 170: train loss 0.0731, valid loss 0.6089, valid acc 0.8174\n",
      "Start training epoch 171\n"
     ]
    },
    {
     "name": "stderr",
     "output_type": "stream",
     "text": [
      "100%|██████████| 169/169 [00:24<00:00,  6.98it/s]\n",
      "100%|██████████| 19/19 [00:01<00:00, 12.81it/s]\n"
     ]
    },
    {
     "name": "stdout",
     "output_type": "stream",
     "text": [
      "Epoch 171: train loss 0.0752, valid loss 0.6121, valid acc 0.8174\n",
      "Start training epoch 172\n"
     ]
    },
    {
     "name": "stderr",
     "output_type": "stream",
     "text": [
      "100%|██████████| 169/169 [00:23<00:00,  7.09it/s]\n",
      "100%|██████████| 19/19 [00:01<00:00, 12.56it/s]\n"
     ]
    },
    {
     "name": "stdout",
     "output_type": "stream",
     "text": [
      "Epoch 172: train loss 0.0755, valid loss 0.6115, valid acc 0.8172\n",
      "Start training epoch 173\n"
     ]
    },
    {
     "name": "stderr",
     "output_type": "stream",
     "text": [
      "100%|██████████| 169/169 [00:24<00:00,  6.97it/s]\n",
      "100%|██████████| 19/19 [00:01<00:00, 11.27it/s]\n"
     ]
    },
    {
     "name": "stdout",
     "output_type": "stream",
     "text": [
      "Epoch 173: train loss 0.0743, valid loss 0.6082, valid acc 0.8183\n",
      "Start training epoch 174\n"
     ]
    },
    {
     "name": "stderr",
     "output_type": "stream",
     "text": [
      "100%|██████████| 169/169 [00:23<00:00,  7.09it/s]\n",
      "100%|██████████| 19/19 [00:01<00:00, 11.95it/s]\n"
     ]
    },
    {
     "name": "stdout",
     "output_type": "stream",
     "text": [
      "Epoch 174: train loss 0.0726, valid loss 0.6125, valid acc 0.8166\n",
      "Start training epoch 175\n"
     ]
    },
    {
     "name": "stderr",
     "output_type": "stream",
     "text": [
      "100%|██████████| 169/169 [00:24<00:00,  6.97it/s]\n",
      "100%|██████████| 19/19 [00:01<00:00, 11.81it/s]\n"
     ]
    },
    {
     "name": "stdout",
     "output_type": "stream",
     "text": [
      "Epoch 175: train loss 0.0724, valid loss 0.6131, valid acc 0.8183\n",
      "Start training epoch 176\n"
     ]
    },
    {
     "name": "stderr",
     "output_type": "stream",
     "text": [
      "100%|██████████| 169/169 [00:23<00:00,  7.12it/s]\n",
      "100%|██████████| 19/19 [00:01<00:00, 12.55it/s]\n"
     ]
    },
    {
     "name": "stdout",
     "output_type": "stream",
     "text": [
      "Epoch 176: train loss 0.0745, valid loss 0.6103, valid acc 0.8191\n",
      "Start training epoch 177\n"
     ]
    },
    {
     "name": "stderr",
     "output_type": "stream",
     "text": [
      "100%|██████████| 169/169 [00:23<00:00,  7.09it/s]\n",
      "100%|██████████| 19/19 [00:01<00:00, 12.77it/s]\n"
     ]
    },
    {
     "name": "stdout",
     "output_type": "stream",
     "text": [
      "Epoch 177: train loss 0.0736, valid loss 0.6120, valid acc 0.8174\n",
      "Start training epoch 178\n"
     ]
    },
    {
     "name": "stderr",
     "output_type": "stream",
     "text": [
      "100%|██████████| 169/169 [00:23<00:00,  7.07it/s]\n",
      "100%|██████████| 19/19 [00:01<00:00, 12.32it/s]\n"
     ]
    },
    {
     "name": "stdout",
     "output_type": "stream",
     "text": [
      "Epoch 178: train loss 0.0720, valid loss 0.6149, valid acc 0.8183\n",
      "Start training epoch 179\n"
     ]
    },
    {
     "name": "stderr",
     "output_type": "stream",
     "text": [
      "100%|██████████| 169/169 [00:24<00:00,  6.99it/s]\n",
      "100%|██████████| 19/19 [00:01<00:00, 13.59it/s]\n"
     ]
    },
    {
     "name": "stdout",
     "output_type": "stream",
     "text": [
      "Epoch 179: train loss 0.0720, valid loss 0.6110, valid acc 0.8174\n"
     ]
    }
   ],
   "source": [
    "%run pretrain.py --model_type resnet18"
   ]
  },
  {
   "cell_type": "code",
   "execution_count": 6,
   "metadata": {},
   "outputs": [
    {
     "name": "stdout",
     "output_type": "stream",
     "text": [
      "Namespace(model_type='efficientnet_se_b0', experiment_dir=None, checkpoint_name='checkpoint_best.pt', n_workers=16, n_epochs=180, learning_rate=0.0001, weight_decay=0.0, batch_size=64)\n"
     ]
    },
    {
     "name": "stderr",
     "output_type": "stream",
     "text": [
      "Using cache found in /home/flo/.cache/torch/hub/NVIDIA_DeepLearningExamples_torchhub\n"
     ]
    },
    {
     "name": "stdout",
     "output_type": "stream",
     "text": [
      "Loading checkpoint from pretrained_efficientnet_se_b0/checkpoint_best.pt\n",
      "Start training epoch 0\n"
     ]
    },
    {
     "name": "stderr",
     "output_type": "stream",
     "text": [
      "100%|██████████| 169/169 [00:36<00:00,  4.64it/s]\n",
      "100%|██████████| 19/19 [00:01<00:00, 10.59it/s]\n"
     ]
    },
    {
     "name": "stdout",
     "output_type": "stream",
     "text": [
      "Epoch 0: train loss 0.2929, valid loss 0.4733, valid acc 0.8457\n",
      "Start training epoch 1\n"
     ]
    },
    {
     "name": "stderr",
     "output_type": "stream",
     "text": [
      "100%|██████████| 169/169 [00:36<00:00,  4.65it/s]\n",
      "100%|██████████| 19/19 [00:01<00:00,  9.61it/s]\n"
     ]
    },
    {
     "name": "stdout",
     "output_type": "stream",
     "text": [
      "Epoch 1: train loss 0.2937, valid loss 0.4726, valid acc 0.8473\n",
      "Start training epoch 2\n"
     ]
    },
    {
     "name": "stderr",
     "output_type": "stream",
     "text": [
      "100%|██████████| 169/169 [00:36<00:00,  4.59it/s]\n",
      "100%|██████████| 19/19 [00:01<00:00,  9.86it/s]\n"
     ]
    },
    {
     "name": "stdout",
     "output_type": "stream",
     "text": [
      "Epoch 2: train loss 0.2936, valid loss 0.4733, valid acc 0.8465\n",
      "Start training epoch 3\n"
     ]
    },
    {
     "name": "stderr",
     "output_type": "stream",
     "text": [
      "100%|██████████| 169/169 [00:36<00:00,  4.66it/s]\n",
      "100%|██████████| 19/19 [00:01<00:00,  9.81it/s]\n"
     ]
    },
    {
     "name": "stdout",
     "output_type": "stream",
     "text": [
      "Epoch 3: train loss 0.2909, valid loss 0.4725, valid acc 0.8457\n",
      "Start training epoch 4\n"
     ]
    },
    {
     "name": "stderr",
     "output_type": "stream",
     "text": [
      "100%|██████████| 169/169 [00:36<00:00,  4.62it/s]\n",
      "100%|██████████| 19/19 [00:01<00:00, 10.18it/s]\n"
     ]
    },
    {
     "name": "stdout",
     "output_type": "stream",
     "text": [
      "Epoch 4: train loss 0.2902, valid loss 0.4720, valid acc 0.8448\n",
      "Start training epoch 5\n"
     ]
    },
    {
     "name": "stderr",
     "output_type": "stream",
     "text": [
      "100%|██████████| 169/169 [00:36<00:00,  4.63it/s]\n",
      "100%|██████████| 19/19 [00:01<00:00,  9.92it/s]\n"
     ]
    },
    {
     "name": "stdout",
     "output_type": "stream",
     "text": [
      "Epoch 5: train loss 0.2899, valid loss 0.4720, valid acc 0.8457\n",
      "Start training epoch 6\n"
     ]
    },
    {
     "name": "stderr",
     "output_type": "stream",
     "text": [
      "100%|██████████| 169/169 [00:36<00:00,  4.63it/s]\n",
      "100%|██████████| 19/19 [00:01<00:00,  9.85it/s]\n"
     ]
    },
    {
     "name": "stdout",
     "output_type": "stream",
     "text": [
      "Epoch 6: train loss 0.2861, valid loss 0.4716, valid acc 0.8448\n",
      "Start training epoch 7\n"
     ]
    },
    {
     "name": "stderr",
     "output_type": "stream",
     "text": [
      "100%|██████████| 169/169 [00:36<00:00,  4.65it/s]\n",
      "100%|██████████| 19/19 [00:02<00:00,  9.43it/s]\n"
     ]
    },
    {
     "name": "stdout",
     "output_type": "stream",
     "text": [
      "Epoch 7: train loss 0.2868, valid loss 0.4713, valid acc 0.8448\n",
      "Start training epoch 8\n"
     ]
    },
    {
     "name": "stderr",
     "output_type": "stream",
     "text": [
      "100%|██████████| 169/169 [00:36<00:00,  4.61it/s]\n",
      "100%|██████████| 19/19 [00:02<00:00,  9.43it/s]\n"
     ]
    },
    {
     "name": "stdout",
     "output_type": "stream",
     "text": [
      "Epoch 8: train loss 0.2812, valid loss 0.4705, valid acc 0.8448\n",
      "Start training epoch 9\n"
     ]
    },
    {
     "name": "stderr",
     "output_type": "stream",
     "text": [
      "100%|██████████| 169/169 [00:36<00:00,  4.64it/s]\n",
      "100%|██████████| 19/19 [00:01<00:00, 10.07it/s]\n"
     ]
    },
    {
     "name": "stdout",
     "output_type": "stream",
     "text": [
      "Epoch 9: train loss 0.2812, valid loss 0.4712, valid acc 0.8448\n",
      "Start training epoch 10\n"
     ]
    },
    {
     "name": "stderr",
     "output_type": "stream",
     "text": [
      "100%|██████████| 169/169 [00:36<00:00,  4.68it/s]\n",
      "100%|██████████| 19/19 [00:01<00:00,  9.99it/s]\n"
     ]
    },
    {
     "name": "stdout",
     "output_type": "stream",
     "text": [
      "Epoch 10: train loss 0.2812, valid loss 0.4705, valid acc 0.8457\n",
      "Start training epoch 11\n"
     ]
    },
    {
     "name": "stderr",
     "output_type": "stream",
     "text": [
      "100%|██████████| 169/169 [00:36<00:00,  4.64it/s]\n",
      "100%|██████████| 19/19 [00:01<00:00, 10.27it/s]\n"
     ]
    },
    {
     "name": "stdout",
     "output_type": "stream",
     "text": [
      "Epoch 11: train loss 0.2817, valid loss 0.4697, valid acc 0.8465\n",
      "Start training epoch 12\n"
     ]
    },
    {
     "name": "stderr",
     "output_type": "stream",
     "text": [
      "100%|██████████| 169/169 [00:36<00:00,  4.62it/s]\n",
      "100%|██████████| 19/19 [00:01<00:00,  9.58it/s]\n"
     ]
    },
    {
     "name": "stdout",
     "output_type": "stream",
     "text": [
      "Epoch 12: train loss 0.2767, valid loss 0.4698, valid acc 0.8440\n",
      "Start training epoch 13\n"
     ]
    },
    {
     "name": "stderr",
     "output_type": "stream",
     "text": [
      "100%|██████████| 169/169 [00:36<00:00,  4.63it/s]\n",
      "100%|██████████| 19/19 [00:01<00:00,  9.60it/s]\n"
     ]
    },
    {
     "name": "stdout",
     "output_type": "stream",
     "text": [
      "Epoch 13: train loss 0.2733, valid loss 0.4689, valid acc 0.8448\n",
      "Start training epoch 14\n"
     ]
    },
    {
     "name": "stderr",
     "output_type": "stream",
     "text": [
      "100%|██████████| 169/169 [00:36<00:00,  4.65it/s]\n",
      "100%|██████████| 19/19 [00:01<00:00, 10.76it/s]\n"
     ]
    },
    {
     "name": "stdout",
     "output_type": "stream",
     "text": [
      "Epoch 14: train loss 0.2768, valid loss 0.4688, valid acc 0.8448\n",
      "Start training epoch 15\n"
     ]
    },
    {
     "name": "stderr",
     "output_type": "stream",
     "text": [
      "100%|██████████| 169/169 [00:36<00:00,  4.61it/s]\n",
      "100%|██████████| 19/19 [00:01<00:00, 10.26it/s]\n"
     ]
    },
    {
     "name": "stdout",
     "output_type": "stream",
     "text": [
      "Epoch 15: train loss 0.2664, valid loss 0.4682, valid acc 0.8465\n",
      "Start training epoch 16\n"
     ]
    },
    {
     "name": "stderr",
     "output_type": "stream",
     "text": [
      "100%|██████████| 169/169 [00:36<00:00,  4.63it/s]\n",
      "100%|██████████| 19/19 [00:02<00:00,  9.50it/s]\n"
     ]
    },
    {
     "name": "stdout",
     "output_type": "stream",
     "text": [
      "Epoch 16: train loss 0.2734, valid loss 0.4686, valid acc 0.8465\n",
      "Start training epoch 17\n"
     ]
    },
    {
     "name": "stderr",
     "output_type": "stream",
     "text": [
      "100%|██████████| 169/169 [00:36<00:00,  4.60it/s]\n",
      "100%|██████████| 19/19 [00:01<00:00, 10.80it/s]\n"
     ]
    },
    {
     "name": "stdout",
     "output_type": "stream",
     "text": [
      "Epoch 17: train loss 0.2739, valid loss 0.4677, valid acc 0.8457\n",
      "Start training epoch 18\n"
     ]
    },
    {
     "name": "stderr",
     "output_type": "stream",
     "text": [
      "100%|██████████| 169/169 [00:36<00:00,  4.63it/s]\n",
      "100%|██████████| 19/19 [00:01<00:00, 10.14it/s]\n"
     ]
    },
    {
     "name": "stdout",
     "output_type": "stream",
     "text": [
      "Epoch 18: train loss 0.2652, valid loss 0.4668, valid acc 0.8465\n",
      "Start training epoch 19\n"
     ]
    },
    {
     "name": "stderr",
     "output_type": "stream",
     "text": [
      "100%|██████████| 169/169 [00:36<00:00,  4.60it/s]\n",
      "100%|██████████| 19/19 [00:01<00:00, 10.30it/s]\n"
     ]
    },
    {
     "name": "stdout",
     "output_type": "stream",
     "text": [
      "Epoch 19: train loss 0.2626, valid loss 0.4658, valid acc 0.8473\n",
      "Start training epoch 20\n"
     ]
    },
    {
     "name": "stderr",
     "output_type": "stream",
     "text": [
      "100%|██████████| 169/169 [00:36<00:00,  4.65it/s]\n",
      "100%|██████████| 19/19 [00:01<00:00, 10.44it/s]\n"
     ]
    },
    {
     "name": "stdout",
     "output_type": "stream",
     "text": [
      "Epoch 20: train loss 0.2668, valid loss 0.4662, valid acc 0.8465\n",
      "Start training epoch 21\n"
     ]
    },
    {
     "name": "stderr",
     "output_type": "stream",
     "text": [
      "100%|██████████| 169/169 [00:36<00:00,  4.63it/s]\n",
      "100%|██████████| 19/19 [00:01<00:00,  9.52it/s]\n"
     ]
    },
    {
     "name": "stdout",
     "output_type": "stream",
     "text": [
      "Epoch 21: train loss 0.2644, valid loss 0.4661, valid acc 0.8465\n",
      "Start training epoch 22\n"
     ]
    },
    {
     "name": "stderr",
     "output_type": "stream",
     "text": [
      "100%|██████████| 169/169 [00:36<00:00,  4.59it/s]\n",
      "100%|██████████| 19/19 [00:02<00:00,  9.36it/s]\n"
     ]
    },
    {
     "name": "stdout",
     "output_type": "stream",
     "text": [
      "Epoch 22: train loss 0.2582, valid loss 0.4654, valid acc 0.8465\n",
      "Start training epoch 23\n"
     ]
    },
    {
     "name": "stderr",
     "output_type": "stream",
     "text": [
      "100%|██████████| 169/169 [00:36<00:00,  4.63it/s]\n",
      "100%|██████████| 19/19 [00:01<00:00, 10.38it/s]\n"
     ]
    },
    {
     "name": "stdout",
     "output_type": "stream",
     "text": [
      "Epoch 23: train loss 0.2630, valid loss 0.4648, valid acc 0.8481\n",
      "Start training epoch 24\n"
     ]
    },
    {
     "name": "stderr",
     "output_type": "stream",
     "text": [
      "100%|██████████| 169/169 [00:36<00:00,  4.69it/s]\n",
      "100%|██████████| 19/19 [00:01<00:00,  9.98it/s]\n"
     ]
    },
    {
     "name": "stdout",
     "output_type": "stream",
     "text": [
      "Epoch 24: train loss 0.2564, valid loss 0.4651, valid acc 0.8457\n",
      "Start training epoch 25\n"
     ]
    },
    {
     "name": "stderr",
     "output_type": "stream",
     "text": [
      "100%|██████████| 169/169 [00:35<00:00,  4.70it/s]\n",
      "100%|██████████| 19/19 [00:01<00:00, 10.73it/s]\n"
     ]
    },
    {
     "name": "stdout",
     "output_type": "stream",
     "text": [
      "Epoch 25: train loss 0.2552, valid loss 0.4652, valid acc 0.8457\n",
      "Start training epoch 26\n"
     ]
    },
    {
     "name": "stderr",
     "output_type": "stream",
     "text": [
      "100%|██████████| 169/169 [00:36<00:00,  4.61it/s]\n",
      "100%|██████████| 19/19 [00:01<00:00, 10.72it/s]\n"
     ]
    },
    {
     "name": "stdout",
     "output_type": "stream",
     "text": [
      "Epoch 26: train loss 0.2554, valid loss 0.4646, valid acc 0.8465\n",
      "Start training epoch 27\n"
     ]
    },
    {
     "name": "stderr",
     "output_type": "stream",
     "text": [
      "100%|██████████| 169/169 [00:36<00:00,  4.62it/s]\n",
      "100%|██████████| 19/19 [00:01<00:00, 10.53it/s]\n"
     ]
    },
    {
     "name": "stdout",
     "output_type": "stream",
     "text": [
      "Epoch 27: train loss 0.2527, valid loss 0.4638, valid acc 0.8473\n",
      "Start training epoch 28\n"
     ]
    },
    {
     "name": "stderr",
     "output_type": "stream",
     "text": [
      "100%|██████████| 169/169 [00:36<00:00,  4.64it/s]\n",
      "100%|██████████| 19/19 [00:01<00:00,  9.95it/s]\n"
     ]
    },
    {
     "name": "stdout",
     "output_type": "stream",
     "text": [
      "Epoch 28: train loss 0.2548, valid loss 0.4637, valid acc 0.8457\n",
      "Start training epoch 29\n"
     ]
    },
    {
     "name": "stderr",
     "output_type": "stream",
     "text": [
      "100%|██████████| 169/169 [00:36<00:00,  4.65it/s]\n",
      "100%|██████████| 19/19 [00:01<00:00, 10.06it/s]\n"
     ]
    },
    {
     "name": "stdout",
     "output_type": "stream",
     "text": [
      "Epoch 29: train loss 0.2549, valid loss 0.4625, valid acc 0.8481\n",
      "Start training epoch 30\n"
     ]
    },
    {
     "name": "stderr",
     "output_type": "stream",
     "text": [
      "100%|██████████| 169/169 [00:36<00:00,  4.62it/s]\n",
      "100%|██████████| 19/19 [00:01<00:00, 10.39it/s]\n"
     ]
    },
    {
     "name": "stdout",
     "output_type": "stream",
     "text": [
      "Epoch 30: train loss 0.2582, valid loss 0.4642, valid acc 0.8473\n",
      "Start training epoch 31\n"
     ]
    },
    {
     "name": "stderr",
     "output_type": "stream",
     "text": [
      "100%|██████████| 169/169 [00:36<00:00,  4.64it/s]\n",
      "100%|██████████| 19/19 [00:01<00:00, 10.07it/s]\n"
     ]
    },
    {
     "name": "stdout",
     "output_type": "stream",
     "text": [
      "Epoch 31: train loss 0.2498, valid loss 0.4633, valid acc 0.8498\n",
      "Start training epoch 32\n"
     ]
    },
    {
     "name": "stderr",
     "output_type": "stream",
     "text": [
      "100%|██████████| 169/169 [00:36<00:00,  4.64it/s]\n",
      "100%|██████████| 19/19 [00:01<00:00,  9.94it/s]\n"
     ]
    },
    {
     "name": "stdout",
     "output_type": "stream",
     "text": [
      "Epoch 32: train loss 0.2475, valid loss 0.4637, valid acc 0.8506\n",
      "Start training epoch 33\n"
     ]
    },
    {
     "name": "stderr",
     "output_type": "stream",
     "text": [
      "100%|██████████| 169/169 [00:36<00:00,  4.66it/s]\n",
      "100%|██████████| 19/19 [00:01<00:00, 10.24it/s]\n"
     ]
    },
    {
     "name": "stdout",
     "output_type": "stream",
     "text": [
      "Epoch 33: train loss 0.2496, valid loss 0.4628, valid acc 0.8498\n",
      "Start training epoch 34\n"
     ]
    },
    {
     "name": "stderr",
     "output_type": "stream",
     "text": [
      "100%|██████████| 169/169 [00:36<00:00,  4.67it/s]\n",
      "100%|██████████| 19/19 [00:01<00:00, 10.43it/s]\n"
     ]
    },
    {
     "name": "stdout",
     "output_type": "stream",
     "text": [
      "Epoch 34: train loss 0.2505, valid loss 0.4620, valid acc 0.8498\n",
      "Start training epoch 35\n"
     ]
    },
    {
     "name": "stderr",
     "output_type": "stream",
     "text": [
      "100%|██████████| 169/169 [00:35<00:00,  4.70it/s]\n",
      "100%|██████████| 19/19 [00:01<00:00, 10.44it/s]\n"
     ]
    },
    {
     "name": "stdout",
     "output_type": "stream",
     "text": [
      "Epoch 35: train loss 0.2433, valid loss 0.4613, valid acc 0.8498\n",
      "Start training epoch 36\n"
     ]
    },
    {
     "name": "stderr",
     "output_type": "stream",
     "text": [
      "100%|██████████| 169/169 [00:36<00:00,  4.66it/s]\n",
      "100%|██████████| 19/19 [00:01<00:00,  9.81it/s]\n"
     ]
    },
    {
     "name": "stdout",
     "output_type": "stream",
     "text": [
      "Epoch 36: train loss 0.2357, valid loss 0.4617, valid acc 0.8506\n",
      "Start training epoch 37\n"
     ]
    },
    {
     "name": "stderr",
     "output_type": "stream",
     "text": [
      "100%|██████████| 169/169 [00:36<00:00,  4.63it/s]\n",
      "100%|██████████| 19/19 [00:01<00:00, 10.11it/s]\n"
     ]
    },
    {
     "name": "stdout",
     "output_type": "stream",
     "text": [
      "Epoch 37: train loss 0.2419, valid loss 0.4616, valid acc 0.8506\n",
      "Start training epoch 38\n"
     ]
    },
    {
     "name": "stderr",
     "output_type": "stream",
     "text": [
      "100%|██████████| 169/169 [00:36<00:00,  4.65it/s]\n",
      "100%|██████████| 19/19 [00:01<00:00,  9.96it/s]\n"
     ]
    },
    {
     "name": "stdout",
     "output_type": "stream",
     "text": [
      "Epoch 38: train loss 0.2409, valid loss 0.4609, valid acc 0.8506\n",
      "Start training epoch 39\n"
     ]
    },
    {
     "name": "stderr",
     "output_type": "stream",
     "text": [
      "100%|██████████| 169/169 [00:36<00:00,  4.61it/s]\n",
      "100%|██████████| 19/19 [00:01<00:00,  9.97it/s]\n"
     ]
    },
    {
     "name": "stdout",
     "output_type": "stream",
     "text": [
      "Epoch 39: train loss 0.2447, valid loss 0.4610, valid acc 0.8506\n",
      "Start training epoch 40\n"
     ]
    },
    {
     "name": "stderr",
     "output_type": "stream",
     "text": [
      "100%|██████████| 169/169 [00:36<00:00,  4.62it/s]\n",
      "100%|██████████| 19/19 [00:01<00:00,  9.80it/s]\n"
     ]
    },
    {
     "name": "stdout",
     "output_type": "stream",
     "text": [
      "Epoch 40: train loss 0.2448, valid loss 0.4608, valid acc 0.8498\n",
      "Start training epoch 41\n"
     ]
    },
    {
     "name": "stderr",
     "output_type": "stream",
     "text": [
      "100%|██████████| 169/169 [00:36<00:00,  4.65it/s]\n",
      "100%|██████████| 19/19 [00:01<00:00,  9.97it/s]\n"
     ]
    },
    {
     "name": "stdout",
     "output_type": "stream",
     "text": [
      "Epoch 41: train loss 0.2385, valid loss 0.4613, valid acc 0.8473\n",
      "Start training epoch 42\n"
     ]
    },
    {
     "name": "stderr",
     "output_type": "stream",
     "text": [
      "100%|██████████| 169/169 [00:36<00:00,  4.60it/s]\n",
      "100%|██████████| 19/19 [00:01<00:00, 10.81it/s]\n"
     ]
    },
    {
     "name": "stdout",
     "output_type": "stream",
     "text": [
      "Epoch 42: train loss 0.2377, valid loss 0.4603, valid acc 0.8490\n",
      "Start training epoch 43\n"
     ]
    },
    {
     "name": "stderr",
     "output_type": "stream",
     "text": [
      "100%|██████████| 169/169 [00:36<00:00,  4.67it/s]\n",
      "100%|██████████| 19/19 [00:01<00:00,  9.99it/s]\n"
     ]
    },
    {
     "name": "stdout",
     "output_type": "stream",
     "text": [
      "Epoch 43: train loss 0.2362, valid loss 0.4597, valid acc 0.8490\n",
      "Start training epoch 44\n"
     ]
    },
    {
     "name": "stderr",
     "output_type": "stream",
     "text": [
      "100%|██████████| 169/169 [00:36<00:00,  4.69it/s]\n",
      "100%|██████████| 19/19 [00:02<00:00,  8.92it/s]\n"
     ]
    },
    {
     "name": "stdout",
     "output_type": "stream",
     "text": [
      "Epoch 44: train loss 0.2375, valid loss 0.4600, valid acc 0.8514\n",
      "Start training epoch 45\n"
     ]
    },
    {
     "name": "stderr",
     "output_type": "stream",
     "text": [
      "100%|██████████| 169/169 [00:36<00:00,  4.68it/s]\n",
      "100%|██████████| 19/19 [00:01<00:00, 10.31it/s]\n"
     ]
    },
    {
     "name": "stdout",
     "output_type": "stream",
     "text": [
      "Epoch 45: train loss 0.2371, valid loss 0.4605, valid acc 0.8498\n",
      "Start training epoch 46\n"
     ]
    },
    {
     "name": "stderr",
     "output_type": "stream",
     "text": [
      "100%|██████████| 169/169 [00:35<00:00,  4.71it/s]\n",
      "100%|██████████| 19/19 [00:01<00:00, 10.24it/s]\n"
     ]
    },
    {
     "name": "stdout",
     "output_type": "stream",
     "text": [
      "Epoch 46: train loss 0.2290, valid loss 0.4593, valid acc 0.8498\n",
      "Start training epoch 47\n"
     ]
    },
    {
     "name": "stderr",
     "output_type": "stream",
     "text": [
      "100%|██████████| 169/169 [00:35<00:00,  4.70it/s]\n",
      "100%|██████████| 19/19 [00:01<00:00, 10.27it/s]\n"
     ]
    },
    {
     "name": "stdout",
     "output_type": "stream",
     "text": [
      "Epoch 47: train loss 0.2342, valid loss 0.4598, valid acc 0.8506\n",
      "Start training epoch 48\n"
     ]
    },
    {
     "name": "stderr",
     "output_type": "stream",
     "text": [
      "100%|██████████| 169/169 [00:36<00:00,  4.69it/s]\n",
      "100%|██████████| 19/19 [00:01<00:00, 10.15it/s]\n"
     ]
    },
    {
     "name": "stdout",
     "output_type": "stream",
     "text": [
      "Epoch 48: train loss 0.2289, valid loss 0.4601, valid acc 0.8522\n",
      "Start training epoch 49\n"
     ]
    },
    {
     "name": "stderr",
     "output_type": "stream",
     "text": [
      "100%|██████████| 169/169 [00:36<00:00,  4.66it/s]\n",
      "100%|██████████| 19/19 [00:01<00:00, 10.22it/s]\n"
     ]
    },
    {
     "name": "stdout",
     "output_type": "stream",
     "text": [
      "Epoch 49: train loss 0.2336, valid loss 0.4597, valid acc 0.8481\n",
      "Start training epoch 50\n"
     ]
    },
    {
     "name": "stderr",
     "output_type": "stream",
     "text": [
      "100%|██████████| 169/169 [00:36<00:00,  4.65it/s]\n",
      "100%|██████████| 19/19 [00:01<00:00,  9.99it/s]\n"
     ]
    },
    {
     "name": "stdout",
     "output_type": "stream",
     "text": [
      "Epoch 50: train loss 0.2294, valid loss 0.4598, valid acc 0.8498\n",
      "Start training epoch 51\n"
     ]
    },
    {
     "name": "stderr",
     "output_type": "stream",
     "text": [
      "100%|██████████| 169/169 [00:36<00:00,  4.61it/s]\n",
      "100%|██████████| 19/19 [00:01<00:00, 10.42it/s]\n"
     ]
    },
    {
     "name": "stdout",
     "output_type": "stream",
     "text": [
      "Epoch 51: train loss 0.2291, valid loss 0.4599, valid acc 0.8522\n",
      "Start training epoch 52\n"
     ]
    },
    {
     "name": "stderr",
     "output_type": "stream",
     "text": [
      "100%|██████████| 169/169 [00:36<00:00,  4.64it/s]\n",
      "100%|██████████| 19/19 [00:01<00:00, 10.10it/s]\n"
     ]
    },
    {
     "name": "stdout",
     "output_type": "stream",
     "text": [
      "Epoch 52: train loss 0.2292, valid loss 0.4604, valid acc 0.8514\n",
      "Start training epoch 53\n"
     ]
    },
    {
     "name": "stderr",
     "output_type": "stream",
     "text": [
      "100%|██████████| 169/169 [00:36<00:00,  4.64it/s]\n",
      "100%|██████████| 19/19 [00:01<00:00, 10.41it/s]\n"
     ]
    },
    {
     "name": "stdout",
     "output_type": "stream",
     "text": [
      "Epoch 53: train loss 0.2310, valid loss 0.4590, valid acc 0.8514\n",
      "Start training epoch 54\n"
     ]
    },
    {
     "name": "stderr",
     "output_type": "stream",
     "text": [
      "100%|██████████| 169/169 [00:36<00:00,  4.64it/s]\n",
      "100%|██████████| 19/19 [00:01<00:00,  9.90it/s]\n"
     ]
    },
    {
     "name": "stdout",
     "output_type": "stream",
     "text": [
      "Epoch 54: train loss 0.2195, valid loss 0.4592, valid acc 0.8506\n",
      "Start training epoch 55\n"
     ]
    },
    {
     "name": "stderr",
     "output_type": "stream",
     "text": [
      "100%|██████████| 169/169 [00:36<00:00,  4.64it/s]\n",
      "100%|██████████| 19/19 [00:01<00:00,  9.66it/s]\n"
     ]
    },
    {
     "name": "stdout",
     "output_type": "stream",
     "text": [
      "Epoch 55: train loss 0.2256, valid loss 0.4596, valid acc 0.8514\n",
      "Start training epoch 56\n"
     ]
    },
    {
     "name": "stderr",
     "output_type": "stream",
     "text": [
      "100%|██████████| 169/169 [00:36<00:00,  4.65it/s]\n",
      "100%|██████████| 19/19 [00:01<00:00,  9.92it/s]\n"
     ]
    },
    {
     "name": "stdout",
     "output_type": "stream",
     "text": [
      "Epoch 56: train loss 0.2205, valid loss 0.4592, valid acc 0.8506\n",
      "Start training epoch 57\n"
     ]
    },
    {
     "name": "stderr",
     "output_type": "stream",
     "text": [
      "100%|██████████| 169/169 [00:36<00:00,  4.65it/s]\n",
      "100%|██████████| 19/19 [00:01<00:00,  9.66it/s]\n"
     ]
    },
    {
     "name": "stdout",
     "output_type": "stream",
     "text": [
      "Epoch 57: train loss 0.2268, valid loss 0.4589, valid acc 0.8517\n",
      "Start training epoch 58\n"
     ]
    },
    {
     "name": "stderr",
     "output_type": "stream",
     "text": [
      "100%|██████████| 169/169 [00:35<00:00,  4.70it/s]\n",
      "100%|██████████| 19/19 [00:01<00:00, 10.64it/s]\n"
     ]
    },
    {
     "name": "stdout",
     "output_type": "stream",
     "text": [
      "Epoch 58: train loss 0.2196, valid loss 0.4579, valid acc 0.8517\n",
      "Start training epoch 59\n"
     ]
    },
    {
     "name": "stderr",
     "output_type": "stream",
     "text": [
      "100%|██████████| 169/169 [00:36<00:00,  4.69it/s]\n",
      "100%|██████████| 19/19 [00:01<00:00, 10.12it/s]\n"
     ]
    },
    {
     "name": "stdout",
     "output_type": "stream",
     "text": [
      "Epoch 59: train loss 0.2244, valid loss 0.4589, valid acc 0.8509\n",
      "Start training epoch 60\n"
     ]
    },
    {
     "name": "stderr",
     "output_type": "stream",
     "text": [
      "100%|██████████| 169/169 [00:36<00:00,  4.67it/s]\n",
      "100%|██████████| 19/19 [00:01<00:00,  9.77it/s]\n"
     ]
    },
    {
     "name": "stdout",
     "output_type": "stream",
     "text": [
      "Epoch 60: train loss 0.2191, valid loss 0.4585, valid acc 0.8509\n",
      "Start training epoch 61\n"
     ]
    },
    {
     "name": "stderr",
     "output_type": "stream",
     "text": [
      "100%|██████████| 169/169 [00:36<00:00,  4.64it/s]\n",
      "100%|██████████| 19/19 [00:01<00:00,  9.89it/s]\n"
     ]
    },
    {
     "name": "stdout",
     "output_type": "stream",
     "text": [
      "Epoch 61: train loss 0.2167, valid loss 0.4579, valid acc 0.8509\n",
      "Start training epoch 62\n"
     ]
    },
    {
     "name": "stderr",
     "output_type": "stream",
     "text": [
      "100%|██████████| 169/169 [00:36<00:00,  4.65it/s]\n",
      "100%|██████████| 19/19 [00:01<00:00, 10.63it/s]\n"
     ]
    },
    {
     "name": "stdout",
     "output_type": "stream",
     "text": [
      "Epoch 62: train loss 0.2178, valid loss 0.4579, valid acc 0.8490\n",
      "Start training epoch 63\n"
     ]
    },
    {
     "name": "stderr",
     "output_type": "stream",
     "text": [
      "100%|██████████| 169/169 [00:36<00:00,  4.64it/s]\n",
      "100%|██████████| 19/19 [00:01<00:00, 10.08it/s]\n"
     ]
    },
    {
     "name": "stdout",
     "output_type": "stream",
     "text": [
      "Epoch 63: train loss 0.2157, valid loss 0.4574, valid acc 0.8501\n",
      "Start training epoch 64\n"
     ]
    },
    {
     "name": "stderr",
     "output_type": "stream",
     "text": [
      "100%|██████████| 169/169 [00:36<00:00,  4.66it/s]\n",
      "100%|██████████| 19/19 [00:02<00:00,  9.28it/s]\n"
     ]
    },
    {
     "name": "stdout",
     "output_type": "stream",
     "text": [
      "Epoch 64: train loss 0.2127, valid loss 0.4573, valid acc 0.8533\n",
      "Start training epoch 65\n"
     ]
    },
    {
     "name": "stderr",
     "output_type": "stream",
     "text": [
      "100%|██████████| 169/169 [00:36<00:00,  4.66it/s]\n",
      "100%|██████████| 19/19 [00:01<00:00, 10.04it/s]\n"
     ]
    },
    {
     "name": "stdout",
     "output_type": "stream",
     "text": [
      "Epoch 65: train loss 0.2127, valid loss 0.4573, valid acc 0.8517\n",
      "Start training epoch 66\n"
     ]
    },
    {
     "name": "stderr",
     "output_type": "stream",
     "text": [
      "100%|██████████| 169/169 [00:36<00:00,  4.66it/s]\n",
      "100%|██████████| 19/19 [00:01<00:00,  9.80it/s]\n"
     ]
    },
    {
     "name": "stdout",
     "output_type": "stream",
     "text": [
      "Epoch 66: train loss 0.2159, valid loss 0.4578, valid acc 0.8517\n",
      "Start training epoch 67\n"
     ]
    },
    {
     "name": "stderr",
     "output_type": "stream",
     "text": [
      "100%|██████████| 169/169 [00:36<00:00,  4.68it/s]\n",
      "100%|██████████| 19/19 [00:01<00:00, 10.35it/s]\n"
     ]
    },
    {
     "name": "stdout",
     "output_type": "stream",
     "text": [
      "Epoch 67: train loss 0.2110, valid loss 0.4571, valid acc 0.8517\n",
      "Start training epoch 68\n"
     ]
    },
    {
     "name": "stderr",
     "output_type": "stream",
     "text": [
      "100%|██████████| 169/169 [00:36<00:00,  4.64it/s]\n",
      "100%|██████████| 19/19 [00:01<00:00, 10.10it/s]\n"
     ]
    },
    {
     "name": "stdout",
     "output_type": "stream",
     "text": [
      "Epoch 68: train loss 0.2085, valid loss 0.4577, valid acc 0.8517\n",
      "Start training epoch 69\n"
     ]
    },
    {
     "name": "stderr",
     "output_type": "stream",
     "text": [
      "100%|██████████| 169/169 [00:36<00:00,  4.64it/s]\n",
      "100%|██████████| 19/19 [00:01<00:00, 10.06it/s]\n"
     ]
    },
    {
     "name": "stdout",
     "output_type": "stream",
     "text": [
      "Epoch 69: train loss 0.2071, valid loss 0.4577, valid acc 0.8517\n",
      "Start training epoch 70\n"
     ]
    },
    {
     "name": "stderr",
     "output_type": "stream",
     "text": [
      "100%|██████████| 169/169 [00:36<00:00,  4.66it/s]\n",
      "100%|██████████| 19/19 [00:01<00:00, 10.51it/s]\n"
     ]
    },
    {
     "name": "stdout",
     "output_type": "stream",
     "text": [
      "Epoch 70: train loss 0.2128, valid loss 0.4584, valid acc 0.8517\n",
      "Start training epoch 71\n"
     ]
    },
    {
     "name": "stderr",
     "output_type": "stream",
     "text": [
      "100%|██████████| 169/169 [00:36<00:00,  4.64it/s]\n",
      "100%|██████████| 19/19 [00:01<00:00, 10.42it/s]\n"
     ]
    },
    {
     "name": "stdout",
     "output_type": "stream",
     "text": [
      "Epoch 71: train loss 0.2049, valid loss 0.4578, valid acc 0.8484\n",
      "Start training epoch 72\n"
     ]
    },
    {
     "name": "stderr",
     "output_type": "stream",
     "text": [
      "100%|██████████| 169/169 [00:36<00:00,  4.69it/s]\n",
      "100%|██████████| 19/19 [00:01<00:00, 10.50it/s]\n"
     ]
    },
    {
     "name": "stdout",
     "output_type": "stream",
     "text": [
      "Epoch 72: train loss 0.2086, valid loss 0.4576, valid acc 0.8509\n",
      "Start training epoch 73\n"
     ]
    },
    {
     "name": "stderr",
     "output_type": "stream",
     "text": [
      "100%|██████████| 169/169 [00:36<00:00,  4.60it/s]\n",
      "100%|██████████| 19/19 [00:01<00:00, 10.13it/s]\n"
     ]
    },
    {
     "name": "stdout",
     "output_type": "stream",
     "text": [
      "Epoch 73: train loss 0.2047, valid loss 0.4573, valid acc 0.8509\n",
      "Start training epoch 74\n"
     ]
    },
    {
     "name": "stderr",
     "output_type": "stream",
     "text": [
      "100%|██████████| 169/169 [00:36<00:00,  4.67it/s]\n",
      "100%|██████████| 19/19 [00:01<00:00, 10.19it/s]\n"
     ]
    },
    {
     "name": "stdout",
     "output_type": "stream",
     "text": [
      "Epoch 74: train loss 0.2016, valid loss 0.4564, valid acc 0.8533\n",
      "Start training epoch 75\n"
     ]
    },
    {
     "name": "stderr",
     "output_type": "stream",
     "text": [
      "100%|██████████| 169/169 [00:36<00:00,  4.66it/s]\n",
      "100%|██████████| 19/19 [00:01<00:00, 10.11it/s]\n"
     ]
    },
    {
     "name": "stdout",
     "output_type": "stream",
     "text": [
      "Epoch 75: train loss 0.2047, valid loss 0.4578, valid acc 0.8525\n",
      "Start training epoch 76\n"
     ]
    },
    {
     "name": "stderr",
     "output_type": "stream",
     "text": [
      "100%|██████████| 169/169 [00:36<00:00,  4.66it/s]\n",
      "100%|██████████| 19/19 [00:01<00:00, 10.42it/s]\n"
     ]
    },
    {
     "name": "stdout",
     "output_type": "stream",
     "text": [
      "Epoch 76: train loss 0.2026, valid loss 0.4575, valid acc 0.8517\n",
      "Start training epoch 77\n"
     ]
    },
    {
     "name": "stderr",
     "output_type": "stream",
     "text": [
      "100%|██████████| 169/169 [00:36<00:00,  4.68it/s]\n",
      "100%|██████████| 19/19 [00:01<00:00, 10.00it/s]\n"
     ]
    },
    {
     "name": "stdout",
     "output_type": "stream",
     "text": [
      "Epoch 77: train loss 0.2044, valid loss 0.4570, valid acc 0.8509\n",
      "Start training epoch 78\n"
     ]
    },
    {
     "name": "stderr",
     "output_type": "stream",
     "text": [
      "100%|██████████| 169/169 [00:36<00:00,  4.66it/s]\n",
      "100%|██████████| 19/19 [00:01<00:00, 10.65it/s]\n"
     ]
    },
    {
     "name": "stdout",
     "output_type": "stream",
     "text": [
      "Epoch 78: train loss 0.2022, valid loss 0.4562, valid acc 0.8501\n",
      "Start training epoch 79\n"
     ]
    },
    {
     "name": "stderr",
     "output_type": "stream",
     "text": [
      "100%|██████████| 169/169 [00:36<00:00,  4.66it/s]\n",
      "100%|██████████| 19/19 [00:01<00:00,  9.81it/s]\n"
     ]
    },
    {
     "name": "stdout",
     "output_type": "stream",
     "text": [
      "Epoch 79: train loss 0.2002, valid loss 0.4566, valid acc 0.8501\n",
      "Start training epoch 80\n"
     ]
    },
    {
     "name": "stderr",
     "output_type": "stream",
     "text": [
      "100%|██████████| 169/169 [00:36<00:00,  4.68it/s]\n",
      "100%|██████████| 19/19 [00:01<00:00, 10.63it/s]\n"
     ]
    },
    {
     "name": "stdout",
     "output_type": "stream",
     "text": [
      "Epoch 80: train loss 0.1969, valid loss 0.4568, valid acc 0.8517\n",
      "Start training epoch 81\n"
     ]
    },
    {
     "name": "stderr",
     "output_type": "stream",
     "text": [
      "100%|██████████| 169/169 [00:39<00:00,  4.30it/s]\n",
      "100%|██████████| 19/19 [00:01<00:00, 10.59it/s]\n"
     ]
    },
    {
     "name": "stdout",
     "output_type": "stream",
     "text": [
      "Epoch 81: train loss 0.1965, valid loss 0.4564, valid acc 0.8509\n",
      "Start training epoch 82\n"
     ]
    },
    {
     "name": "stderr",
     "output_type": "stream",
     "text": [
      " 63%|██████▎   | 107/169 [00:23<00:13,  4.67it/s]"
     ]
    }
   ],
   "source": [
    "%run pretrain.py --model_type efficientnet_se_b0"
   ]
  },
  {
   "cell_type": "code",
   "execution_count": 4,
   "metadata": {},
   "outputs": [
    {
     "name": "stdout",
     "output_type": "stream",
     "text": [
      "Namespace(model_type='efficientnet_b0', experiment_dir=None, checkpoint_name='checkpoint_best.pt', n_workers=16, n_epochs=100, learning_rate=0.0001, weight_decay=0.0, batch_size=64)\n"
     ]
    },
    {
     "name": "stderr",
     "output_type": "stream",
     "text": [
      "Using cache found in /home/flo/.cache/torch/hub/NVIDIA_DeepLearningExamples_torchhub\n"
     ]
    },
    {
     "name": "stdout",
     "output_type": "stream",
     "text": [
      "Loading checkpoint from pretrained_efficientnet_b0/checkpoint_best.pt\n",
      "Start training epoch 0\n"
     ]
    },
    {
     "name": "stderr",
     "output_type": "stream",
     "text": [
      "100%|██████████| 169/169 [00:37<00:00,  4.48it/s]\n",
      "100%|██████████| 19/19 [00:01<00:00, 10.01it/s]\n"
     ]
    },
    {
     "name": "stdout",
     "output_type": "stream",
     "text": [
      "Epoch 0: train loss 0.8443, valid loss 0.7732, valid acc 0.8037\n",
      "Start training epoch 1\n"
     ]
    },
    {
     "name": "stderr",
     "output_type": "stream",
     "text": [
      "100%|██████████| 169/169 [00:37<00:00,  4.45it/s]\n",
      "100%|██████████| 19/19 [00:02<00:00,  8.52it/s]\n"
     ]
    },
    {
     "name": "stdout",
     "output_type": "stream",
     "text": [
      "Epoch 1: train loss 0.8340, valid loss 0.7689, valid acc 0.8037\n",
      "Start training epoch 2\n"
     ]
    },
    {
     "name": "stderr",
     "output_type": "stream",
     "text": [
      "100%|██████████| 169/169 [00:37<00:00,  4.50it/s]\n",
      "100%|██████████| 19/19 [00:01<00:00, 10.01it/s]\n"
     ]
    },
    {
     "name": "stdout",
     "output_type": "stream",
     "text": [
      "Epoch 2: train loss 0.8335, valid loss 0.7628, valid acc 0.8070\n",
      "Start training epoch 3\n"
     ]
    },
    {
     "name": "stderr",
     "output_type": "stream",
     "text": [
      "100%|██████████| 169/169 [00:38<00:00,  4.38it/s]\n",
      "100%|██████████| 19/19 [00:02<00:00,  9.46it/s]\n"
     ]
    },
    {
     "name": "stdout",
     "output_type": "stream",
     "text": [
      "Epoch 3: train loss 0.8287, valid loss 0.7573, valid acc 0.8078\n",
      "Start training epoch 4\n"
     ]
    },
    {
     "name": "stderr",
     "output_type": "stream",
     "text": [
      "100%|██████████| 169/169 [00:38<00:00,  4.34it/s]\n",
      "100%|██████████| 19/19 [00:01<00:00, 10.21it/s]\n"
     ]
    },
    {
     "name": "stdout",
     "output_type": "stream",
     "text": [
      "Epoch 4: train loss 0.8120, valid loss 0.7515, valid acc 0.8095\n",
      "Start training epoch 5\n"
     ]
    },
    {
     "name": "stderr",
     "output_type": "stream",
     "text": [
      "100%|██████████| 169/169 [00:39<00:00,  4.32it/s]\n",
      "100%|██████████| 19/19 [00:01<00:00, 10.28it/s]\n"
     ]
    },
    {
     "name": "stdout",
     "output_type": "stream",
     "text": [
      "Epoch 5: train loss 0.8067, valid loss 0.7481, valid acc 0.8070\n",
      "Start training epoch 6\n"
     ]
    },
    {
     "name": "stderr",
     "output_type": "stream",
     "text": [
      "100%|██████████| 169/169 [00:37<00:00,  4.50it/s]\n",
      "100%|██████████| 19/19 [00:02<00:00,  9.40it/s]\n"
     ]
    },
    {
     "name": "stdout",
     "output_type": "stream",
     "text": [
      "Epoch 6: train loss 0.8031, valid loss 0.7414, valid acc 0.8070\n",
      "Start training epoch 7\n"
     ]
    },
    {
     "name": "stderr",
     "output_type": "stream",
     "text": [
      "100%|██████████| 169/169 [00:39<00:00,  4.31it/s]\n",
      "100%|██████████| 19/19 [00:02<00:00,  9.33it/s]\n"
     ]
    },
    {
     "name": "stdout",
     "output_type": "stream",
     "text": [
      "Epoch 7: train loss 0.7969, valid loss 0.7366, valid acc 0.8087\n",
      "Start training epoch 8\n"
     ]
    },
    {
     "name": "stderr",
     "output_type": "stream",
     "text": [
      "100%|██████████| 169/169 [00:38<00:00,  4.44it/s]\n",
      "100%|██████████| 19/19 [00:02<00:00,  8.66it/s]\n"
     ]
    },
    {
     "name": "stdout",
     "output_type": "stream",
     "text": [
      "Epoch 8: train loss 0.7959, valid loss 0.7321, valid acc 0.8103\n",
      "Start training epoch 9\n"
     ]
    },
    {
     "name": "stderr",
     "output_type": "stream",
     "text": [
      "100%|██████████| 169/169 [00:36<00:00,  4.60it/s]\n",
      "100%|██████████| 19/19 [00:01<00:00, 10.03it/s]\n"
     ]
    },
    {
     "name": "stdout",
     "output_type": "stream",
     "text": [
      "Epoch 9: train loss 0.7920, valid loss 0.7271, valid acc 0.8095\n",
      "Start training epoch 10\n"
     ]
    },
    {
     "name": "stderr",
     "output_type": "stream",
     "text": [
      "100%|██████████| 169/169 [00:37<00:00,  4.51it/s]\n",
      "100%|██████████| 19/19 [00:02<00:00,  9.11it/s]\n"
     ]
    },
    {
     "name": "stdout",
     "output_type": "stream",
     "text": [
      "Epoch 10: train loss 0.7753, valid loss 0.7225, valid acc 0.8122\n",
      "Start training epoch 11\n"
     ]
    },
    {
     "name": "stderr",
     "output_type": "stream",
     "text": [
      "100%|██████████| 169/169 [00:37<00:00,  4.47it/s]\n",
      "100%|██████████| 19/19 [00:02<00:00,  8.44it/s]\n"
     ]
    },
    {
     "name": "stdout",
     "output_type": "stream",
     "text": [
      "Epoch 11: train loss 0.7714, valid loss 0.7185, valid acc 0.8150\n",
      "Start training epoch 12\n"
     ]
    },
    {
     "name": "stderr",
     "output_type": "stream",
     "text": [
      "100%|██████████| 169/169 [00:38<00:00,  4.37it/s]\n",
      "100%|██████████| 19/19 [00:02<00:00,  8.72it/s]\n"
     ]
    },
    {
     "name": "stdout",
     "output_type": "stream",
     "text": [
      "Epoch 12: train loss 0.7666, valid loss 0.7133, valid acc 0.8111\n",
      "Start training epoch 13\n"
     ]
    },
    {
     "name": "stderr",
     "output_type": "stream",
     "text": [
      "100%|██████████| 169/169 [00:37<00:00,  4.50it/s]\n",
      "100%|██████████| 19/19 [00:02<00:00,  9.26it/s]\n"
     ]
    },
    {
     "name": "stdout",
     "output_type": "stream",
     "text": [
      "Epoch 13: train loss 0.7549, valid loss 0.7091, valid acc 0.8133\n",
      "Start training epoch 14\n"
     ]
    },
    {
     "name": "stderr",
     "output_type": "stream",
     "text": [
      "100%|██████████| 169/169 [00:36<00:00,  4.57it/s]\n",
      "100%|██████████| 19/19 [00:01<00:00,  9.59it/s]\n"
     ]
    },
    {
     "name": "stdout",
     "output_type": "stream",
     "text": [
      "Epoch 14: train loss 0.7549, valid loss 0.7051, valid acc 0.8150\n",
      "Start training epoch 15\n"
     ]
    },
    {
     "name": "stderr",
     "output_type": "stream",
     "text": [
      "100%|██████████| 169/169 [00:37<00:00,  4.50it/s]\n",
      "100%|██████████| 19/19 [00:01<00:00,  9.61it/s]\n"
     ]
    },
    {
     "name": "stdout",
     "output_type": "stream",
     "text": [
      "Epoch 15: train loss 0.7486, valid loss 0.7008, valid acc 0.8122\n",
      "Start training epoch 16\n"
     ]
    },
    {
     "name": "stderr",
     "output_type": "stream",
     "text": [
      "100%|██████████| 169/169 [00:38<00:00,  4.41it/s]\n",
      "100%|██████████| 19/19 [00:02<00:00,  9.33it/s]\n"
     ]
    },
    {
     "name": "stdout",
     "output_type": "stream",
     "text": [
      "Epoch 16: train loss 0.7472, valid loss 0.6973, valid acc 0.8130\n",
      "Start training epoch 17\n"
     ]
    },
    {
     "name": "stderr",
     "output_type": "stream",
     "text": [
      "100%|██████████| 169/169 [00:37<00:00,  4.48it/s]\n",
      "100%|██████████| 19/19 [00:02<00:00,  7.95it/s]\n"
     ]
    },
    {
     "name": "stdout",
     "output_type": "stream",
     "text": [
      "Epoch 17: train loss 0.7469, valid loss 0.6927, valid acc 0.8147\n",
      "Start training epoch 18\n"
     ]
    },
    {
     "name": "stderr",
     "output_type": "stream",
     "text": [
      "100%|██████████| 169/169 [00:37<00:00,  4.48it/s]\n",
      "100%|██████████| 19/19 [00:02<00:00,  9.49it/s]\n"
     ]
    },
    {
     "name": "stdout",
     "output_type": "stream",
     "text": [
      "Epoch 18: train loss 0.7390, valid loss 0.6894, valid acc 0.8155\n",
      "Start training epoch 19\n"
     ]
    },
    {
     "name": "stderr",
     "output_type": "stream",
     "text": [
      "100%|██████████| 169/169 [00:36<00:00,  4.58it/s]\n",
      "100%|██████████| 19/19 [00:02<00:00,  8.79it/s]\n"
     ]
    },
    {
     "name": "stdout",
     "output_type": "stream",
     "text": [
      "Epoch 19: train loss 0.7339, valid loss 0.6845, valid acc 0.8180\n",
      "Start training epoch 20\n"
     ]
    },
    {
     "name": "stderr",
     "output_type": "stream",
     "text": [
      "100%|██████████| 169/169 [00:37<00:00,  4.53it/s]\n",
      "100%|██████████| 19/19 [00:01<00:00,  9.76it/s]\n"
     ]
    },
    {
     "name": "stdout",
     "output_type": "stream",
     "text": [
      "Epoch 20: train loss 0.7359, valid loss 0.6814, valid acc 0.8196\n",
      "Start training epoch 21\n"
     ]
    },
    {
     "name": "stderr",
     "output_type": "stream",
     "text": [
      "100%|██████████| 169/169 [00:37<00:00,  4.45it/s]\n",
      "100%|██████████| 19/19 [00:02<00:00,  8.20it/s]\n"
     ]
    },
    {
     "name": "stdout",
     "output_type": "stream",
     "text": [
      "Epoch 21: train loss 0.7278, valid loss 0.6776, valid acc 0.8204\n",
      "Start training epoch 22\n"
     ]
    },
    {
     "name": "stderr",
     "output_type": "stream",
     "text": [
      "100%|██████████| 169/169 [00:38<00:00,  4.36it/s]\n",
      "100%|██████████| 19/19 [00:02<00:00,  9.11it/s]\n"
     ]
    },
    {
     "name": "stdout",
     "output_type": "stream",
     "text": [
      "Epoch 22: train loss 0.7200, valid loss 0.6739, valid acc 0.8224\n",
      "Start training epoch 23\n"
     ]
    },
    {
     "name": "stderr",
     "output_type": "stream",
     "text": [
      "100%|██████████| 169/169 [00:38<00:00,  4.43it/s]\n",
      "100%|██████████| 19/19 [00:02<00:00,  8.81it/s]\n"
     ]
    },
    {
     "name": "stdout",
     "output_type": "stream",
     "text": [
      "Epoch 23: train loss 0.7061, valid loss 0.6705, valid acc 0.8224\n",
      "Start training epoch 24\n"
     ]
    },
    {
     "name": "stderr",
     "output_type": "stream",
     "text": [
      "100%|██████████| 169/169 [00:37<00:00,  4.55it/s]\n",
      "100%|██████████| 19/19 [00:02<00:00,  9.15it/s]\n"
     ]
    },
    {
     "name": "stdout",
     "output_type": "stream",
     "text": [
      "Epoch 24: train loss 0.7050, valid loss 0.6680, valid acc 0.8221\n",
      "Start training epoch 25\n"
     ]
    },
    {
     "name": "stderr",
     "output_type": "stream",
     "text": [
      "100%|██████████| 169/169 [00:37<00:00,  4.56it/s]\n",
      "100%|██████████| 19/19 [00:02<00:00,  9.36it/s]\n"
     ]
    },
    {
     "name": "stdout",
     "output_type": "stream",
     "text": [
      "Epoch 25: train loss 0.7056, valid loss 0.6641, valid acc 0.8240\n",
      "Start training epoch 26\n"
     ]
    },
    {
     "name": "stderr",
     "output_type": "stream",
     "text": [
      "100%|██████████| 169/169 [00:37<00:00,  4.53it/s]\n",
      "100%|██████████| 19/19 [00:02<00:00,  9.46it/s]\n"
     ]
    },
    {
     "name": "stdout",
     "output_type": "stream",
     "text": [
      "Epoch 26: train loss 0.7003, valid loss 0.6609, valid acc 0.8240\n",
      "Start training epoch 27\n"
     ]
    },
    {
     "name": "stderr",
     "output_type": "stream",
     "text": [
      "100%|██████████| 169/169 [00:37<00:00,  4.45it/s]\n",
      "100%|██████████| 19/19 [00:02<00:00,  8.77it/s]\n"
     ]
    },
    {
     "name": "stdout",
     "output_type": "stream",
     "text": [
      "Epoch 27: train loss 0.6877, valid loss 0.6580, valid acc 0.8254\n",
      "Start training epoch 28\n"
     ]
    },
    {
     "name": "stderr",
     "output_type": "stream",
     "text": [
      "100%|██████████| 169/169 [00:37<00:00,  4.45it/s]\n",
      "100%|██████████| 19/19 [00:02<00:00,  9.07it/s]\n"
     ]
    },
    {
     "name": "stdout",
     "output_type": "stream",
     "text": [
      "Epoch 28: train loss 0.6914, valid loss 0.6546, valid acc 0.8257\n",
      "Start training epoch 29\n"
     ]
    },
    {
     "name": "stderr",
     "output_type": "stream",
     "text": [
      "100%|██████████| 169/169 [00:37<00:00,  4.45it/s]\n",
      "100%|██████████| 19/19 [00:01<00:00, 10.69it/s]\n"
     ]
    },
    {
     "name": "stdout",
     "output_type": "stream",
     "text": [
      "Epoch 29: train loss 0.6882, valid loss 0.6518, valid acc 0.8240\n",
      "Start training epoch 30\n"
     ]
    },
    {
     "name": "stderr",
     "output_type": "stream",
     "text": [
      "100%|██████████| 169/169 [00:38<00:00,  4.42it/s]\n",
      "100%|██████████| 19/19 [00:01<00:00,  9.58it/s]\n"
     ]
    },
    {
     "name": "stdout",
     "output_type": "stream",
     "text": [
      "Epoch 30: train loss 0.6781, valid loss 0.6496, valid acc 0.8229\n",
      "Start training epoch 31\n"
     ]
    },
    {
     "name": "stderr",
     "output_type": "stream",
     "text": [
      "100%|██████████| 169/169 [00:38<00:00,  4.41it/s]\n",
      "100%|██████████| 19/19 [00:02<00:00,  8.78it/s]\n"
     ]
    },
    {
     "name": "stdout",
     "output_type": "stream",
     "text": [
      "Epoch 31: train loss 0.6824, valid loss 0.6463, valid acc 0.8257\n",
      "Start training epoch 32\n"
     ]
    },
    {
     "name": "stderr",
     "output_type": "stream",
     "text": [
      "100%|██████████| 169/169 [00:38<00:00,  4.45it/s]\n",
      "100%|██████████| 19/19 [00:01<00:00,  9.80it/s]\n"
     ]
    },
    {
     "name": "stdout",
     "output_type": "stream",
     "text": [
      "Epoch 32: train loss 0.6774, valid loss 0.6421, valid acc 0.8273\n",
      "Start training epoch 33\n"
     ]
    },
    {
     "name": "stderr",
     "output_type": "stream",
     "text": [
      "100%|██████████| 169/169 [00:37<00:00,  4.54it/s]\n",
      "100%|██████████| 19/19 [00:02<00:00,  9.14it/s]\n"
     ]
    },
    {
     "name": "stdout",
     "output_type": "stream",
     "text": [
      "Epoch 33: train loss 0.6634, valid loss 0.6396, valid acc 0.8273\n",
      "Start training epoch 34\n"
     ]
    },
    {
     "name": "stderr",
     "output_type": "stream",
     "text": [
      "100%|██████████| 169/169 [00:37<00:00,  4.47it/s]\n",
      "100%|██████████| 19/19 [00:02<00:00,  7.75it/s]\n"
     ]
    },
    {
     "name": "stdout",
     "output_type": "stream",
     "text": [
      "Epoch 34: train loss 0.6670, valid loss 0.6379, valid acc 0.8262\n",
      "Start training epoch 35\n"
     ]
    },
    {
     "name": "stderr",
     "output_type": "stream",
     "text": [
      "100%|██████████| 169/169 [00:38<00:00,  4.44it/s]\n",
      "100%|██████████| 19/19 [00:02<00:00,  9.15it/s]\n"
     ]
    },
    {
     "name": "stdout",
     "output_type": "stream",
     "text": [
      "Epoch 35: train loss 0.6634, valid loss 0.6347, valid acc 0.8298\n",
      "Start training epoch 36\n"
     ]
    },
    {
     "name": "stderr",
     "output_type": "stream",
     "text": [
      "100%|██████████| 169/169 [00:37<00:00,  4.49it/s]\n",
      "100%|██████████| 19/19 [00:02<00:00,  8.59it/s]\n"
     ]
    },
    {
     "name": "stdout",
     "output_type": "stream",
     "text": [
      "Epoch 36: train loss 0.6572, valid loss 0.6309, valid acc 0.8281\n",
      "Start training epoch 37\n"
     ]
    },
    {
     "name": "stderr",
     "output_type": "stream",
     "text": [
      "100%|██████████| 169/169 [00:38<00:00,  4.40it/s]\n",
      "100%|██████████| 19/19 [00:02<00:00,  9.46it/s]\n"
     ]
    },
    {
     "name": "stdout",
     "output_type": "stream",
     "text": [
      "Epoch 37: train loss 0.6500, valid loss 0.6288, valid acc 0.8257\n",
      "Start training epoch 38\n"
     ]
    },
    {
     "name": "stderr",
     "output_type": "stream",
     "text": [
      "100%|██████████| 169/169 [00:37<00:00,  4.51it/s]\n",
      "100%|██████████| 19/19 [00:02<00:00,  9.21it/s]\n"
     ]
    },
    {
     "name": "stdout",
     "output_type": "stream",
     "text": [
      "Epoch 38: train loss 0.6508, valid loss 0.6259, valid acc 0.8284\n",
      "Start training epoch 39\n"
     ]
    },
    {
     "name": "stderr",
     "output_type": "stream",
     "text": [
      "100%|██████████| 169/169 [00:38<00:00,  4.34it/s]\n",
      "100%|██████████| 19/19 [00:02<00:00,  8.66it/s]\n"
     ]
    },
    {
     "name": "stdout",
     "output_type": "stream",
     "text": [
      "Epoch 39: train loss 0.6486, valid loss 0.6242, valid acc 0.8289\n",
      "Start training epoch 40\n"
     ]
    },
    {
     "name": "stderr",
     "output_type": "stream",
     "text": [
      "100%|██████████| 169/169 [00:46<00:00,  3.62it/s]\n",
      "100%|██████████| 19/19 [00:02<00:00,  6.36it/s]\n"
     ]
    },
    {
     "name": "stdout",
     "output_type": "stream",
     "text": [
      "Epoch 40: train loss 0.6369, valid loss 0.6201, valid acc 0.8300\n",
      "Start training epoch 41\n"
     ]
    },
    {
     "name": "stderr",
     "output_type": "stream",
     "text": [
      "100%|██████████| 169/169 [00:49<00:00,  3.40it/s]\n",
      "100%|██████████| 19/19 [00:02<00:00,  6.39it/s]\n"
     ]
    },
    {
     "name": "stdout",
     "output_type": "stream",
     "text": [
      "Epoch 41: train loss 0.6420, valid loss 0.6187, valid acc 0.8273\n",
      "Start training epoch 42\n"
     ]
    },
    {
     "name": "stderr",
     "output_type": "stream",
     "text": [
      "100%|██████████| 169/169 [00:47<00:00,  3.56it/s]\n",
      "100%|██████████| 19/19 [00:02<00:00,  7.09it/s]\n"
     ]
    },
    {
     "name": "stdout",
     "output_type": "stream",
     "text": [
      "Epoch 42: train loss 0.6285, valid loss 0.6168, valid acc 0.8273\n",
      "Start training epoch 43\n"
     ]
    },
    {
     "name": "stderr",
     "output_type": "stream",
     "text": [
      "100%|██████████| 169/169 [00:48<00:00,  3.51it/s]\n",
      "100%|██████████| 19/19 [00:02<00:00,  6.41it/s]\n"
     ]
    },
    {
     "name": "stdout",
     "output_type": "stream",
     "text": [
      "Epoch 43: train loss 0.6257, valid loss 0.6143, valid acc 0.8325\n",
      "Start training epoch 44\n"
     ]
    },
    {
     "name": "stderr",
     "output_type": "stream",
     "text": [
      "100%|██████████| 169/169 [00:51<00:00,  3.30it/s]\n",
      "100%|██████████| 19/19 [00:02<00:00,  6.81it/s]\n"
     ]
    },
    {
     "name": "stdout",
     "output_type": "stream",
     "text": [
      "Epoch 44: train loss 0.6276, valid loss 0.6115, valid acc 0.8300\n",
      "Start training epoch 45\n"
     ]
    },
    {
     "name": "stderr",
     "output_type": "stream",
     "text": [
      "100%|██████████| 169/169 [00:49<00:00,  3.43it/s]\n",
      "100%|██████████| 19/19 [00:02<00:00,  6.85it/s]\n"
     ]
    },
    {
     "name": "stdout",
     "output_type": "stream",
     "text": [
      "Epoch 45: train loss 0.6180, valid loss 0.6093, valid acc 0.8314\n",
      "Start training epoch 46\n"
     ]
    },
    {
     "name": "stderr",
     "output_type": "stream",
     "text": [
      "100%|██████████| 169/169 [00:49<00:00,  3.44it/s]\n",
      "100%|██████████| 19/19 [00:02<00:00,  6.90it/s]\n"
     ]
    },
    {
     "name": "stdout",
     "output_type": "stream",
     "text": [
      "Epoch 46: train loss 0.6272, valid loss 0.6071, valid acc 0.8292\n",
      "Start training epoch 47\n"
     ]
    },
    {
     "name": "stderr",
     "output_type": "stream",
     "text": [
      "100%|██████████| 169/169 [00:49<00:00,  3.43it/s]\n",
      "100%|██████████| 19/19 [00:03<00:00,  6.09it/s]\n"
     ]
    },
    {
     "name": "stdout",
     "output_type": "stream",
     "text": [
      "Epoch 47: train loss 0.6217, valid loss 0.6041, valid acc 0.8314\n",
      "Start training epoch 48\n"
     ]
    },
    {
     "name": "stderr",
     "output_type": "stream",
     "text": [
      "100%|██████████| 169/169 [00:49<00:00,  3.41it/s]\n",
      "100%|██████████| 19/19 [00:02<00:00,  6.72it/s]\n"
     ]
    },
    {
     "name": "stdout",
     "output_type": "stream",
     "text": [
      "Epoch 48: train loss 0.6093, valid loss 0.6024, valid acc 0.8314\n",
      "Start training epoch 49\n"
     ]
    },
    {
     "name": "stderr",
     "output_type": "stream",
     "text": [
      "100%|██████████| 169/169 [00:49<00:00,  3.44it/s]\n",
      "100%|██████████| 19/19 [00:02<00:00,  6.47it/s]\n"
     ]
    },
    {
     "name": "stdout",
     "output_type": "stream",
     "text": [
      "Epoch 49: train loss 0.6049, valid loss 0.6009, valid acc 0.8306\n",
      "Start training epoch 50\n"
     ]
    },
    {
     "name": "stderr",
     "output_type": "stream",
     "text": [
      "100%|██████████| 169/169 [00:47<00:00,  3.55it/s]\n",
      "100%|██████████| 19/19 [00:03<00:00,  5.95it/s]\n"
     ]
    },
    {
     "name": "stdout",
     "output_type": "stream",
     "text": [
      "Epoch 50: train loss 0.6054, valid loss 0.5979, valid acc 0.8298\n",
      "Start training epoch 51\n"
     ]
    },
    {
     "name": "stderr",
     "output_type": "stream",
     "text": [
      "100%|██████████| 169/169 [00:50<00:00,  3.36it/s]\n",
      "100%|██████████| 19/19 [00:02<00:00,  6.52it/s]\n"
     ]
    },
    {
     "name": "stdout",
     "output_type": "stream",
     "text": [
      "Epoch 51: train loss 0.5949, valid loss 0.5957, valid acc 0.8339\n",
      "Start training epoch 52\n"
     ]
    },
    {
     "name": "stderr",
     "output_type": "stream",
     "text": [
      "100%|██████████| 169/169 [00:52<00:00,  3.21it/s]\n",
      "100%|██████████| 19/19 [00:04<00:00,  4.38it/s]\n"
     ]
    },
    {
     "name": "stdout",
     "output_type": "stream",
     "text": [
      "Epoch 52: train loss 0.6015, valid loss 0.5941, valid acc 0.8325\n",
      "Start training epoch 53\n"
     ]
    },
    {
     "name": "stderr",
     "output_type": "stream",
     "text": [
      "100%|██████████| 169/169 [00:59<00:00,  2.83it/s]\n",
      "100%|██████████| 19/19 [00:04<00:00,  4.45it/s]\n"
     ]
    },
    {
     "name": "stdout",
     "output_type": "stream",
     "text": [
      "Epoch 53: train loss 0.5986, valid loss 0.5919, valid acc 0.8342\n",
      "Start training epoch 54\n"
     ]
    },
    {
     "name": "stderr",
     "output_type": "stream",
     "text": [
      "100%|██████████| 169/169 [00:55<00:00,  3.03it/s]\n",
      "100%|██████████| 19/19 [00:04<00:00,  3.89it/s]\n"
     ]
    },
    {
     "name": "stdout",
     "output_type": "stream",
     "text": [
      "Epoch 54: train loss 0.5903, valid loss 0.5904, valid acc 0.8358\n",
      "Start training epoch 55\n"
     ]
    },
    {
     "name": "stderr",
     "output_type": "stream",
     "text": [
      "100%|██████████| 169/169 [00:56<00:00,  2.99it/s]\n",
      "100%|██████████| 19/19 [00:03<00:00,  6.00it/s]\n"
     ]
    },
    {
     "name": "stdout",
     "output_type": "stream",
     "text": [
      "Epoch 55: train loss 0.5883, valid loss 0.5889, valid acc 0.8350\n",
      "Start training epoch 56\n"
     ]
    },
    {
     "name": "stderr",
     "output_type": "stream",
     "text": [
      "100%|██████████| 169/169 [00:50<00:00,  3.36it/s]\n",
      "100%|██████████| 19/19 [00:02<00:00,  6.79it/s]\n"
     ]
    },
    {
     "name": "stdout",
     "output_type": "stream",
     "text": [
      "Epoch 56: train loss 0.5893, valid loss 0.5872, valid acc 0.8339\n",
      "Start training epoch 57\n"
     ]
    },
    {
     "name": "stderr",
     "output_type": "stream",
     "text": [
      "100%|██████████| 169/169 [00:48<00:00,  3.45it/s]\n",
      "100%|██████████| 19/19 [00:02<00:00,  6.46it/s]\n"
     ]
    },
    {
     "name": "stdout",
     "output_type": "stream",
     "text": [
      "Epoch 57: train loss 0.5808, valid loss 0.5846, valid acc 0.8350\n",
      "Start training epoch 58\n"
     ]
    },
    {
     "name": "stderr",
     "output_type": "stream",
     "text": [
      "100%|██████████| 169/169 [01:04<00:00,  2.62it/s]\n",
      "100%|██████████| 19/19 [00:04<00:00,  4.24it/s]\n"
     ]
    },
    {
     "name": "stdout",
     "output_type": "stream",
     "text": [
      "Epoch 58: train loss 0.5841, valid loss 0.5830, valid acc 0.8350\n",
      "Start training epoch 59\n"
     ]
    },
    {
     "name": "stderr",
     "output_type": "stream",
     "text": [
      "100%|██████████| 169/169 [00:55<00:00,  3.02it/s]\n",
      "100%|██████████| 19/19 [00:03<00:00,  5.79it/s]\n"
     ]
    },
    {
     "name": "stdout",
     "output_type": "stream",
     "text": [
      "Epoch 59: train loss 0.5746, valid loss 0.5817, valid acc 0.8374\n",
      "Start training epoch 60\n"
     ]
    },
    {
     "name": "stderr",
     "output_type": "stream",
     "text": [
      "100%|██████████| 169/169 [00:56<00:00,  3.01it/s]\n",
      "100%|██████████| 19/19 [00:04<00:00,  4.12it/s]\n"
     ]
    },
    {
     "name": "stdout",
     "output_type": "stream",
     "text": [
      "Epoch 60: train loss 0.5698, valid loss 0.5793, valid acc 0.8342\n",
      "Start training epoch 61\n"
     ]
    },
    {
     "name": "stderr",
     "output_type": "stream",
     "text": [
      "100%|██████████| 169/169 [00:50<00:00,  3.37it/s]\n",
      "100%|██████████| 19/19 [00:02<00:00,  8.29it/s]\n"
     ]
    },
    {
     "name": "stdout",
     "output_type": "stream",
     "text": [
      "Epoch 61: train loss 0.5749, valid loss 0.5770, valid acc 0.8333\n",
      "Start training epoch 62\n"
     ]
    },
    {
     "name": "stderr",
     "output_type": "stream",
     "text": [
      "100%|██████████| 169/169 [00:43<00:00,  3.85it/s]\n",
      "100%|██████████| 19/19 [00:02<00:00,  8.28it/s]\n"
     ]
    },
    {
     "name": "stdout",
     "output_type": "stream",
     "text": [
      "Epoch 62: train loss 0.5638, valid loss 0.5759, valid acc 0.8350\n",
      "Start training epoch 63\n"
     ]
    },
    {
     "name": "stderr",
     "output_type": "stream",
     "text": [
      "100%|██████████| 169/169 [00:45<00:00,  3.71it/s]\n",
      "100%|██████████| 19/19 [00:02<00:00,  7.32it/s]\n"
     ]
    },
    {
     "name": "stdout",
     "output_type": "stream",
     "text": [
      "Epoch 63: train loss 0.5648, valid loss 0.5736, valid acc 0.8366\n",
      "Start training epoch 64\n"
     ]
    },
    {
     "name": "stderr",
     "output_type": "stream",
     "text": [
      "100%|██████████| 169/169 [00:50<00:00,  3.34it/s]\n",
      "100%|██████████| 19/19 [00:02<00:00,  6.86it/s]\n"
     ]
    },
    {
     "name": "stdout",
     "output_type": "stream",
     "text": [
      "Epoch 64: train loss 0.5689, valid loss 0.5714, valid acc 0.8350\n",
      "Start training epoch 65\n"
     ]
    },
    {
     "name": "stderr",
     "output_type": "stream",
     "text": [
      "100%|██████████| 169/169 [00:46<00:00,  3.60it/s]\n",
      "100%|██████████| 19/19 [00:02<00:00,  8.09it/s]\n"
     ]
    },
    {
     "name": "stdout",
     "output_type": "stream",
     "text": [
      "Epoch 65: train loss 0.5577, valid loss 0.5708, valid acc 0.8366\n",
      "Start training epoch 66\n"
     ]
    },
    {
     "name": "stderr",
     "output_type": "stream",
     "text": [
      "100%|██████████| 169/169 [00:49<00:00,  3.43it/s]\n",
      "100%|██████████| 19/19 [00:02<00:00,  6.81it/s]\n"
     ]
    },
    {
     "name": "stdout",
     "output_type": "stream",
     "text": [
      "Epoch 66: train loss 0.5583, valid loss 0.5695, valid acc 0.8342\n",
      "Start training epoch 67\n"
     ]
    },
    {
     "name": "stderr",
     "output_type": "stream",
     "text": [
      "100%|██████████| 169/169 [00:51<00:00,  3.31it/s]\n",
      "100%|██████████| 19/19 [00:02<00:00,  6.77it/s]\n"
     ]
    },
    {
     "name": "stdout",
     "output_type": "stream",
     "text": [
      "Epoch 67: train loss 0.5517, valid loss 0.5678, valid acc 0.8358\n",
      "Start training epoch 68\n"
     ]
    },
    {
     "name": "stderr",
     "output_type": "stream",
     "text": [
      "100%|██████████| 169/169 [00:48<00:00,  3.49it/s]\n",
      "100%|██████████| 19/19 [00:02<00:00,  8.39it/s]\n"
     ]
    },
    {
     "name": "stdout",
     "output_type": "stream",
     "text": [
      "Epoch 68: train loss 0.5553, valid loss 0.5665, valid acc 0.8358\n",
      "Start training epoch 69\n"
     ]
    },
    {
     "name": "stderr",
     "output_type": "stream",
     "text": [
      "100%|██████████| 169/169 [00:52<00:00,  3.20it/s]\n",
      "100%|██████████| 19/19 [00:03<00:00,  5.08it/s]\n"
     ]
    },
    {
     "name": "stdout",
     "output_type": "stream",
     "text": [
      "Epoch 69: train loss 0.5471, valid loss 0.5644, valid acc 0.8350\n",
      "Start training epoch 70\n"
     ]
    },
    {
     "name": "stderr",
     "output_type": "stream",
     "text": [
      "100%|██████████| 169/169 [01:07<00:00,  2.49it/s]\n",
      "100%|██████████| 19/19 [00:03<00:00,  4.90it/s]\n"
     ]
    },
    {
     "name": "stdout",
     "output_type": "stream",
     "text": [
      "Epoch 70: train loss 0.5425, valid loss 0.5635, valid acc 0.8350\n",
      "Start training epoch 71\n"
     ]
    },
    {
     "name": "stderr",
     "output_type": "stream",
     "text": [
      "100%|██████████| 169/169 [00:56<00:00,  2.97it/s]\n",
      "100%|██████████| 19/19 [00:03<00:00,  5.05it/s]\n"
     ]
    },
    {
     "name": "stdout",
     "output_type": "stream",
     "text": [
      "Epoch 71: train loss 0.5494, valid loss 0.5624, valid acc 0.8366\n",
      "Start training epoch 72\n"
     ]
    },
    {
     "name": "stderr",
     "output_type": "stream",
     "text": [
      "100%|██████████| 169/169 [00:50<00:00,  3.37it/s]\n",
      "100%|██████████| 19/19 [00:02<00:00,  6.92it/s]\n"
     ]
    },
    {
     "name": "stdout",
     "output_type": "stream",
     "text": [
      "Epoch 72: train loss 0.5409, valid loss 0.5613, valid acc 0.8358\n",
      "Start training epoch 73\n"
     ]
    },
    {
     "name": "stderr",
     "output_type": "stream",
     "text": [
      "100%|██████████| 169/169 [00:50<00:00,  3.36it/s]\n",
      "100%|██████████| 19/19 [00:02<00:00,  6.78it/s]\n"
     ]
    },
    {
     "name": "stdout",
     "output_type": "stream",
     "text": [
      "Epoch 73: train loss 0.5386, valid loss 0.5583, valid acc 0.8358\n",
      "Start training epoch 74\n"
     ]
    },
    {
     "name": "stderr",
     "output_type": "stream",
     "text": [
      "100%|██████████| 169/169 [00:47<00:00,  3.55it/s]\n",
      "100%|██████████| 19/19 [00:02<00:00,  7.43it/s]\n"
     ]
    },
    {
     "name": "stdout",
     "output_type": "stream",
     "text": [
      "Epoch 74: train loss 0.5446, valid loss 0.5568, valid acc 0.8358\n",
      "Start training epoch 75\n"
     ]
    },
    {
     "name": "stderr",
     "output_type": "stream",
     "text": [
      "100%|██████████| 169/169 [00:47<00:00,  3.53it/s]\n",
      "100%|██████████| 19/19 [00:02<00:00,  8.32it/s]\n"
     ]
    },
    {
     "name": "stdout",
     "output_type": "stream",
     "text": [
      "Epoch 75: train loss 0.5275, valid loss 0.5554, valid acc 0.8350\n",
      "Start training epoch 76\n"
     ]
    },
    {
     "name": "stderr",
     "output_type": "stream",
     "text": [
      "100%|██████████| 169/169 [00:48<00:00,  3.49it/s]\n",
      "100%|██████████| 19/19 [00:02<00:00,  8.53it/s]\n"
     ]
    },
    {
     "name": "stdout",
     "output_type": "stream",
     "text": [
      "Epoch 76: train loss 0.5297, valid loss 0.5547, valid acc 0.8366\n",
      "Start training epoch 77\n"
     ]
    },
    {
     "name": "stderr",
     "output_type": "stream",
     "text": [
      "100%|██████████| 169/169 [00:49<00:00,  3.43it/s]\n",
      "100%|██████████| 19/19 [00:02<00:00,  7.52it/s]\n"
     ]
    },
    {
     "name": "stdout",
     "output_type": "stream",
     "text": [
      "Epoch 77: train loss 0.5283, valid loss 0.5530, valid acc 0.8333\n",
      "Start training epoch 78\n"
     ]
    },
    {
     "name": "stderr",
     "output_type": "stream",
     "text": [
      "100%|██████████| 169/169 [00:52<00:00,  3.20it/s]\n",
      "100%|██████████| 19/19 [00:03<00:00,  5.92it/s]\n"
     ]
    },
    {
     "name": "stdout",
     "output_type": "stream",
     "text": [
      "Epoch 78: train loss 0.5229, valid loss 0.5523, valid acc 0.8358\n",
      "Start training epoch 79\n"
     ]
    },
    {
     "name": "stderr",
     "output_type": "stream",
     "text": [
      "100%|██████████| 169/169 [00:52<00:00,  3.19it/s]\n",
      "100%|██████████| 19/19 [00:02<00:00,  8.16it/s]\n"
     ]
    },
    {
     "name": "stdout",
     "output_type": "stream",
     "text": [
      "Epoch 79: train loss 0.5213, valid loss 0.5507, valid acc 0.8366\n",
      "Start training epoch 80\n"
     ]
    },
    {
     "name": "stderr",
     "output_type": "stream",
     "text": [
      "100%|██████████| 169/169 [00:49<00:00,  3.40it/s]\n",
      "100%|██████████| 19/19 [00:03<00:00,  5.44it/s]\n"
     ]
    },
    {
     "name": "stdout",
     "output_type": "stream",
     "text": [
      "Epoch 80: train loss 0.5228, valid loss 0.5494, valid acc 0.8383\n",
      "Start training epoch 81\n"
     ]
    },
    {
     "name": "stderr",
     "output_type": "stream",
     "text": [
      "100%|██████████| 169/169 [00:54<00:00,  3.12it/s]\n",
      "100%|██████████| 19/19 [00:03<00:00,  6.25it/s]\n"
     ]
    },
    {
     "name": "stdout",
     "output_type": "stream",
     "text": [
      "Epoch 81: train loss 0.5195, valid loss 0.5476, valid acc 0.8374\n",
      "Start training epoch 82\n"
     ]
    },
    {
     "name": "stderr",
     "output_type": "stream",
     "text": [
      "100%|██████████| 169/169 [00:52<00:00,  3.21it/s]\n",
      "100%|██████████| 19/19 [00:03<00:00,  6.11it/s]\n"
     ]
    },
    {
     "name": "stdout",
     "output_type": "stream",
     "text": [
      "Epoch 82: train loss 0.5126, valid loss 0.5467, valid acc 0.8358\n",
      "Start training epoch 83\n"
     ]
    },
    {
     "name": "stderr",
     "output_type": "stream",
     "text": [
      "100%|██████████| 169/169 [00:53<00:00,  3.15it/s]\n",
      "100%|██████████| 19/19 [00:03<00:00,  6.18it/s]\n"
     ]
    },
    {
     "name": "stdout",
     "output_type": "stream",
     "text": [
      "Epoch 83: train loss 0.5093, valid loss 0.5449, valid acc 0.8374\n",
      "Start training epoch 84\n"
     ]
    },
    {
     "name": "stderr",
     "output_type": "stream",
     "text": [
      "100%|██████████| 169/169 [00:49<00:00,  3.39it/s]\n",
      "100%|██████████| 19/19 [00:03<00:00,  6.16it/s]\n"
     ]
    },
    {
     "name": "stdout",
     "output_type": "stream",
     "text": [
      "Epoch 84: train loss 0.5073, valid loss 0.5443, valid acc 0.8383\n",
      "Start training epoch 85\n"
     ]
    },
    {
     "name": "stderr",
     "output_type": "stream",
     "text": [
      "100%|██████████| 169/169 [00:53<00:00,  3.17it/s]\n",
      "100%|██████████| 19/19 [00:02<00:00,  6.74it/s]\n"
     ]
    },
    {
     "name": "stdout",
     "output_type": "stream",
     "text": [
      "Epoch 85: train loss 0.5102, valid loss 0.5426, valid acc 0.8366\n",
      "Start training epoch 86\n"
     ]
    },
    {
     "name": "stderr",
     "output_type": "stream",
     "text": [
      "100%|██████████| 169/169 [00:51<00:00,  3.26it/s]\n",
      "100%|██████████| 19/19 [00:02<00:00,  7.36it/s]\n"
     ]
    },
    {
     "name": "stdout",
     "output_type": "stream",
     "text": [
      "Epoch 86: train loss 0.5056, valid loss 0.5416, valid acc 0.8374\n",
      "Start training epoch 87\n"
     ]
    },
    {
     "name": "stderr",
     "output_type": "stream",
     "text": [
      "100%|██████████| 169/169 [00:56<00:00,  2.98it/s]\n",
      "100%|██████████| 19/19 [00:03<00:00,  5.81it/s]\n"
     ]
    },
    {
     "name": "stdout",
     "output_type": "stream",
     "text": [
      "Epoch 87: train loss 0.5015, valid loss 0.5400, valid acc 0.8374\n",
      "Start training epoch 88\n"
     ]
    },
    {
     "name": "stderr",
     "output_type": "stream",
     "text": [
      "100%|██████████| 169/169 [00:49<00:00,  3.42it/s]\n",
      "100%|██████████| 19/19 [00:02<00:00,  7.97it/s]\n"
     ]
    },
    {
     "name": "stdout",
     "output_type": "stream",
     "text": [
      "Epoch 88: train loss 0.4959, valid loss 0.5399, valid acc 0.8358\n",
      "Start training epoch 89\n"
     ]
    },
    {
     "name": "stderr",
     "output_type": "stream",
     "text": [
      "100%|██████████| 169/169 [00:50<00:00,  3.36it/s]\n",
      "100%|██████████| 19/19 [00:02<00:00,  8.79it/s]\n"
     ]
    },
    {
     "name": "stdout",
     "output_type": "stream",
     "text": [
      "Epoch 89: train loss 0.5008, valid loss 0.5388, valid acc 0.8358\n",
      "Start training epoch 90\n"
     ]
    },
    {
     "name": "stderr",
     "output_type": "stream",
     "text": [
      "100%|██████████| 169/169 [00:49<00:00,  3.38it/s]\n",
      "100%|██████████| 19/19 [00:02<00:00,  7.31it/s]\n"
     ]
    },
    {
     "name": "stdout",
     "output_type": "stream",
     "text": [
      "Epoch 90: train loss 0.5019, valid loss 0.5364, valid acc 0.8358\n",
      "Start training epoch 91\n"
     ]
    },
    {
     "name": "stderr",
     "output_type": "stream",
     "text": [
      "100%|██████████| 169/169 [00:49<00:00,  3.39it/s]\n",
      "100%|██████████| 19/19 [00:02<00:00,  8.07it/s]\n"
     ]
    },
    {
     "name": "stdout",
     "output_type": "stream",
     "text": [
      "Epoch 91: train loss 0.4966, valid loss 0.5360, valid acc 0.8342\n",
      "Start training epoch 92\n"
     ]
    },
    {
     "name": "stderr",
     "output_type": "stream",
     "text": [
      "100%|██████████| 169/169 [00:47<00:00,  3.54it/s]\n",
      "100%|██████████| 19/19 [00:02<00:00,  8.89it/s]\n"
     ]
    },
    {
     "name": "stdout",
     "output_type": "stream",
     "text": [
      "Epoch 92: train loss 0.5016, valid loss 0.5355, valid acc 0.8363\n",
      "Start training epoch 93\n"
     ]
    },
    {
     "name": "stderr",
     "output_type": "stream",
     "text": [
      "100%|██████████| 169/169 [00:46<00:00,  3.64it/s]\n",
      "100%|██████████| 19/19 [00:02<00:00,  7.45it/s]\n"
     ]
    },
    {
     "name": "stdout",
     "output_type": "stream",
     "text": [
      "Epoch 93: train loss 0.4854, valid loss 0.5339, valid acc 0.8383\n",
      "Start training epoch 94\n"
     ]
    },
    {
     "name": "stderr",
     "output_type": "stream",
     "text": [
      "100%|██████████| 169/169 [00:49<00:00,  3.42it/s]\n",
      "100%|██████████| 19/19 [00:02<00:00,  8.57it/s]\n"
     ]
    },
    {
     "name": "stdout",
     "output_type": "stream",
     "text": [
      "Epoch 94: train loss 0.4864, valid loss 0.5332, valid acc 0.8383\n",
      "Start training epoch 95\n"
     ]
    },
    {
     "name": "stderr",
     "output_type": "stream",
     "text": [
      "100%|██████████| 169/169 [00:48<00:00,  3.46it/s]\n",
      "100%|██████████| 19/19 [00:02<00:00,  8.98it/s]\n"
     ]
    },
    {
     "name": "stdout",
     "output_type": "stream",
     "text": [
      "Epoch 95: train loss 0.4867, valid loss 0.5328, valid acc 0.8363\n",
      "Start training epoch 96\n"
     ]
    },
    {
     "name": "stderr",
     "output_type": "stream",
     "text": [
      "100%|██████████| 169/169 [00:49<00:00,  3.40it/s]\n",
      "100%|██████████| 19/19 [00:02<00:00,  7.94it/s]\n"
     ]
    },
    {
     "name": "stdout",
     "output_type": "stream",
     "text": [
      "Epoch 96: train loss 0.4860, valid loss 0.5311, valid acc 0.8347\n",
      "Start training epoch 97\n"
     ]
    },
    {
     "name": "stderr",
     "output_type": "stream",
     "text": [
      "100%|██████████| 169/169 [00:53<00:00,  3.18it/s]\n",
      "100%|██████████| 19/19 [00:02<00:00,  8.06it/s]\n"
     ]
    },
    {
     "name": "stdout",
     "output_type": "stream",
     "text": [
      "Epoch 97: train loss 0.4840, valid loss 0.5296, valid acc 0.8363\n",
      "Start training epoch 98\n"
     ]
    },
    {
     "name": "stderr",
     "output_type": "stream",
     "text": [
      "100%|██████████| 169/169 [00:48<00:00,  3.47it/s]\n",
      "100%|██████████| 19/19 [00:02<00:00,  6.52it/s]\n"
     ]
    },
    {
     "name": "stdout",
     "output_type": "stream",
     "text": [
      "Epoch 98: train loss 0.4825, valid loss 0.5283, valid acc 0.8374\n",
      "Start training epoch 99\n"
     ]
    },
    {
     "name": "stderr",
     "output_type": "stream",
     "text": [
      "100%|██████████| 169/169 [00:50<00:00,  3.36it/s]\n",
      "100%|██████████| 19/19 [00:02<00:00,  8.26it/s]\n"
     ]
    },
    {
     "name": "stdout",
     "output_type": "stream",
     "text": [
      "Epoch 99: train loss 0.4733, valid loss 0.5279, valid acc 0.8380\n"
     ]
    }
   ],
   "source": [
    "%run pretrain.py --model_type efficientnet_b0 --n_epochs 100"
   ]
  }
 ],
 "metadata": {
  "interpreter": {
   "hash": "fa1d2dbcebe987bff96301192323ddc65add43aaebe4ff9c478db95e00f0a1e9"
  },
  "kernelspec": {
   "display_name": "nlp",
   "language": "python",
   "name": "python3"
  },
  "language_info": {
   "codemirror_mode": {
    "name": "ipython",
    "version": 3
   },
   "file_extension": ".py",
   "mimetype": "text/x-python",
   "name": "python",
   "nbconvert_exporter": "python",
   "pygments_lexer": "ipython3",
   "version": "3.9.5"
  }
 },
 "nbformat": 4,
 "nbformat_minor": 1
}
